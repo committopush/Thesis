{
 "cells": [
  {
   "cell_type": "code",
   "execution_count": null,
   "id": "initial_id",
   "metadata": {
    "collapsed": true
   },
   "outputs": [],
   "source": [
    "from tqdm import tqdm\n",
    "import pandas as pd\n",
    "import string\n",
    "from nltk.corpus import stopwords\n",
    "import nltk"
   ]
  },
  {
   "metadata": {},
   "cell_type": "code",
   "outputs": [],
   "execution_count": null,
   "source": [
    "# Download stopwords if necessary\n",
    "nltk.download('stopwords')"
   ],
   "id": "d1a58fe9b18a13c9"
  },
  {
   "metadata": {},
   "cell_type": "code",
   "outputs": [],
   "execution_count": null,
   "source": [
    "# Load sentiment dictionaries and speech dataframe\n",
    "sentiment_df_1 = pd.read_csv('sent_dictionary_1.csv')\n",
    "sentiment_df_2 = pd.read_csv('sent_dictionary_2.csv')\n",
    "speeches_df = pd.read_pickle('content_df_features.pkl')"
   ],
   "id": "6e920ca73b675ff5"
  },
  {
   "metadata": {},
   "cell_type": "code",
   "outputs": [],
   "execution_count": null,
   "source": [
    "# Prepare German stopwords and process speech content\n",
    "stop_words = set(stopwords.words('german'))\n",
    "sentiment_scores_1 = dict(zip(sentiment_df_1['v2'], sentiment_df_1['v3']))\n",
    "sentiment_scores_2 = dict(zip(sentiment_df_2['feature'].str.strip(), sentiment_df_2['sentiment']))"
   ],
   "id": "b2cdda452c2d572f"
  },
  {
   "metadata": {},
   "cell_type": "code",
   "outputs": [],
   "execution_count": null,
   "source": [
    "def preprocess_text(text):\n",
    "    # Lowercase, remove punctuation, and filter out stopwords\n",
    "    return [word for word in text.lower().translate(str.maketrans('', '', string.punctuation)).split()\n",
    "            if word not in stop_words]"
   ],
   "id": "c3d058e2aa62b66b"
  },
  {
   "metadata": {},
   "cell_type": "code",
   "outputs": [],
   "execution_count": null,
   "source": [
    "# Apply preprocessing with tqdm\n",
    "tqdm.pandas(desc=\"Preproocessing speeches\")\n",
    "speeches_df['processed_content'] = speeches_df['speech_content'].progress_apply(preprocess_text)"
   ],
   "id": "50b5bf72ec5f7966"
  },
  {
   "metadata": {},
   "cell_type": "code",
   "outputs": [],
   "execution_count": null,
   "source": [
    "# Calculate sentiment score with sentiment dictionary\n",
    "def calculate_sentiment_score(words, sentiment_scores):\n",
    "    total_score = sum(sentiment_scores.get(word, 0) for word in words if word in sentiment_scores)\n",
    "    return total_score / len(words) if len(words) > 0 else 0"
   ],
   "id": "42c289a6f249bfc8"
  },
  {
   "metadata": {},
   "cell_type": "code",
   "outputs": [],
   "execution_count": null,
   "source": [
    "tqdm.pandas(desc=\"Computing sentiment score with dictionary 1:\")\n",
    "speeches_df['sentiment_score_1'] = speeches_df['processed_content'].progress_apply(\n",
    "    lambda words: calculate_sentiment_score(words, sentiment_scores_1)\n",
    ")"
   ],
   "id": "5142d3027c6e30e6"
  },
  {
   "metadata": {},
   "cell_type": "code",
   "outputs": [],
   "execution_count": null,
   "source": [
    "tqdm.pandas(desc=\"Computing sentiment score with dictionary 2:\")\n",
    "speeches_df['sentiment_score_2'] = speeches_df['processed_content'].progress_apply(\n",
    "    lambda words: calculate_sentiment_score(words, sentiment_scores_2)\n",
    ")"
   ],
   "id": "31bb7ca1488b2cec"
  },
  {
   "metadata": {},
   "cell_type": "code",
   "outputs": [],
   "execution_count": null,
   "source": [
    "# Save results\n",
    "speeches_df.to_pickle('speeches_with_sentiment.pkl')"
   ],
   "id": "88adaa5ea2965087"
  }
 ],
 "metadata": {
  "kernelspec": {
   "display_name": "Python 3",
   "language": "python",
   "name": "python3"
  },
  "language_info": {
   "codemirror_mode": {
    "name": "ipython",
    "version": 2
   },
   "file_extension": ".py",
   "mimetype": "text/x-python",
   "name": "python",
   "nbconvert_exporter": "python",
   "pygments_lexer": "ipython2",
   "version": "2.7.6"
  }
 },
 "nbformat": 4,
 "nbformat_minor": 5
}
