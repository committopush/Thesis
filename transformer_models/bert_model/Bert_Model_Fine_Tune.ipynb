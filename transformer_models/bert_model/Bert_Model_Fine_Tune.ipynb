{
  "cells": [
    {
      "cell_type": "markdown",
      "metadata": {
        "id": "iEUlXa_KcY6b"
      },
      "source": [
        "## 1.Imports"
      ]
    },
    {
      "cell_type": "code",
      "execution_count": 1,
      "metadata": {
        "colab": {
          "base_uri": "https://localhost:8080/"
        },
        "id": "XtPiBAIpZYJ8",
        "outputId": "d5a4c323-5c88-47a8-c0f5-c5c6b7105e99"
      },
      "outputs": [
        {
          "output_type": "stream",
          "name": "stdout",
          "text": [
            "Collecting optuna\n",
            "  Downloading optuna-4.1.0-py3-none-any.whl.metadata (16 kB)\n",
            "Collecting alembic>=1.5.0 (from optuna)\n",
            "  Downloading alembic-1.14.0-py3-none-any.whl.metadata (7.4 kB)\n",
            "Collecting colorlog (from optuna)\n",
            "  Downloading colorlog-6.9.0-py3-none-any.whl.metadata (10 kB)\n",
            "Requirement already satisfied: numpy in /usr/local/lib/python3.10/dist-packages (from optuna) (1.26.4)\n",
            "Requirement already satisfied: packaging>=20.0 in /usr/local/lib/python3.10/dist-packages (from optuna) (24.2)\n",
            "Requirement already satisfied: sqlalchemy>=1.4.2 in /usr/local/lib/python3.10/dist-packages (from optuna) (2.0.36)\n",
            "Requirement already satisfied: tqdm in /usr/local/lib/python3.10/dist-packages (from optuna) (4.66.6)\n",
            "Requirement already satisfied: PyYAML in /usr/local/lib/python3.10/dist-packages (from optuna) (6.0.2)\n",
            "Collecting Mako (from alembic>=1.5.0->optuna)\n",
            "  Downloading Mako-1.3.6-py3-none-any.whl.metadata (2.9 kB)\n",
            "Requirement already satisfied: typing-extensions>=4 in /usr/local/lib/python3.10/dist-packages (from alembic>=1.5.0->optuna) (4.12.2)\n",
            "Requirement already satisfied: greenlet!=0.4.17 in /usr/local/lib/python3.10/dist-packages (from sqlalchemy>=1.4.2->optuna) (3.1.1)\n",
            "Requirement already satisfied: MarkupSafe>=0.9.2 in /usr/local/lib/python3.10/dist-packages (from Mako->alembic>=1.5.0->optuna) (3.0.2)\n",
            "Downloading optuna-4.1.0-py3-none-any.whl (364 kB)\n",
            "\u001b[2K   \u001b[90m━━━━━━━━━━━━━━━━━━━━━━━━━━━━━━━━━━━━━━━━\u001b[0m \u001b[32m364.4/364.4 kB\u001b[0m \u001b[31m15.7 MB/s\u001b[0m eta \u001b[36m0:00:00\u001b[0m\n",
            "\u001b[?25hDownloading alembic-1.14.0-py3-none-any.whl (233 kB)\n",
            "\u001b[2K   \u001b[90m━━━━━━━━━━━━━━━━━━━━━━━━━━━━━━━━━━━━━━━━\u001b[0m \u001b[32m233.5/233.5 kB\u001b[0m \u001b[31m15.4 MB/s\u001b[0m eta \u001b[36m0:00:00\u001b[0m\n",
            "\u001b[?25hDownloading colorlog-6.9.0-py3-none-any.whl (11 kB)\n",
            "Downloading Mako-1.3.6-py3-none-any.whl (78 kB)\n",
            "\u001b[2K   \u001b[90m━━━━━━━━━━━━━━━━━━━━━━━━━━━━━━━━━━━━━━━━\u001b[0m \u001b[32m78.6/78.6 kB\u001b[0m \u001b[31m5.8 MB/s\u001b[0m eta \u001b[36m0:00:00\u001b[0m\n",
            "\u001b[?25hInstalling collected packages: Mako, colorlog, alembic, optuna\n",
            "Successfully installed Mako-1.3.6 alembic-1.14.0 colorlog-6.9.0 optuna-4.1.0\n"
          ]
        }
      ],
      "source": [
        "!pip install optuna"
      ]
    },
    {
      "cell_type": "code",
      "execution_count": 2,
      "metadata": {
        "colab": {
          "base_uri": "https://localhost:8080/"
        },
        "id": "_z56UicTDcjL",
        "outputId": "1405d21a-a750-438e-8fdf-75ca1adf10b5"
      },
      "outputs": [
        {
          "output_type": "stream",
          "name": "stdout",
          "text": [
            "Mounted at /content/drive\n"
          ]
        }
      ],
      "source": [
        "from google.colab import drive\n",
        "drive.mount('/content/drive')"
      ]
    },
    {
      "cell_type": "code",
      "execution_count": 3,
      "metadata": {
        "id": "2XYGeINBARMN"
      },
      "outputs": [],
      "source": [
        "import numpy as np\n",
        "import pandas as pd\n",
        "import matplotlib.pyplot as plt\n",
        "from sklearn.metrics import confusion_matrix\n",
        "import seaborn as sns\n",
        "import json\n",
        "\n",
        "from sklearn.metrics import (\n",
        "    accuracy_score,\n",
        "    precision_recall_fscore_support,\n",
        "    precision_score,\n",
        "    recall_score,\n",
        "    f1_score,\n",
        "    roc_auc_score,\n",
        "    classification_report,\n",
        "    roc_curve,\n",
        ")\n",
        "\n",
        "import torch\n",
        "import torch.nn as nn\n",
        "from torch.optim import AdamW\n",
        "from torch.nn import BCEWithLogitsLoss, CrossEntropyLoss\n",
        "from torch.utils.data import DataLoader, TensorDataset\n",
        "\n",
        "from transformers import BertTokenizer, BertForSequenceClassification, Trainer, TrainingArguments, AdamW, get_linear_schedule_with_warmup\n",
        "\n",
        "import random\n",
        "from sklearn.utils.class_weight import compute_class_weight\n",
        "\n",
        "import optuna"
      ]
    },
    {
      "cell_type": "markdown",
      "metadata": {
        "id": "mz6UihLueZrz"
      },
      "source": [
        "## 2. Downloads and Data Preparation\n"
      ]
    },
    {
      "cell_type": "code",
      "execution_count": 4,
      "metadata": {
        "id": "CONSjlgcxUD9"
      },
      "outputs": [],
      "source": [
        "training_labels= pd.read_excel(\"/content/drive/MyDrive/training_labels_final_comments.xlsx\")\n",
        "validation_labels= pd.read_excel(\"/content/drive/MyDrive/validation_labels_final_comments.xlsx\")"
      ]
    },
    {
      "cell_type": "code",
      "execution_count": 5,
      "metadata": {
        "id": "mhWK6WekOxuF"
      },
      "outputs": [],
      "source": [
        "#remove \"\" from the beginning and the end of each speech content\n",
        "training_labels['speech_content'] = training_labels['speech_content'].str.replace(r'^[\"„“]|[\"„“]$', '', regex=True)\n",
        "validation_labels['speech_content'] = validation_labels['speech_content'].str.replace(r'^[\"„“]|[\"„“]$', '', regex=True)"
      ]
    },
    {
      "cell_type": "code",
      "execution_count": 7,
      "metadata": {
        "colab": {
          "base_uri": "https://localhost:8080/"
        },
        "id": "wjt1lz2zq1Y7",
        "outputId": "7f41222d-9d00-4191-ff37-4a607e4b87d6"
      },
      "outputs": [
        {
          "output_type": "stream",
          "name": "stdout",
          "text": [
            "Polarizing Sample Size: 824\n",
            "Neutral Sample Size: 3943\n",
            "Populist Sample Size: 348\n"
          ]
        }
      ],
      "source": [
        "polarizing_sample_size = training_labels['polarizing'].sum()\n",
        "neutral_sample_size = training_labels['neutral'].sum()\n",
        "populist_sample_size = training_labels['populist'].sum()\n",
        "\n",
        "print(f\"Polarizing Sample Size: {polarizing_sample_size}\")\n",
        "print(f\"Neutral Sample Size: {neutral_sample_size}\")\n",
        "print(f\"Populist Sample Size: {populist_sample_size}\")"
      ]
    },
    {
      "cell_type": "code",
      "execution_count": 9,
      "metadata": {
        "colab": {
          "base_uri": "https://localhost:8080/"
        },
        "id": "UtJzKcdtr-vw",
        "outputId": "d6ca01e4-d9b8-4bf8-cccd-1cb1b5d6aa73"
      },
      "outputs": [
        {
          "output_type": "execute_result",
          "data": {
            "text/plain": [
              "1648"
            ]
          },
          "metadata": {},
          "execution_count": 9
        }
      ],
      "source": [
        "# Polarizing Corpus Sampling\n",
        "# Sample polarizing and non-polarizing statements equal to the polarizing sample size (824)\n",
        "neutral_df_train_polarizing = training_labels[training_labels['neutral'] == 1]\n",
        "sample_neutral_train_polarizing = neutral_df_train_polarizing.sample(n=polarizing_sample_size, random_state=42)\n",
        "\n",
        "sample_polarizing_train = training_labels[training_labels['polarizing'] == 1]\n",
        "sampled_df_train_polarizing = pd.concat([sample_neutral_train_polarizing, sample_polarizing_train])\n",
        "len(sampled_df_train_polarizing)"
      ]
    },
    {
      "cell_type": "markdown",
      "metadata": {
        "id": "Ozkw--gVeN_K"
      },
      "source": [
        "## 3.Tokenization, Padding and Truncation"
      ]
    },
    {
      "cell_type": "code",
      "execution_count": 10,
      "metadata": {
        "colab": {
          "base_uri": "https://localhost:8080/",
          "height": 272,
          "referenced_widgets": [
            "14dcc93b18814fd38468ce5ac4356c42",
            "d96cb0e93fbf46b7b96e006d49ec0b44",
            "54eb7b0b5e1447b0ad69c4666847b039",
            "9aa3c5e97370429c9a43e08b1199065d",
            "207893d4fdfb46e0ad1e8dbb2cd1212d",
            "0e7a2de9df2947af9a6a7bc785410306",
            "cd2811bbd9de4681a0ae4fce426c6e18",
            "eb7a716bf8314dae842d83aa3becd6f4",
            "293759b0ba994852a64a0f719517ac87",
            "e92d21438fe84521b7777a67b736b57e",
            "a90c4e1751df4ce6bdde58ee4b078588",
            "5d33ccb15cc8482ea84710657c03d8de",
            "f6c4ce5a9cc44c708cfd51f01d93fdd3",
            "664fbfe82a1941b79104f6574f3bad6b",
            "ce9bcd96278e4e16ba3034c08719bed5",
            "6dafc236e23e42c88843d407df23a2c6",
            "93a8ee0c862141bd9afccce0e9898bc0",
            "ff21daa475514719bc872df1fd51fd8a",
            "1a0a689ecaf6494189f98ccb8cce1f27",
            "dbd591641e1e450499493a1ecff41e16",
            "396a1709d54d40e0a626e3f2829994f9",
            "2177ad920f6f41d3b5d2506e17a0937f",
            "67f50254f1a541fa90d841ec1312d55a",
            "0e93f905d4f7440ebc0a73b7bf19d539",
            "0abd28b828374aa6be11aa18836e15ec",
            "3fe9993d1ddf449194590da24b9ee048",
            "78701e482c784646951f6929a9c9fadb",
            "85c78219803b45788c2a80a407bf124b",
            "3ad317c79f894e119c676c4320f1b13b",
            "85cd76b62f03414b86ef11322ec8376d",
            "97a82509cd3043d9a5478fbf4150c285",
            "95a0e129446841aea29fad8f016943e3",
            "d8f3a0d1e5a541b79cce4ee5806562e6",
            "628cb99c7fb941f3b670332a0574f3bd",
            "ede4e11f0b2141518e89fdf46d4574f8",
            "647e6e2121b44e66aa846a18da4122d9",
            "144705e3c3494fb796cc320d18cad02a",
            "fb90839be631478b8726d33f77c8f1b1",
            "876817020dcd44ab9e6c4f9e0fe9d7ed",
            "755a614de89740169f1f0a4729655300",
            "59f8206a4e5348b9b312c6bf03a88ee2",
            "99f1c338a909451ba0dfe597e91f247c",
            "d2a45dbee5914a518fd34b426b3b3320",
            "2e0aff80bb494e9687cf85000cc9ddfc"
          ]
        },
        "id": "Y6o2ZxKD3inb",
        "outputId": "d6ffaf01-2aa0-458e-bc50-518964c5cb7e"
      },
      "outputs": [
        {
          "output_type": "stream",
          "name": "stderr",
          "text": [
            "/usr/local/lib/python3.10/dist-packages/huggingface_hub/utils/_auth.py:94: UserWarning: \n",
            "The secret `HF_TOKEN` does not exist in your Colab secrets.\n",
            "To authenticate with the Hugging Face Hub, create a token in your settings tab (https://huggingface.co/settings/tokens), set it as secret in your Google Colab and restart your session.\n",
            "You will be able to reuse this secret in all of your notebooks.\n",
            "Please note that authentication is recommended but still optional to access public models or datasets.\n",
            "  warnings.warn(\n"
          ]
        },
        {
          "output_type": "display_data",
          "data": {
            "text/plain": [
              "tokenizer_config.json:   0%|          | 0.00/49.0 [00:00<?, ?B/s]"
            ],
            "application/vnd.jupyter.widget-view+json": {
              "version_major": 2,
              "version_minor": 0,
              "model_id": "14dcc93b18814fd38468ce5ac4356c42"
            }
          },
          "metadata": {}
        },
        {
          "output_type": "display_data",
          "data": {
            "text/plain": [
              "vocab.txt:   0%|          | 0.00/255k [00:00<?, ?B/s]"
            ],
            "application/vnd.jupyter.widget-view+json": {
              "version_major": 2,
              "version_minor": 0,
              "model_id": "5d33ccb15cc8482ea84710657c03d8de"
            }
          },
          "metadata": {}
        },
        {
          "output_type": "display_data",
          "data": {
            "text/plain": [
              "tokenizer.json:   0%|          | 0.00/485k [00:00<?, ?B/s]"
            ],
            "application/vnd.jupyter.widget-view+json": {
              "version_major": 2,
              "version_minor": 0,
              "model_id": "67f50254f1a541fa90d841ec1312d55a"
            }
          },
          "metadata": {}
        },
        {
          "output_type": "display_data",
          "data": {
            "text/plain": [
              "config.json:   0%|          | 0.00/433 [00:00<?, ?B/s]"
            ],
            "application/vnd.jupyter.widget-view+json": {
              "version_major": 2,
              "version_minor": 0,
              "model_id": "628cb99c7fb941f3b670332a0574f3bd"
            }
          },
          "metadata": {}
        }
      ],
      "source": [
        "tokenizer = BertTokenizer.from_pretrained(\"bert-base-german-cased\")\n",
        "\n",
        "def encode(data, tokenizer, max_length=128):\n",
        "    input_ids = []\n",
        "    attention_masks = []\n",
        "\n",
        "    for text in data['speech_content']:\n",
        "        encoded = tokenizer(\n",
        "            text,\n",
        "            padding='max_length',\n",
        "            truncation=True,\n",
        "            max_length=max_length,\n",
        "            return_tensors='pt',\n",
        "            return_attention_mask=True\n",
        "        )\n",
        "\n",
        "        input_ids.append(encoded['input_ids'].squeeze(0))\n",
        "        attention_masks.append(encoded['attention_mask'].squeeze(0))\n",
        "\n",
        "    input_ids = torch.stack(input_ids)\n",
        "    attention_masks = torch.stack(attention_masks)\n",
        "\n",
        "    return input_ids, attention_masks"
      ]
    },
    {
      "cell_type": "code",
      "execution_count": 16,
      "metadata": {
        "colab": {
          "base_uri": "https://localhost:8080/"
        },
        "id": "kBYJP1UP4SDV",
        "outputId": "e1506290-bb86-4b0e-c413-adf706467824"
      },
      "outputs": [
        {
          "output_type": "stream",
          "name": "stdout",
          "text": [
            "Polarizing Train Length: 128\n",
            "Polarizing Validation Length: 128\n"
          ]
        }
      ],
      "source": [
        "# Tokenization for Polarizing Corpus\n",
        "train_input_ids_polarizing, train_attention_masks_polarizing = encode(sampled_df_train_polarizing, tokenizer)\n",
        "val_input_ids_polarizing, val_attention_masks_polarizing = encode(validation_labels, tokenizer)\n",
        "\n",
        "# Checking tokenized sequence lengths for polarizing corpus\n",
        "train_lengths_polarizing = train_input_ids_polarizing.size(1)\n",
        "val_lengths_polarizing = val_input_ids_polarizing.size(1)\n",
        "\n",
        "print(\"Polarizing Train Length:\", train_lengths_polarizing)\n",
        "print(\"Polarizing Validation Length:\", val_lengths_polarizing)\n"
      ]
    },
    {
      "cell_type": "markdown",
      "metadata": {
        "id": "9Th8PQVJGs3-"
      },
      "source": [
        "## 4. Train BERT model with Corpus"
      ]
    },
    {
      "cell_type": "code",
      "execution_count": 17,
      "metadata": {
        "id": "pNoUgmp54vnN"
      },
      "outputs": [],
      "source": [
        "# Define FocalLoss class\n",
        "class FocalLoss(nn.Module):\n",
        "    def __init__(self, alpha=1, gamma=2, reduction='mean'):\n",
        "        \"\"\"\n",
        "        Focal Loss for binary classification.\n",
        "\n",
        "        Args:\n",
        "            alpha (float): Weighting factor for the class. Adjusts the importance of positive vs negative examples.\n",
        "            gamma (float): Focusing parameter. Higher gamma focuses more on hard examples.\n",
        "            reduction (str): Specifies the reduction to apply to the output: 'none' | 'mean' | 'sum'.\n",
        "        \"\"\"\n",
        "        super(FocalLoss, self).__init__()\n",
        "        self.alpha = alpha\n",
        "        self.gamma = gamma\n",
        "        self.reduction = reduction\n",
        "\n",
        "    def forward(self, logits, targets):\n",
        "        # Compute the binary cross-entropy loss with logits\n",
        "        bce_loss = nn.functional.binary_cross_entropy_with_logits(\n",
        "            logits, targets, reduction='none'\n",
        "        )\n",
        "        # Apply sigmoid to logits to get probabilities\n",
        "        probs = torch.sigmoid(logits)\n",
        "        # Compute the focal loss factor\n",
        "        pt = torch.where(targets == 1, probs, 1 - probs)\n",
        "        focal_factor = self.alpha * (1 - pt) ** self.gamma\n",
        "        # Apply the focal factor to the loss\n",
        "        loss = focal_factor * bce_loss\n",
        "        # Reduction\n",
        "        if self.reduction == 'mean':\n",
        "            return loss.mean()\n",
        "        elif self.reduction == 'sum':\n",
        "            return loss.sum()\n",
        "        else:\n",
        "            return loss\n",
        "\n"
      ]
    },
    {
      "cell_type": "code",
      "execution_count": 18,
      "metadata": {
        "id": "c-bn-M06IE8k"
      },
      "outputs": [],
      "source": [
        "#define functions\n",
        "def initialize_model(learning_rate, pre_trained_model, dropout_prob=0.3, num_labels=1):\n",
        "    # Initialize the model with custom dropout probabilities\n",
        "    model = BertForSequenceClassification.from_pretrained(\n",
        "        pre_trained_model,\n",
        "        num_labels=num_labels,\n",
        "        hidden_dropout_prob=dropout_prob,  # Dropout for hidden layers\n",
        "        attention_probs_dropout_prob=dropout_prob  # Dropout for attention layers\n",
        "    )\n",
        "    model.to(device)\n",
        "\n",
        "    # Initialize the optimizer\n",
        "    optimizer = AdamW(model.parameters(), lr=learning_rate)\n",
        "\n",
        "    return model, optimizer\n",
        "\n",
        "def compute_class_weights(labels):\n",
        "    class_weights = compute_class_weight(\"balanced\", classes=np.unique(labels), y=labels)\n",
        "    return torch.tensor(class_weights, dtype=torch.float).to(device)\n",
        "\n",
        "def train_one_epoch(model, dataloader, optimizer, scheduler, criterion):\n",
        "    model.train()\n",
        "    total_loss = 0\n",
        "    for batch in dataloader:\n",
        "        batch_input_ids, batch_attention_masks, batch_labels = [b.to(device) for b in batch]\n",
        "        optimizer.zero_grad()\n",
        "        outputs = model(input_ids=batch_input_ids, attention_mask=batch_attention_masks)\n",
        "        logits = outputs.logits.squeeze(-1)\n",
        "        loss = criterion(logits, batch_labels)\n",
        "        loss.backward()\n",
        "        optimizer.step()\n",
        "        scheduler.step()\n",
        "        total_loss += loss.item()\n",
        "    return total_loss / len(dataloader)\n",
        "\n",
        "def validate(model, dataloader, criterion, threshold=0.5):\n",
        "    model.eval()\n",
        "    val_loss = 0\n",
        "    all_preds = []\n",
        "    all_labels = []\n",
        "    with torch.no_grad():\n",
        "        for batch in dataloader:\n",
        "            batch_input_ids, batch_attention_masks, batch_labels = [b.to(device) for b in batch]\n",
        "            outputs = model(input_ids=batch_input_ids, attention_mask=batch_attention_masks)\n",
        "            logits = outputs.logits.squeeze(-1)\n",
        "            loss = criterion(logits, batch_labels)\n",
        "            val_loss += loss.item()\n",
        "\n",
        "            # Apply sigmoid and use threshold for predictions\n",
        "            probs = torch.sigmoid(logits)\n",
        "            preds = (probs > threshold).float()\n",
        "            all_preds.extend(preds.cpu().numpy())\n",
        "            all_labels.extend(batch_labels.cpu().numpy())\n",
        "\n",
        "    # Return average validation loss, predictions, and labels\n",
        "    avg_val_loss = val_loss / len(dataloader)\n",
        "    return avg_val_loss, all_preds, all_labels"
      ]
    },
    {
      "cell_type": "markdown",
      "metadata": {
        "id": "KkG2LLqp3-f8"
      },
      "source": [
        "### 4.1 Build Base Model"
      ]
    },
    {
      "cell_type": "code",
      "execution_count": null,
      "metadata": {
        "colab": {
          "base_uri": "https://localhost:8080/"
        },
        "id": "LejXLEXS5NWO",
        "outputId": "fd158a00-9719-4208-8566-9d844066f772"
      },
      "outputs": [
        {
          "name": "stderr",
          "output_type": "stream",
          "text": [
            "Some weights of BertForSequenceClassification were not initialized from the model checkpoint at bert-base-german-cased and are newly initialized: ['classifier.bias', 'classifier.weight']\n",
            "You should probably TRAIN this model on a down-stream task to be able to use it for predictions and inference.\n",
            "/usr/local/lib/python3.10/dist-packages/transformers/optimization.py:591: FutureWarning: This implementation of AdamW is deprecated and will be removed in a future version. Use the PyTorch implementation torch.optim.AdamW instead, or set `no_deprecation_warning=True` to disable this warning\n",
            "  warnings.warn(\n"
          ]
        },
        {
          "name": "stdout",
          "output_type": "stream",
          "text": [
            "Epoch 1/3 - Training Loss: 0.6602 - Validation Loss: 0.6006\n",
            "Epoch 2/3 - Training Loss: 0.6211 - Validation Loss: 0.5852\n",
            "Epoch 3/3 - Training Loss: 0.5997 - Validation Loss: 0.5779\n"
          ]
        }
      ],
      "source": [
        "# Build base model with initial default parameters\n",
        "# Set device\n",
        "device = torch.device(\"cuda\" if torch.cuda.is_available() else \"cpu\")\n",
        "\n",
        "# Labels for training and validation\n",
        "labels_train = sampled_df_train_polarizing['polarizing'].astype(int).values\n",
        "labels_val = validation_labels['polarizing'].astype(int).values\n",
        "\n",
        "learning_rate = 1e-6\n",
        "warmup_steps = 0\n",
        "epochs = 3\n",
        "batch_size = 32\n",
        "\n",
        "# Initialize model, optimizer, and criterion\n",
        "baseline_model, optimizer = initialize_model(learning_rate = learning_rate, pre_trained_model= \"bert-base-german-cased\", dropout_prob= 0)\n",
        "class_weights = compute_class_weights(labels_train)\n",
        "criterion = torch.nn.BCEWithLogitsLoss(pos_weight=class_weights[1])\n",
        "\n",
        "# Create Dataloaders for final training\n",
        "train_dataset = TensorDataset(train_input_ids_polarizing, train_attention_masks_polarizing, torch.tensor(labels_train).float().to(device))\n",
        "train_dataloader = DataLoader(train_dataset, batch_size=batch_size, shuffle=True)\n",
        "\n",
        "val_dataset = TensorDataset(val_input_ids_polarizing, val_attention_masks_polarizing, torch.tensor(labels_val).float().to(device))\n",
        "val_dataloader = DataLoader(val_dataset, batch_size=batch_size)\n",
        "\n",
        "# Initialize scheduler\n",
        "scheduler = get_linear_schedule_with_warmup(optimizer, num_warmup_steps=warmup_steps, num_training_steps=len(train_dataloader) * epochs)\n",
        "\n",
        "# Training loop\n",
        "for epoch in range(epochs):\n",
        "    train_loss = train_one_epoch(baseline_model, train_dataloader, optimizer, scheduler, criterion)\n",
        "    val_loss, all_preds, all_labels = validate(baseline_model, val_dataloader, criterion, threshold=0.5)\n",
        "    print(f\"Epoch {epoch + 1}/{epochs} - Training Loss: {train_loss:.4f} - Validation Loss: {val_loss:.4f}\")\n"
      ]
    },
    {
      "cell_type": "markdown",
      "metadata": {
        "id": "GDTZKXrjnehC"
      },
      "source": [
        "### 4.2 Hyperparameter Tuning & Fine-Tuning\n"
      ]
    },
    {
      "cell_type": "markdown",
      "metadata": {
        "id": "q_WPRmgfk5yw"
      },
      "source": [
        "#### 4.2.1 Hyperparameter Tuning with Focal Loss"
      ]
    },
    {
      "cell_type": "code",
      "execution_count": null,
      "metadata": {
        "colab": {
          "base_uri": "https://localhost:8080/"
        },
        "id": "YYKxuP0IrHrm",
        "outputId": "3ca7d09b-2727-4934-a83e-19ce3687efe0"
      },
      "outputs": [
        {
          "name": "stderr",
          "output_type": "stream",
          "text": [
            "[I 2024-11-12 16:15:36,696] A new study created in memory with name: no-name-b795ea54-14b2-477d-820c-013f3ad5b1f3\n",
            "Some weights of BertForSequenceClassification were not initialized from the model checkpoint at bert-base-german-cased and are newly initialized: ['classifier.bias', 'classifier.weight']\n",
            "You should probably TRAIN this model on a down-stream task to be able to use it for predictions and inference.\n",
            "/usr/local/lib/python3.10/dist-packages/transformers/optimization.py:591: FutureWarning: This implementation of AdamW is deprecated and will be removed in a future version. Use the PyTorch implementation torch.optim.AdamW instead, or set `no_deprecation_warning=True` to disable this warning\n",
            "  warnings.warn(\n"
          ]
        },
        {
          "name": "stdout",
          "output_type": "stream",
          "text": [
            "Epoch 1/6 - Training Loss: 0.0126 - Validation Loss: 0.0049\n",
            "Epoch 2/6 - Training Loss: 0.0105 - Validation Loss: 0.0051\n",
            "Epoch 3/6 - Training Loss: 0.0093 - Validation Loss: 0.0044\n",
            "Epoch 4/6 - Training Loss: 0.0086 - Validation Loss: 0.0035\n",
            "Epoch 5/6 - Training Loss: 0.0079 - Validation Loss: 0.0030\n"
          ]
        },
        {
          "name": "stderr",
          "output_type": "stream",
          "text": [
            "[I 2024-11-12 16:21:24,132] Trial 0 finished with value: 0.002576107967788084 and parameters: {'learning_rate': 1.7471550463965897e-06, 'batch_size': 8, 'epochs': 6, 'warmup_ratio': 0.1558064286982542, 'dropout_prob': 0.31667649831437317, 'alpha': 0.4060251925650857, 'gamma': 4.870972803846547}. Best is trial 0 with value: 0.002576107967788084.\n"
          ]
        },
        {
          "name": "stdout",
          "output_type": "stream",
          "text": [
            "Epoch 6/6 - Training Loss: 0.0068 - Validation Loss: 0.0026\n"
          ]
        },
        {
          "name": "stderr",
          "output_type": "stream",
          "text": [
            "Some weights of BertForSequenceClassification were not initialized from the model checkpoint at bert-base-german-cased and are newly initialized: ['classifier.bias', 'classifier.weight']\n",
            "You should probably TRAIN this model on a down-stream task to be able to use it for predictions and inference.\n"
          ]
        },
        {
          "name": "stdout",
          "output_type": "stream",
          "text": [
            "Epoch 1/10 - Training Loss: 0.2481 - Validation Loss: 0.2415\n",
            "Epoch 2/10 - Training Loss: 0.1901 - Validation Loss: 0.1455\n",
            "Epoch 3/10 - Training Loss: 0.1315 - Validation Loss: 0.0711\n",
            "Epoch 4/10 - Training Loss: 0.0893 - Validation Loss: 0.1215\n",
            "Epoch 5/10 - Training Loss: 0.0624 - Validation Loss: 0.0569\n",
            "Epoch 6/10 - Training Loss: 0.0404 - Validation Loss: 0.0716\n",
            "Epoch 7/10 - Training Loss: 0.0206 - Validation Loss: 0.0655\n"
          ]
        },
        {
          "name": "stderr",
          "output_type": "stream",
          "text": [
            "[I 2024-11-12 16:29:06,735] Trial 1 finished with value: 0.05687668275371088 and parameters: {'learning_rate': 7.181887871403741e-06, 'batch_size': 8, 'epochs': 10, 'warmup_ratio': 0.14397869073700062, 'dropout_prob': 0.12343279351913683, 'alpha': 0.8550054649183767, 'gamma': 1.4470538503602342}. Best is trial 0 with value: 0.002576107967788084.\n"
          ]
        },
        {
          "name": "stdout",
          "output_type": "stream",
          "text": [
            "Early stopping at epoch 8\n"
          ]
        },
        {
          "name": "stderr",
          "output_type": "stream",
          "text": [
            "Some weights of BertForSequenceClassification were not initialized from the model checkpoint at bert-base-german-cased and are newly initialized: ['classifier.bias', 'classifier.weight']\n",
            "You should probably TRAIN this model on a down-stream task to be able to use it for predictions and inference.\n"
          ]
        },
        {
          "name": "stdout",
          "output_type": "stream",
          "text": [
            "Epoch 1/9 - Training Loss: 0.1817 - Validation Loss: 0.1389\n",
            "Epoch 2/9 - Training Loss: 0.1792 - Validation Loss: 0.1441\n",
            "Epoch 3/9 - Training Loss: 0.1727 - Validation Loss: 0.1410\n",
            "Epoch 4/9 - Training Loss: 0.1688 - Validation Loss: 0.1334\n",
            "Epoch 5/9 - Training Loss: 0.1611 - Validation Loss: 0.1176\n",
            "Epoch 6/9 - Training Loss: 0.1509 - Validation Loss: 0.1017\n",
            "Epoch 7/9 - Training Loss: 0.1357 - Validation Loss: 0.0882\n",
            "Epoch 8/9 - Training Loss: 0.1192 - Validation Loss: 0.0675\n"
          ]
        },
        {
          "name": "stderr",
          "output_type": "stream",
          "text": [
            "[I 2024-11-12 16:36:36,469] Trial 2 finished with value: 0.05189404783534332 and parameters: {'learning_rate': 6.539943897122264e-06, 'batch_size': 32, 'epochs': 9, 'warmup_ratio': 0.09411411908573052, 'dropout_prob': 0.3490055087522138, 'alpha': 0.6210587786491538, 'gamma': 1.3124934052897537}. Best is trial 0 with value: 0.002576107967788084.\n"
          ]
        },
        {
          "name": "stdout",
          "output_type": "stream",
          "text": [
            "Epoch 9/9 - Training Loss: 0.0985 - Validation Loss: 0.0519\n"
          ]
        },
        {
          "name": "stderr",
          "output_type": "stream",
          "text": [
            "Some weights of BertForSequenceClassification were not initialized from the model checkpoint at bert-base-german-cased and are newly initialized: ['classifier.bias', 'classifier.weight']\n",
            "You should probably TRAIN this model on a down-stream task to be able to use it for predictions and inference.\n"
          ]
        },
        {
          "name": "stdout",
          "output_type": "stream",
          "text": [
            "Epoch 1/9 - Training Loss: 0.0305 - Validation Loss: 0.0190\n",
            "Epoch 2/9 - Training Loss: 0.0241 - Validation Loss: 0.0109\n",
            "Epoch 3/9 - Training Loss: 0.0176 - Validation Loss: 0.0084\n",
            "Epoch 4/9 - Training Loss: 0.0157 - Validation Loss: 0.0075\n",
            "Epoch 5/9 - Training Loss: 0.0160 - Validation Loss: 0.0084\n",
            "Epoch 6/9 - Training Loss: 0.0134 - Validation Loss: 0.0059\n",
            "Epoch 7/9 - Training Loss: 0.0107 - Validation Loss: 0.0065\n",
            "Epoch 8/9 - Training Loss: 0.0117 - Validation Loss: 0.0092\n"
          ]
        },
        {
          "name": "stderr",
          "output_type": "stream",
          "text": [
            "[I 2024-11-12 16:44:06,124] Trial 3 finished with value: 0.00586719723569203 and parameters: {'learning_rate': 7.901641026371278e-05, 'batch_size': 32, 'epochs': 9, 'warmup_ratio': 0.023875898779428195, 'dropout_prob': 0.4823385790793404, 'alpha': 0.2584318096905236, 'gamma': 2.8618662704248687}. Best is trial 0 with value: 0.002576107967788084.\n"
          ]
        },
        {
          "name": "stdout",
          "output_type": "stream",
          "text": [
            "Early stopping at epoch 9\n"
          ]
        },
        {
          "name": "stderr",
          "output_type": "stream",
          "text": [
            "Some weights of BertForSequenceClassification were not initialized from the model checkpoint at bert-base-german-cased and are newly initialized: ['classifier.bias', 'classifier.weight']\n",
            "You should probably TRAIN this model on a down-stream task to be able to use it for predictions and inference.\n"
          ]
        },
        {
          "name": "stdout",
          "output_type": "stream",
          "text": [
            "Epoch 1/6 - Training Loss: 0.0575 - Validation Loss: 0.0326\n",
            "Epoch 2/6 - Training Loss: 0.0449 - Validation Loss: 0.0259\n",
            "Epoch 3/6 - Training Loss: 0.0393 - Validation Loss: 0.0190\n",
            "Epoch 4/6 - Training Loss: 0.0311 - Validation Loss: 0.0123\n",
            "Epoch 5/6 - Training Loss: 0.0254 - Validation Loss: 0.0106\n"
          ]
        },
        {
          "name": "stderr",
          "output_type": "stream",
          "text": [
            "[I 2024-11-12 16:49:53,519] Trial 4 finished with value: 0.01044520020218362 and parameters: {'learning_rate': 3.2036570402294023e-06, 'batch_size': 8, 'epochs': 6, 'warmup_ratio': 0.08678420951499961, 'dropout_prob': 0.3690041492124597, 'alpha': 0.7968031451077466, 'gamma': 3.6275950416844434}. Best is trial 0 with value: 0.002576107967788084.\n"
          ]
        },
        {
          "name": "stdout",
          "output_type": "stream",
          "text": [
            "Epoch 6/6 - Training Loss: 0.0224 - Validation Loss: 0.0104\n"
          ]
        }
      ],
      "source": [
        "# Using Optuna to find the best hyperparamters to improve model performance using Focal Loss as Loss function\n",
        "\n",
        "# Set device\n",
        "device = torch.device(\"cuda\" if torch.cuda.is_available() else \"cpu\")\n",
        "\n",
        "# Labels for training and validation\n",
        "labels_train = sampled_df_train_polarizing['polarizing'].astype(int).values\n",
        "labels_val = validation_labels['polarizing'].astype(int).values\n",
        "\n",
        "# Optuna objective function\n",
        "def objective_focal_loss(trial):\n",
        "    # Define hyperparameters from Optuna\n",
        "    learning_rate = trial.suggest_float(\"learning_rate\", 1e-6, 1e-4, log=True)\n",
        "    batch_size = trial.suggest_categorical(\"batch_size\", [8, 16, 32])\n",
        "    epochs = trial.suggest_int(\"epochs\", 5, 10)\n",
        "    warmup_ratio = trial.suggest_float(\"warmup_ratio\", 0.0, 0.2)\n",
        "    dropout_prob = trial.suggest_float(\"dropout_prob\", 0.1, 0.5)\n",
        "\n",
        "    # Suggest alpha and gamma for Focal Loss\n",
        "    alpha = trial.suggest_float(\"alpha\", 0.25, 1.0)\n",
        "    gamma = trial.suggest_float(\"gamma\", 1.0, 5.0)\n",
        "\n",
        "\n",
        "    # Calculate total steps and warmup steps\n",
        "    total_steps = len(train_input_ids_polarizing) * epochs\n",
        "    warmup_steps = int(total_steps * warmup_ratio)\n",
        "\n",
        "    # Create the dataset and dataloaders\n",
        "    train_dataset = TensorDataset(train_input_ids_polarizing, train_attention_masks_polarizing, torch.tensor(labels_train).float().to(device))\n",
        "    train_dataloader = DataLoader(train_dataset, batch_size=batch_size, shuffle=True)\n",
        "\n",
        "    val_dataset = TensorDataset(val_input_ids_polarizing, val_attention_masks_polarizing, torch.tensor(labels_val).float().to(device))\n",
        "    val_dataloader = DataLoader(val_dataset, batch_size=batch_size)\n",
        "\n",
        "    # Initialize model, optimizer, and criterion\n",
        "    model, optimizer = initialize_model(learning_rate=learning_rate, pre_trained_model=\"bert-base-german-cased\", dropout_prob=dropout_prob)\n",
        "    criterion = FocalLoss(alpha=alpha, gamma=gamma)\n",
        "\n",
        "    # Initialize scheduler\n",
        "    scheduler = get_linear_schedule_with_warmup(optimizer, num_warmup_steps=warmup_steps, num_training_steps=total_steps)\n",
        "\n",
        "    # Early stopping parameters\n",
        "    best_val_loss = float(\"inf\")\n",
        "    no_improvement_epochs = 0\n",
        "\n",
        "    # Training loop\n",
        "    for epoch in range(epochs):\n",
        "        # Calculate the average training loss\n",
        "        avg_train_loss = train_one_epoch(model, train_dataloader, optimizer, scheduler, criterion)\n",
        "\n",
        "        val_loss, all_preds, all_labels = validate(model, val_dataloader, criterion, threshold=0.8)\n",
        "\n",
        "        if val_loss < best_val_loss:\n",
        "            best_val_loss = val_loss\n",
        "            no_improvement_epochs = 0\n",
        "        else:\n",
        "            no_improvement_epochs += 1\n",
        "\n",
        "        if no_improvement_epochs >= 3:\n",
        "            print(f\"Early stopping at epoch {epoch + 1}\")\n",
        "            break\n",
        "\n",
        "        # Print progress with correctly defined average losses\n",
        "        print(f\"Epoch {epoch + 1}/{epochs} - Training Loss: {avg_train_loss:.4f} - Validation Loss: {val_loss:.4f}\")\n",
        "\n",
        "    return best_val_loss\n",
        "\n",
        "\n",
        "# Run Optuna study\n",
        "study_focal_loss = optuna.create_study(direction=\"minimize\")\n",
        "study_focal_loss.optimize(objective_focal_loss, n_trials=5)\n"
      ]
    },
    {
      "cell_type": "code",
      "execution_count": null,
      "metadata": {
        "colab": {
          "base_uri": "https://localhost:8080/"
        },
        "id": "SPl5AzyDoqbR",
        "outputId": "c751223f-69d9-4d56-c141-0109c05940e0"
      },
      "outputs": [
        {
          "name": "stdout",
          "output_type": "stream",
          "text": [
            "Best Trial: FrozenTrial(number=0, state=TrialState.COMPLETE, values=[0.002576107967788084], datetime_start=datetime.datetime(2024, 11, 12, 16, 15, 36, 698779), datetime_complete=datetime.datetime(2024, 11, 12, 16, 21, 24, 132472), params={'learning_rate': 1.7471550463965897e-06, 'batch_size': 8, 'epochs': 6, 'warmup_ratio': 0.1558064286982542, 'dropout_prob': 0.31667649831437317, 'alpha': 0.4060251925650857, 'gamma': 4.870972803846547}, user_attrs={}, system_attrs={}, intermediate_values={}, distributions={'learning_rate': FloatDistribution(high=0.0001, log=True, low=1e-06, step=None), 'batch_size': CategoricalDistribution(choices=(8, 16, 32)), 'epochs': IntDistribution(high=10, log=False, low=5, step=1), 'warmup_ratio': FloatDistribution(high=0.2, log=False, low=0.0, step=None), 'dropout_prob': FloatDistribution(high=0.5, log=False, low=0.1, step=None), 'alpha': FloatDistribution(high=1.0, log=False, low=0.25, step=None), 'gamma': FloatDistribution(high=5.0, log=False, low=1.0, step=None)}, trial_id=0, value=None)\n",
            "Best Parameters: {'learning_rate': 1.7471550463965897e-06, 'batch_size': 8, 'epochs': 6, 'warmup_ratio': 0.1558064286982542, 'dropout_prob': 0.31667649831437317, 'alpha': 0.4060251925650857, 'gamma': 4.870972803846547}\n"
          ]
        }
      ],
      "source": [
        "best_trial_focal_loss = study_focal_loss.best_trial  # Now you can access the best_trial\n",
        "best_params_focal_loss = best_trial_focal_loss.params\n",
        "\n",
        "print(f\"Best Trial: {best_trial_focal_loss}\")\n",
        "print(f\"Best Parameters: {best_params_focal_loss}\")\n"
      ]
    },
    {
      "cell_type": "markdown",
      "metadata": {
        "id": "AvIuuXVAlh5X"
      },
      "source": [
        "#### 4.2.2 Hyperparameter Tuning with Logits Loss"
      ]
    },
    {
      "cell_type": "code",
      "execution_count": null,
      "metadata": {
        "colab": {
          "base_uri": "https://localhost:8080/"
        },
        "id": "9sxGxG0-SOIz",
        "outputId": "8d4969bc-cd37-48cc-d947-3bd44e2a1cb0"
      },
      "outputs": [
        {
          "name": "stderr",
          "output_type": "stream",
          "text": [
            "[I 2024-11-13 11:29:20,160] A new study created in memory with name: no-name-5ce90d84-206b-44fd-8edd-a9a94ab85531\n",
            "Some weights of BertForSequenceClassification were not initialized from the model checkpoint at bert-base-german-cased and are newly initialized: ['classifier.bias', 'classifier.weight']\n",
            "You should probably TRAIN this model on a down-stream task to be able to use it for predictions and inference.\n",
            "/usr/local/lib/python3.10/dist-packages/transformers/optimization.py:591: FutureWarning: This implementation of AdamW is deprecated and will be removed in a future version. Use the PyTorch implementation torch.optim.AdamW instead, or set `no_deprecation_warning=True` to disable this warning\n",
            "  warnings.warn(\n"
          ]
        },
        {
          "name": "stdout",
          "output_type": "stream",
          "text": [
            "Epoch 1/5 - Training Loss: 0.6972 - Validation Loss: 0.7381\n",
            "Epoch 2/5 - Training Loss: 0.6914 - Validation Loss: 0.7292\n",
            "Epoch 3/5 - Training Loss: 0.6860 - Validation Loss: 0.7168\n",
            "Epoch 4/5 - Training Loss: 0.6839 - Validation Loss: 0.6939\n"
          ]
        },
        {
          "name": "stderr",
          "output_type": "stream",
          "text": [
            "[I 2024-11-13 11:33:14,856] Trial 0 finished with value: 0.6706204162517064 and parameters: {'learning_rate': 2.2147036374473165e-06, 'batch_size': 32, 'epochs': 5, 'warmup_ratio': 0.18541524747713772, 'dropout_prob': 0.24323233567684946}. Best is trial 0 with value: 0.6706204162517064.\n"
          ]
        },
        {
          "name": "stdout",
          "output_type": "stream",
          "text": [
            "Epoch 5/5 - Training Loss: 0.6753 - Validation Loss: 0.6706\n"
          ]
        },
        {
          "name": "stderr",
          "output_type": "stream",
          "text": [
            "Some weights of BertForSequenceClassification were not initialized from the model checkpoint at bert-base-german-cased and are newly initialized: ['classifier.bias', 'classifier.weight']\n",
            "You should probably TRAIN this model on a down-stream task to be able to use it for predictions and inference.\n",
            "/usr/local/lib/python3.10/dist-packages/transformers/optimization.py:591: FutureWarning: This implementation of AdamW is deprecated and will be removed in a future version. Use the PyTorch implementation torch.optim.AdamW instead, or set `no_deprecation_warning=True` to disable this warning\n",
            "  warnings.warn(\n"
          ]
        },
        {
          "name": "stdout",
          "output_type": "stream",
          "text": [
            "Epoch 1/6 - Training Loss: 0.6931 - Validation Loss: 0.5878\n",
            "Epoch 2/6 - Training Loss: 0.6048 - Validation Loss: 0.3633\n",
            "Epoch 3/6 - Training Loss: 0.3864 - Validation Loss: 0.2039\n",
            "Epoch 4/6 - Training Loss: 0.2689 - Validation Loss: 0.1553\n",
            "Epoch 5/6 - Training Loss: 0.2088 - Validation Loss: 0.1375\n"
          ]
        },
        {
          "name": "stderr",
          "output_type": "stream",
          "text": [
            "[I 2024-11-13 11:37:55,405] Trial 1 finished with value: 0.13679890044059762 and parameters: {'learning_rate': 4.172976828501959e-05, 'batch_size': 32, 'epochs': 6, 'warmup_ratio': 0.06323976214908038, 'dropout_prob': 0.3264154065503213}. Best is trial 1 with value: 0.13679890044059762.\n"
          ]
        },
        {
          "name": "stdout",
          "output_type": "stream",
          "text": [
            "Epoch 6/6 - Training Loss: 0.1417 - Validation Loss: 0.1368\n"
          ]
        },
        {
          "name": "stderr",
          "output_type": "stream",
          "text": [
            "Some weights of BertForSequenceClassification were not initialized from the model checkpoint at bert-base-german-cased and are newly initialized: ['classifier.bias', 'classifier.weight']\n",
            "You should probably TRAIN this model on a down-stream task to be able to use it for predictions and inference.\n",
            "/usr/local/lib/python3.10/dist-packages/transformers/optimization.py:591: FutureWarning: This implementation of AdamW is deprecated and will be removed in a future version. Use the PyTorch implementation torch.optim.AdamW instead, or set `no_deprecation_warning=True` to disable this warning\n",
            "  warnings.warn(\n"
          ]
        },
        {
          "name": "stdout",
          "output_type": "stream",
          "text": [
            "Epoch 1/6 - Training Loss: 0.6374 - Validation Loss: 0.4334\n",
            "Epoch 2/6 - Training Loss: 0.3609 - Validation Loss: 0.1524\n",
            "Epoch 3/6 - Training Loss: 0.2430 - Validation Loss: 0.1541\n",
            "Epoch 4/6 - Training Loss: 0.1436 - Validation Loss: 0.1210\n",
            "Epoch 5/6 - Training Loss: 0.1043 - Validation Loss: 0.1335\n"
          ]
        },
        {
          "name": "stderr",
          "output_type": "stream",
          "text": [
            "[I 2024-11-13 11:43:20,335] Trial 2 finished with value: 0.12096899304236203 and parameters: {'learning_rate': 1.3715645070874099e-05, 'batch_size': 8, 'epochs': 6, 'warmup_ratio': 0.05903380674890089, 'dropout_prob': 0.2880393421002361}. Best is trial 2 with value: 0.12096899304236203.\n"
          ]
        },
        {
          "name": "stdout",
          "output_type": "stream",
          "text": [
            "Epoch 6/6 - Training Loss: 0.0507 - Validation Loss: 0.2650\n"
          ]
        },
        {
          "name": "stderr",
          "output_type": "stream",
          "text": [
            "Some weights of BertForSequenceClassification were not initialized from the model checkpoint at bert-base-german-cased and are newly initialized: ['classifier.bias', 'classifier.weight']\n",
            "You should probably TRAIN this model on a down-stream task to be able to use it for predictions and inference.\n",
            "/usr/local/lib/python3.10/dist-packages/transformers/optimization.py:591: FutureWarning: This implementation of AdamW is deprecated and will be removed in a future version. Use the PyTorch implementation torch.optim.AdamW instead, or set `no_deprecation_warning=True` to disable this warning\n",
            "  warnings.warn(\n"
          ]
        },
        {
          "name": "stdout",
          "output_type": "stream",
          "text": [
            "Epoch 1/10 - Training Loss: 0.7052 - Validation Loss: 0.5754\n",
            "Epoch 2/10 - Training Loss: 0.6056 - Validation Loss: 0.3713\n",
            "Epoch 3/10 - Training Loss: 0.4122 - Validation Loss: 0.2123\n",
            "Epoch 4/10 - Training Loss: 0.3091 - Validation Loss: 0.1545\n",
            "Epoch 5/10 - Training Loss: 0.2691 - Validation Loss: 0.1509\n",
            "Epoch 6/10 - Training Loss: 0.2235 - Validation Loss: 0.1382\n",
            "Epoch 7/10 - Training Loss: 0.1581 - Validation Loss: 0.1397\n",
            "Epoch 8/10 - Training Loss: 0.1337 - Validation Loss: 0.1853\n"
          ]
        },
        {
          "name": "stderr",
          "output_type": "stream",
          "text": [
            "[I 2024-11-13 11:50:57,724] Trial 3 finished with value: 0.13821334564979648 and parameters: {'learning_rate': 8.120301389690587e-05, 'batch_size': 16, 'epochs': 10, 'warmup_ratio': 0.18513793046954868, 'dropout_prob': 0.3892402745555201}. Best is trial 2 with value: 0.12096899304236203.\n"
          ]
        },
        {
          "name": "stdout",
          "output_type": "stream",
          "text": [
            "Early stopping at epoch 9\n"
          ]
        },
        {
          "name": "stderr",
          "output_type": "stream",
          "text": [
            "Some weights of BertForSequenceClassification were not initialized from the model checkpoint at bert-base-german-cased and are newly initialized: ['classifier.bias', 'classifier.weight']\n",
            "You should probably TRAIN this model on a down-stream task to be able to use it for predictions and inference.\n",
            "/usr/local/lib/python3.10/dist-packages/transformers/optimization.py:591: FutureWarning: This implementation of AdamW is deprecated and will be removed in a future version. Use the PyTorch implementation torch.optim.AdamW instead, or set `no_deprecation_warning=True` to disable this warning\n",
            "  warnings.warn(\n"
          ]
        },
        {
          "name": "stdout",
          "output_type": "stream",
          "text": [
            "Epoch 1/6 - Training Loss: 0.7085 - Validation Loss: 0.7791\n",
            "Epoch 2/6 - Training Loss: 0.7022 - Validation Loss: 0.7688\n",
            "Epoch 3/6 - Training Loss: 0.6955 - Validation Loss: 0.7542\n",
            "Epoch 4/6 - Training Loss: 0.6921 - Validation Loss: 0.7306\n",
            "Epoch 5/6 - Training Loss: 0.6843 - Validation Loss: 0.7091\n"
          ]
        },
        {
          "name": "stderr",
          "output_type": "stream",
          "text": [
            "[I 2024-11-13 11:56:02,851] Trial 4 finished with value: 0.6909809200696542 and parameters: {'learning_rate': 1.2446335324199702e-06, 'batch_size': 16, 'epochs': 6, 'warmup_ratio': 0.13428408976974623, 'dropout_prob': 0.4036883269422201}. Best is trial 2 with value: 0.12096899304236203.\n"
          ]
        },
        {
          "name": "stdout",
          "output_type": "stream",
          "text": [
            "Epoch 6/6 - Training Loss: 0.6815 - Validation Loss: 0.6910\n"
          ]
        }
      ],
      "source": [
        "# Using Optuna to find the best hyperparamters to improve model performance using Logits Loss as Loss function\n",
        "# Set device\n",
        "device = torch.device(\"cuda\" if torch.cuda.is_available() else \"cpu\")\n",
        "\n",
        "# Labels for training and validation\n",
        "labels_train = sampled_df_train_polarizing['polarizing'].astype(int).values\n",
        "labels_val = validation_labels['polarizing'].astype(int).values\n",
        "\n",
        "# Optuna objective function\n",
        "def objective_logit_loss(trial):\n",
        "    # Define hyperparameters from Optuna\n",
        "    learning_rate = trial.suggest_float(\"learning_rate\", 1e-6, 1e-4, log=True)\n",
        "    batch_size = trial.suggest_categorical(\"batch_size\", [8, 16, 32])\n",
        "    epochs = trial.suggest_int(\"epochs\", 5, 10)\n",
        "    warmup_ratio = trial.suggest_float(\"warmup_ratio\", 0.0, 0.2)\n",
        "    dropout_prob = trial.suggest_float(\"dropout_prob\", 0.1, 0.5)\n",
        "\n",
        "    # Calculate total steps and warmup steps\n",
        "    total_steps = len(train_input_ids_polarizing) * epochs\n",
        "    warmup_steps = int(total_steps * warmup_ratio)\n",
        "\n",
        "    # Create the dataset and dataloaders\n",
        "    train_dataset = TensorDataset(train_input_ids_polarizing, train_attention_masks_polarizing, torch.tensor(labels_train).float().to(device))\n",
        "    train_dataloader = DataLoader(train_dataset, batch_size=batch_size, shuffle=True)\n",
        "\n",
        "    val_dataset = TensorDataset(val_input_ids_polarizing, val_attention_masks_polarizing, torch.tensor(labels_val).float().to(device))\n",
        "    val_dataloader = DataLoader(val_dataset, batch_size=batch_size)\n",
        "\n",
        "    # Initialize model, optimizer, and criterion\n",
        "    model_logit_loss, optimizer = initialize_model(learning_rate=learning_rate, pre_trained_model=\"bert-base-german-cased\", dropout_prob=dropout_prob)\n",
        "    class_weights = compute_class_weights(labels_train)\n",
        "    criterion = torch.nn.BCEWithLogitsLoss(pos_weight=class_weights[1])\n",
        "\n",
        "    # Initialize scheduler\n",
        "    scheduler = get_linear_schedule_with_warmup(optimizer, num_warmup_steps=warmup_steps, num_training_steps=total_steps)\n",
        "\n",
        "    # Early stopping parameters\n",
        "    best_val_loss = float(\"inf\")\n",
        "    no_improvement_epochs = 0\n",
        "\n",
        "    # Training loop\n",
        "    for epoch in range(epochs):\n",
        "        # Calculate the average training loss\n",
        "        avg_train_loss = train_one_epoch(model_logit_loss, train_dataloader, optimizer, scheduler, criterion)\n",
        "\n",
        "        # Calculate validation loss with threshold 0.8\n",
        "        val_loss, all_preds, all_labels = validate(model_logit_loss, val_dataloader, criterion, threshold=0.8)\n",
        "\n",
        "        if val_loss < best_val_loss:\n",
        "            best_val_loss = val_loss\n",
        "            no_improvement_epochs = 0\n",
        "        else:\n",
        "            no_improvement_epochs += 1\n",
        "\n",
        "        if no_improvement_epochs >= 3:\n",
        "            print(f\"Early stopping at epoch {epoch + 1}\")\n",
        "            break\n",
        "\n",
        "        # Print progress with correctly defined average losses\n",
        "        print(f\"Epoch {epoch + 1}/{epochs} - Training Loss: {avg_train_loss:.4f} - Validation Loss: {val_loss:.4f}\")\n",
        "\n",
        "    return best_val_loss\n",
        "\n",
        "\n",
        "# Run Optuna study\n",
        "study_logit_loss = optuna.create_study(direction=\"minimize\")\n",
        "study_logit_loss.optimize(objective_logit_loss, n_trials=5)\n"
      ]
    },
    {
      "cell_type": "code",
      "execution_count": null,
      "metadata": {
        "colab": {
          "base_uri": "https://localhost:8080/"
        },
        "id": "tS1ju7kdYiAD",
        "outputId": "7416f50f-ced6-4c7e-a1d3-710662fd32e6"
      },
      "outputs": [
        {
          "name": "stdout",
          "output_type": "stream",
          "text": [
            "Best Trial:FrozenTrial(number=2, state=TrialState.COMPLETE, values=[0.12096899304236203], datetime_start=datetime.datetime(2024, 11, 13, 11, 37, 55, 407026), datetime_complete=datetime.datetime(2024, 11, 13, 11, 43, 20, 335399), params={'learning_rate': 1.3715645070874099e-05, 'batch_size': 8, 'epochs': 6, 'warmup_ratio': 0.05903380674890089, 'dropout_prob': 0.2880393421002361}, user_attrs={}, system_attrs={}, intermediate_values={}, distributions={'learning_rate': FloatDistribution(high=0.0001, log=True, low=1e-06, step=None), 'batch_size': CategoricalDistribution(choices=(8, 16, 32)), 'epochs': IntDistribution(high=10, log=False, low=5, step=1), 'warmup_ratio': FloatDistribution(high=0.2, log=False, low=0.0, step=None), 'dropout_prob': FloatDistribution(high=0.5, log=False, low=0.1, step=None)}, trial_id=2, value=None)\n",
            "Best Parameters:{'learning_rate': 1.3715645070874099e-05, 'batch_size': 8, 'epochs': 6, 'warmup_ratio': 0.05903380674890089, 'dropout_prob': 0.2880393421002361}\n"
          ]
        }
      ],
      "source": [
        "#print best parameters\n",
        "best_trial_logit_loss = study_logit_loss.best_trial\n",
        "best_params_logit_loss = best_trial_logit_loss.params\n",
        "\n",
        "print(f\"Best Trial:{best_trial_logit_loss}\")\n",
        "print(f\"Best Parameters:{best_params_logit_loss}\")"
      ]
    },
    {
      "cell_type": "markdown",
      "metadata": {
        "id": "z_P4Tm_Cykch"
      },
      "source": [
        "### 4.3 Train Model with Best Parameters"
      ]
    },
    {
      "cell_type": "markdown",
      "metadata": {
        "id": "CNjie-yKmvlf"
      },
      "source": [
        "#### 4.3.1 Train Model with Best Parameters Focal Loss"
      ]
    },
    {
      "cell_type": "code",
      "execution_count": null,
      "metadata": {
        "colab": {
          "base_uri": "https://localhost:8080/"
        },
        "id": "46FB89DOyizm",
        "outputId": "1863590c-ea25-4c60-9363-174cec521304"
      },
      "outputs": [
        {
          "name": "stderr",
          "output_type": "stream",
          "text": [
            "Some weights of BertForSequenceClassification were not initialized from the model checkpoint at bert-base-german-cased and are newly initialized: ['classifier.bias', 'classifier.weight']\n",
            "You should probably TRAIN this model on a down-stream task to be able to use it for predictions and inference.\n",
            "/usr/local/lib/python3.10/dist-packages/transformers/optimization.py:591: FutureWarning: This implementation of AdamW is deprecated and will be removed in a future version. Use the PyTorch implementation torch.optim.AdamW instead, or set `no_deprecation_warning=True` to disable this warning\n",
            "  warnings.warn(\n"
          ]
        },
        {
          "name": "stdout",
          "output_type": "stream",
          "text": [
            "Epoch 1/6 - Training Loss: 0.0149 - Validation Loss: 0.0152\n",
            "Epoch 2/6 - Training Loss: 0.0109 - Validation Loss: 0.0078\n",
            "Epoch 3/6 - Training Loss: 0.0086 - Validation Loss: 0.0061\n",
            "Epoch 4/6 - Training Loss: 0.0078 - Validation Loss: 0.0047\n",
            "Epoch 5/6 - Training Loss: 0.0071 - Validation Loss: 0.0043\n",
            "Epoch 6/6 - Training Loss: 0.0070 - Validation Loss: 0.0041\n"
          ]
        }
      ],
      "source": [
        "# Set device\n",
        "device = torch.device(\"cuda\" if torch.cuda.is_available() else \"cpu\")\n",
        "\n",
        "labels_train = sampled_df_train_polarizing['polarizing'].astype(int).values\n",
        "labels_val = validation_labels['polarizing'].astype(int).values\n",
        "\n",
        "# Define parameters from Optuna\n",
        "best_learning_rate = best_trial_focal_loss.params[\"learning_rate\"]\n",
        "best_batch_size = best_trial_focal_loss.params[\"batch_size\"]\n",
        "best_epochs = best_trial_focal_loss.params[\"epochs\"]\n",
        "best_warmup_ratio = best_trial_focal_loss.params[\"warmup_ratio\"]\n",
        "dropout_prob = best_trial_focal_loss.params[\"dropout_prob\"]\n",
        "best_alpha = best_trial_focal_loss.params[\"alpha\"]\n",
        "best_gamma = best_trial_focal_loss.params[\"gamma\"]\n",
        "\n",
        "# Initialize model, optimizer, and criterion\n",
        "model_focal_loss, optimizer = initialize_model(\n",
        "    best_learning_rate,\n",
        "    pre_trained_model=\"bert-base-german-cased\",\n",
        "    dropout_prob=dropout_prob\n",
        ")\n",
        "\n",
        "# Initialize criterion with FocalLoss\n",
        "criterion = FocalLoss(alpha=best_alpha, gamma=best_gamma)\n",
        "\n",
        "# Create Dataloaders for final training\n",
        "train_dataset = TensorDataset(\n",
        "    train_input_ids_polarizing,\n",
        "    train_attention_masks_polarizing,\n",
        "    torch.tensor(labels_train).float().to(device)\n",
        ")\n",
        "train_dataloader = DataLoader(train_dataset, batch_size=best_batch_size, shuffle=True)\n",
        "\n",
        "val_dataset = TensorDataset(\n",
        "    val_input_ids_polarizing,\n",
        "    val_attention_masks_polarizing,\n",
        "    torch.tensor(labels_val).float().to(device)\n",
        ")\n",
        "val_dataloader = DataLoader(val_dataset, batch_size=best_batch_size)\n",
        "\n",
        "# Initialize scheduler\n",
        "total_steps = len(train_dataloader) * best_epochs\n",
        "warmup_steps = int(total_steps * best_warmup_ratio)\n",
        "scheduler = get_linear_schedule_with_warmup(\n",
        "    optimizer,\n",
        "    num_warmup_steps=warmup_steps,\n",
        "    num_training_steps=total_steps\n",
        ")\n",
        "\n",
        "# Early stopping parameters\n",
        "patience = 3  # Number of epochs with no improvement to wait before stopping\n",
        "best_val_loss = float(\"inf\")\n",
        "no_improvement_epochs = 0\n",
        "\n",
        "# Training loop with early stopping\n",
        "for epoch in range(best_epochs):\n",
        "    train_loss = train_one_epoch(model_focal_loss, train_dataloader, optimizer, scheduler, criterion)\n",
        "    val_loss, all_preds, all_labels = validate(model_focal_loss, val_dataloader, criterion, threshold=0.8)\n",
        "\n",
        "    # Check for improvement\n",
        "    if val_loss < best_val_loss:\n",
        "        best_val_loss = val_loss\n",
        "        no_improvement_epochs = 0  # Reset counter\n",
        "    else:\n",
        "        no_improvement_epochs += 1\n",
        "\n",
        "    print(f\"Epoch {epoch + 1}/{best_epochs} - Training Loss: {train_loss:.4f} - Validation Loss: {val_loss:.4f}\")\n",
        "\n",
        "    # Early stopping condition\n",
        "    if no_improvement_epochs >= patience:\n",
        "        print(f\"Early stopping triggered after {epoch + 1} epochs\")\n",
        "        break\n"
      ]
    },
    {
      "cell_type": "markdown",
      "metadata": {
        "id": "HqypzVlFm3TL"
      },
      "source": [
        "#### 4.3.2 Train Model with Best Paramters Logits Loss"
      ]
    },
    {
      "cell_type": "code",
      "execution_count": 19,
      "metadata": {
        "colab": {
          "base_uri": "https://localhost:8080/"
        },
        "id": "gCcBA-L0nEbu",
        "outputId": "cecef0c9-1fd0-42bb-e951-ed1522b8e126"
      },
      "outputs": [
        {
          "output_type": "stream",
          "name": "stderr",
          "text": [
            "Some weights of BertForSequenceClassification were not initialized from the model checkpoint at bert-base-german-cased and are newly initialized: ['classifier.bias', 'classifier.weight']\n",
            "You should probably TRAIN this model on a down-stream task to be able to use it for predictions and inference.\n",
            "/usr/local/lib/python3.10/dist-packages/transformers/optimization.py:591: FutureWarning: This implementation of AdamW is deprecated and will be removed in a future version. Use the PyTorch implementation torch.optim.AdamW instead, or set `no_deprecation_warning=True` to disable this warning\n",
            "  warnings.warn(\n"
          ]
        },
        {
          "output_type": "stream",
          "name": "stdout",
          "text": [
            "Epoch 1/6 - Training Loss: 0.4690 - Validation Loss: 0.1475\n",
            "Epoch 2/6 - Training Loss: 0.2308 - Validation Loss: 0.1234\n",
            "Epoch 3/6 - Training Loss: 0.1423 - Validation Loss: 0.1249\n",
            "Epoch 4/6 - Training Loss: 0.0758 - Validation Loss: 0.1335\n",
            "Epoch 5/6 - Training Loss: 0.0548 - Validation Loss: 0.1381\n",
            "Early stopping triggered after 5 epochs\n"
          ]
        }
      ],
      "source": [
        "# Set device\n",
        "device = torch.device(\"cuda\" if torch.cuda.is_available() else \"cpu\")\n",
        "\n",
        "# Define parameters from Optuna\n",
        "best_learning_rate_logit_loss = best_trial_logit_loss.params[\"learning_rate\"]\n",
        "best_batch_size_logit_loss = best_trial_logit_loss.params[\"batch_size\"]\n",
        "best_epochs_logit_loss = best_trial_logit_loss.params[\"epochs\"]\n",
        "best_warmup_ratio_logit_loss = best_trial_logit_loss.params[\"warmup_ratio\"]\n",
        "dropout_prob_logit_loss = best_trial_logit_loss.params[\"dropout_prob\"]\n",
        "\n",
        "# Initialize model, optimizer, and criterion\n",
        "model_logit_loss, optimizer = initialize_model(\n",
        "    best_learning_rate_logit_loss,\n",
        "    pre_trained_model=\"bert-base-german-cased\",\n",
        "    dropout_prob=dropout_prob_logit_loss\n",
        ")\n",
        "\n",
        "class_weights = compute_class_weights(labels_train)\n",
        "criterion = torch.nn.BCEWithLogitsLoss(pos_weight=class_weights[1])\n",
        "\n",
        "# Create Dataloaders for final training\n",
        "train_dataset = TensorDataset(\n",
        "    train_input_ids_polarizing,\n",
        "    train_attention_masks_polarizing,\n",
        "    torch.tensor(labels_train).float().to(device)\n",
        ")\n",
        "train_dataloader = DataLoader(train_dataset, batch_size=best_batch_size_logit_loss, shuffle=True)\n",
        "\n",
        "val_dataset = TensorDataset(\n",
        "    val_input_ids_polarizing,\n",
        "    val_attention_masks_polarizing,\n",
        "    torch.tensor(labels_val).float().to(device)\n",
        ")\n",
        "val_dataloader = DataLoader(val_dataset, batch_size=best_batch_size_logit_loss)\n",
        "\n",
        "# Initialize scheduler\n",
        "total_steps = len(train_dataloader) * best_epochs_logit_loss\n",
        "warmup_steps = int(total_steps * best_warmup_ratio_logit_loss)\n",
        "scheduler = get_linear_schedule_with_warmup(\n",
        "    optimizer,\n",
        "    num_warmup_steps=warmup_steps,\n",
        "    num_training_steps=total_steps\n",
        ")\n",
        "\n",
        "# Early stopping parameters\n",
        "patience = 3  # Number of epochs with no improvement to wait before stopping\n",
        "best_val_loss = float(\"inf\")\n",
        "no_improvement_epochs = 0\n",
        "\n",
        "# Training loop with early stopping\n",
        "for epoch in range(best_epochs_logit_loss):\n",
        "    train_loss = train_one_epoch(model_logit_loss, train_dataloader, optimizer, scheduler, criterion)\n",
        "    val_loss, all_preds, all_labels = validate(model_logit_loss, val_dataloader, criterion, threshold=0.8)\n",
        "\n",
        "    # Check for improvement\n",
        "    if val_loss < best_val_loss:\n",
        "        best_val_loss = val_loss\n",
        "        no_improvement_epochs = 0  # Reset counter\n",
        "    else:\n",
        "        no_improvement_epochs += 1\n",
        "\n",
        "    print(f\"Epoch {epoch + 1}/{best_epochs_logit_loss} - Training Loss: {train_loss:.4f} - Validation Loss: {val_loss:.4f}\")\n",
        "\n",
        "    # Early stopping condition\n",
        "    if no_improvement_epochs >= patience:\n",
        "        print(f\"Early stopping triggered after {epoch + 1} epochs\")\n",
        "        break\n"
      ]
    },
    {
      "cell_type": "markdown",
      "metadata": {
        "id": "F-d7A2rUG09R"
      },
      "source": [
        "## 5. Evaluate Model Performance"
      ]
    },
    {
      "cell_type": "code",
      "execution_count": 25,
      "metadata": {
        "id": "D97CvtvoIieG"
      },
      "outputs": [],
      "source": [
        "def evaluate_model(model, input_ids, attention_masks, threshold, labels, label_name=\"Label\"):\n",
        "    model.eval()  # Set the model to evaluation mode\n",
        "\n",
        "    dataset = TensorDataset(input_ids, attention_masks, labels)\n",
        "    dataloader = DataLoader(dataset, batch_size=16)\n",
        "\n",
        "    all_preds = []\n",
        "    all_labels = []\n",
        "    all_probs = []\n",
        "\n",
        "    with torch.no_grad():\n",
        "        for batch in dataloader:\n",
        "            batch_input_ids, batch_attention_masks, batch_labels = [b.to(device) for b in batch]\n",
        "            outputs = model(input_ids=batch_input_ids, attention_mask=batch_attention_masks)\n",
        "            logits = outputs.logits.squeeze(-1)\n",
        "\n",
        "            probs = torch.sigmoid(logits)\n",
        "            preds = (probs >= threshold).float()\n",
        "\n",
        "            all_probs.extend(probs.cpu().numpy())\n",
        "            all_preds.extend(preds.cpu().numpy())\n",
        "            all_labels.extend(batch_labels.cpu().numpy())\n",
        "\n",
        "    all_labels = np.array(all_labels)\n",
        "    all_preds = np.array(all_preds)\n",
        "    all_probs = np.array(all_probs)\n",
        "\n",
        "    accuracy = accuracy_score(all_labels, all_preds)\n",
        "    precision, recall, f1, _ = precision_recall_fscore_support(all_labels, all_preds, average='binary', zero_division=0)\n",
        "    roc_auc = roc_auc_score(all_labels, all_probs)\n",
        "    class_report = classification_report(all_labels, all_preds, zero_division=0)\n",
        "\n",
        "    print(f\"{label_name} - Accuracy: {accuracy:.4f}\")\n",
        "    print(f\"{label_name} - Precision: {precision:.4f}\")\n",
        "    print(f\"{label_name} - Recall: {recall:.4f}\")\n",
        "    print(f\"{label_name} - F1-Score: {f1:.4f}\")\n",
        "    print(f\"{label_name} - ROC-AUC Score: {roc_auc:.4f}\")\n",
        "    print(f\"\\n{label_name} - Classification Report:\\n{class_report}\")\n",
        "\n",
        "    fpr, tpr, thresholds = roc_curve(all_labels, all_probs)\n",
        "    plt.figure()\n",
        "    plt.plot(fpr, tpr, label=f'ROC curve (AUC = {roc_auc:.2f})')\n",
        "    plt.plot([0, 1], [0, 1], 'k--')\n",
        "    plt.xlabel('False Positive Rate (FPR)')\n",
        "    plt.ylabel('True Positive Rate (TPR)')\n",
        "    plt.title(f'{label_name} - ROC Curve')\n",
        "    plt.legend(loc='lower right')\n",
        "    plt.grid(False)\n",
        "    plt.show()\n",
        "\n",
        "    # Return metrics and predictions\n",
        "    return accuracy, precision, recall, f1, roc_auc, all_preds, all_labels"
      ]
    },
    {
      "cell_type": "markdown",
      "source": [
        "### 5.1 Evaluate Non-Fine-Tuned BERT"
      ],
      "metadata": {
        "id": "QEJVsH3TDYgd"
      }
    },
    {
      "cell_type": "code",
      "source": [
        "# Test BERT on validation set without beeing fine-tuned on corpus\n",
        "device = torch.device(\"cuda\" if torch.cuda.is_available() else \"cpu\")\n",
        "\n",
        "# Load the pre-trained BERT model without fine-tuning\n",
        "model_bert = BertForSequenceClassification.from_pretrained(\"bert-base-german-cased\", num_labels=1)\n",
        "model_bert.to(device)\n",
        "\n",
        "# Tokenizer setup\n",
        "tokenizer = BertTokenizer.from_pretrained(\"bert-base-german-cased\")\n",
        "\n",
        "# Create a DataLoader for the test data\n",
        "val_dataset = TensorDataset(val_input_ids_polarizing, val_attention_masks_polarizing, torch.tensor(labels_val).float().to(device))\n",
        "val_dataloader = DataLoader(val_dataset, batch_size=8)\n",
        "\n",
        "# Run evaluation on the validation set\n",
        "accuracy, precision, recall, f1, roc_auc, all_preds, all_labels = evaluate_model(\n",
        "    model_bert,\n",
        "    val_input_ids_polarizing.to(device),\n",
        "    val_attention_masks_polarizing.to(device),\n",
        "    0.5,\n",
        "    torch.tensor(labels_val).float().to(device),\n",
        "    label_name=\"Non-Fine-Tuned BERT\"\n",
        ")\n"
      ],
      "metadata": {
        "colab": {
          "base_uri": "https://localhost:8080/",
          "height": 813
        },
        "id": "nIMDhEN9DXQL",
        "outputId": "d2206106-d9f2-4d80-8695-717abfc6b346"
      },
      "execution_count": 42,
      "outputs": [
        {
          "output_type": "stream",
          "name": "stderr",
          "text": [
            "Some weights of BertForSequenceClassification were not initialized from the model checkpoint at bert-base-german-cased and are newly initialized: ['classifier.bias', 'classifier.weight']\n",
            "You should probably TRAIN this model on a down-stream task to be able to use it for predictions and inference.\n"
          ]
        },
        {
          "output_type": "stream",
          "name": "stdout",
          "text": [
            "Non-Fine-Tuned BERT - Accuracy: 0.2065\n",
            "Non-Fine-Tuned BERT - Precision: 0.0911\n",
            "Non-Fine-Tuned BERT - Recall: 0.7565\n",
            "Non-Fine-Tuned BERT - F1-Score: 0.1627\n",
            "Non-Fine-Tuned BERT - ROC-AUC Score: 0.4083\n",
            "\n",
            "Non-Fine-Tuned BERT - Classification Report:\n",
            "              precision    recall  f1-score   support\n",
            "\n",
            "         0.0       0.84      0.14      0.25      2027\n",
            "         1.0       0.09      0.76      0.16       230\n",
            "\n",
            "    accuracy                           0.21      2257\n",
            "   macro avg       0.47      0.45      0.20      2257\n",
            "weighted avg       0.76      0.21      0.24      2257\n",
            "\n"
          ]
        },
        {
          "output_type": "display_data",
          "data": {
            "text/plain": [
              "<Figure size 640x480 with 1 Axes>"
            ],
            "image/png": "[encoded data removed]"
          },
          "metadata": {}
        }
      ]
    },
    {
      "cell_type": "code",
      "source": [
        "# confusion matrix non-fine-tuned BERT\n",
        "tn, fp, fn, tp = confusion_matrix(all_labels, all_preds).ravel()\n",
        "\n",
        "# plot it as 2d matrix\n",
        "mat= confusion_matrix(all_labels, all_preds)\n",
        "sns.heatmap(mat.T, square=True, annot=True, fmt='d', cbar=False, cmap = \"Blues\")\n",
        "plt.xlabel('true label')\n",
        "plt.ylabel('predicted label')\n",
        "plt.show()\n",
        "\n"
      ],
      "metadata": {
        "colab": {
          "base_uri": "https://localhost:8080/",
          "height": 449
        },
        "id": "2YgWt7CTEXUL",
        "outputId": "242a4f0c-fba3-48ac-cbac-e71b11427614"
      },
      "execution_count": 43,
      "outputs": [
        {
          "output_type": "display_data",
          "data": {
            "text/plain": [
              "<Figure size 640x480 with 1 Axes>"
            ],
            "image/png": "[encoded data removed]"
          },
          "metadata": {}
        }
      ]
    },
    {
      "cell_type": "markdown",
      "metadata": {
        "id": "besGwZhT2Fda"
      },
      "source": [
        "### 5.2 Evaluate Base Model Performance"
      ]
    },
    {
      "cell_type": "code",
      "execution_count": null,
      "metadata": {
        "colab": {
          "base_uri": "https://localhost:8080/",
          "height": 758
        },
        "id": "YOmOFIZV0vgb",
        "outputId": "817a75cb-ff6c-4be4-f1f9-19f43a213b51"
      },
      "outputs": [
        {
          "name": "stdout",
          "output_type": "stream",
          "text": [
            "Polarizing Evaluation Baseline Model - Accuracy: 0.8773\n",
            "Polarizing Evaluation Baseline Model - Precision: 0.4467\n",
            "Polarizing Evaluation Baseline Model - Recall: 0.8565\n",
            "Polarizing Evaluation Baseline Model - F1-Score: 0.5872\n",
            "Polarizing Evaluation Baseline Model - ROC-AUC Score: 0.9403\n",
            "\n",
            "Polarizing Evaluation Baseline Model - Classification Report:\n",
            "              precision    recall  f1-score   support\n",
            "\n",
            "         0.0       0.98      0.88      0.93      2027\n",
            "         1.0       0.45      0.86      0.59       230\n",
            "\n",
            "    accuracy                           0.88      2257\n",
            "   macro avg       0.71      0.87      0.76      2257\n",
            "weighted avg       0.93      0.88      0.89      2257\n",
            "\n"
          ]
        },
        {
          "data": {
            "image/png": "[encoded data removed]",
            "text/plain": [
              "<Figure size 640x480 with 1 Axes>"
            ]
          },
          "metadata": {},
          "output_type": "display_data"
        }
      ],
      "source": [
        "#print evaluation results for base line model\n",
        "\n",
        "accuracy_baseline, precision_baseline, recall_baseline, f1_baseline, roc_auc_baseline, all_preds_baseline, all_labels_baseline = evaluate_model(\n",
        "    baseline_model,\n",
        "    val_input_ids_polarizing,\n",
        "    val_attention_masks_polarizing,\n",
        "    threshold=0.5,\n",
        "    labels=torch.tensor(validation_labels['polarizing'].values).float(),\n",
        "    label_name=\"Polarizing Evaluation Baseline Model\"\n",
        ")\n"
      ]
    },
    {
      "cell_type": "code",
      "execution_count": null,
      "metadata": {
        "colab": {
          "base_uri": "https://localhost:8080/",
          "height": 449
        },
        "id": "VDZ4CGs51F6b",
        "outputId": "10574d3d-2faf-470a-c833-19f87b47e5f5"
      },
      "outputs": [
        {
          "data": {
            "image/png": "[encoded data removed]",
            "text/plain": [
              "<Figure size 640x480 with 1 Axes>"
            ]
          },
          "metadata": {},
          "output_type": "display_data"
        }
      ],
      "source": [
        "# confusion matrix base line model\n",
        "tn_baseline, fp_baseline, fn_baseline, tp_baseline = confusion_matrix(all_labels_baseline, all_preds_baseline).ravel()\n",
        "\n",
        "# plot it as 2d matrix\n",
        "mat_baseline= confusion_matrix(all_labels_baseline, all_preds_baseline)\n",
        "sns.heatmap(mat_baseline.T, square=True, annot=True, fmt='d', cbar=False, cmap = \"Blues\")\n",
        "plt.xlabel('true label')\n",
        "plt.ylabel('predicted label')\n",
        "plt.show()\n",
        "\n"
      ]
    },
    {
      "cell_type": "markdown",
      "metadata": {
        "id": "kR3dSEnd2rVY"
      },
      "source": [
        "### 5.3 Evaluate Fine-Tuned Model with Focal Loss Function\n",
        "\n",
        "\n"
      ]
    },
    {
      "cell_type": "code",
      "execution_count": null,
      "metadata": {
        "colab": {
          "base_uri": "https://localhost:8080/",
          "height": 758
        },
        "id": "2uwIzvPJwm-g",
        "outputId": "7009a869-b2fd-47ae-e966-9a60e0c83b8d"
      },
      "outputs": [
        {
          "name": "stdout",
          "output_type": "stream",
          "text": [
            "Polarizing Evaluation Focal Loss - Accuracy: 0.9140\n",
            "Polarizing Evaluation Focal Loss - Precision: 0.5621\n",
            "Polarizing Evaluation Focal Loss - Recall: 0.7087\n",
            "Polarizing Evaluation Focal Loss - F1-Score: 0.6269\n",
            "Polarizing Evaluation Focal Loss - ROC-AUC Score: 0.9276\n",
            "\n",
            "Polarizing Evaluation Focal Loss - Classification Report:\n",
            "              precision    recall  f1-score   support\n",
            "\n",
            "         0.0       0.97      0.94      0.95      2027\n",
            "         1.0       0.56      0.71      0.63       230\n",
            "\n",
            "    accuracy                           0.91      2257\n",
            "   macro avg       0.76      0.82      0.79      2257\n",
            "weighted avg       0.92      0.91      0.92      2257\n",
            "\n"
          ]
        },
        {
          "data": {
            "image/png": "[encoded data removed]",
            "text/plain": [
              "<Figure size 640x480 with 1 Axes>"
            ]
          },
          "metadata": {},
          "output_type": "display_data"
        }
      ],
      "source": [
        "# Print evaluation results for focal loss\n",
        "\n",
        "accuracy_focal_loss, precision_focal_loss, recall_focal_loss, f1_focal_loss, roc_auc_focal_loss, all_preds_focal_loss, all_labels_focal_loss = evaluate_model(\n",
        "    model_focal_loss,\n",
        "    val_input_ids_polarizing,\n",
        "    val_attention_masks_polarizing,\n",
        "    threshold=0.5,\n",
        "    labels=torch.tensor(validation_labels['polarizing'].values).float(),\n",
        "    label_name=\"Polarizing Evaluation Focal Loss\"\n",
        ")\n"
      ]
    },
    {
      "cell_type": "code",
      "execution_count": null,
      "metadata": {
        "colab": {
          "base_uri": "https://localhost:8080/",
          "height": 449
        },
        "id": "aONtURVSCRo2",
        "outputId": "038080ed-be09-4a7c-9911-f2fffdedc832"
      },
      "outputs": [
        {
          "data": {
            "image/png": "[encoded data removed]",
            "text/plain": [
              "<Figure size 640x480 with 1 Axes>"
            ]
          },
          "metadata": {},
          "output_type": "display_data"
        }
      ],
      "source": [
        "# confusion matrix focal loss\n",
        "tn_focal, fp_focal, fn_focal, tp_focal = confusion_matrix(all_labels_focal_loss, all_preds_focal_loss).ravel()\n",
        "\n",
        "# plot it as 2d matrix\n",
        "mat_focal_loss = confusion_matrix(all_labels_focal_loss, all_preds_focal_loss)\n",
        "sns.heatmap(mat_focal_loss.T, square=True, annot=True, fmt='d', cbar=False, cmap = \"Blues\")\n",
        "plt.xlabel('true label')\n",
        "plt.ylabel('predicted label')\n",
        "plt.show()\n",
        "\n"
      ]
    },
    {
      "cell_type": "markdown",
      "metadata": {
        "id": "jk5VytCr25CK"
      },
      "source": [
        "### 5.4 Evaluate Fine-Tuned Model with Logits Loss Function\n"
      ]
    },
    {
      "cell_type": "code",
      "execution_count": null,
      "metadata": {
        "colab": {
          "base_uri": "https://localhost:8080/",
          "height": 758
        },
        "id": "gYcZGkK7ZWt_",
        "outputId": "0ee10767-fc44-4b50-9502-84d786375fba"
      },
      "outputs": [
        {
          "name": "stdout",
          "output_type": "stream",
          "text": [
            "Polarizing Evaluation Logits Loss - Accuracy: 0.9473\n",
            "Polarizing Evaluation Logits Loss - Precision: 0.7322\n",
            "Polarizing Evaluation Logits Loss - Recall: 0.7609\n",
            "Polarizing Evaluation Logits Loss - F1-Score: 0.7463\n",
            "Polarizing Evaluation Logits Loss - ROC-AUC Score: 0.9696\n",
            "\n",
            "Polarizing Evaluation Logits Loss - Classification Report:\n",
            "              precision    recall  f1-score   support\n",
            "\n",
            "         0.0       0.97      0.97      0.97      2027\n",
            "         1.0       0.73      0.76      0.75       230\n",
            "\n",
            "    accuracy                           0.95      2257\n",
            "   macro avg       0.85      0.86      0.86      2257\n",
            "weighted avg       0.95      0.95      0.95      2257\n",
            "\n"
          ]
        },
        {
          "data": {
            "image/png": "[encoded data removed]",
            "text/plain": [
              "<Figure size 640x480 with 1 Axes>"
            ]
          },
          "metadata": {},
          "output_type": "display_data"
        }
      ],
      "source": [
        "# Print evaluation results for logits loss\n",
        "\n",
        "accuracy_logits_loss, precision_logits_loss, recall_logits_loss, f1_logits_loss, roc_auc_logits_loss, all_preds_logits_loss, all_labels_logits_loss = evaluate_model(\n",
        "    model_logit_loss,\n",
        "    val_input_ids_polarizing,\n",
        "    val_attention_masks_polarizing,\n",
        "    threshold=0.8,\n",
        "    labels=torch.tensor(validation_labels['polarizing'].values).float(),\n",
        "    label_name=\"Polarizing Evaluation Logits Loss\"\n",
        ")\n"
      ]
    },
    {
      "cell_type": "code",
      "execution_count": null,
      "metadata": {
        "colab": {
          "base_uri": "https://localhost:8080/",
          "height": 449
        },
        "id": "2AQXSlRg30Ot",
        "outputId": "657019b4-3544-4c8d-b0c9-c5b3b46dead8"
      },
      "outputs": [
        {
          "data": {
            "image/png": "[encoded data removed]",
            "text/plain": [
              "<Figure size 640x480 with 1 Axes>"
            ]
          },
          "metadata": {},
          "output_type": "display_data"
        }
      ],
      "source": [
        "# confusion matrix logits loss\n",
        "tn_logit, fp_logit, fn_logit, tp_logit = confusion_matrix(all_labels_logits_loss, all_preds_logits_loss).ravel()\n",
        "\n",
        "# plot it as 2d matrix\n",
        "mat_logit_loss = confusion_matrix(all_labels_logits_loss, all_preds_logits_loss)\n",
        "sns.heatmap(mat_logit_loss.T, square=True, annot=True, fmt='d', cbar=False, cmap = \"Blues\")\n",
        "plt.xlabel('true label')\n",
        "plt.ylabel('predicted label')\n",
        "plt.show()\n",
        "\n"
      ]
    },
    {
      "cell_type": "markdown",
      "metadata": {
        "id": "jDVfrvIPbKdK"
      },
      "source": [
        "## 6. Save Model for later re-use"
      ]
    },
    {
      "cell_type": "code",
      "execution_count": null,
      "metadata": {
        "colab": {
          "base_uri": "https://localhost:8080/"
        },
        "id": "u_48KKrF1QlX",
        "outputId": "8463a0a5-28fd-4c54-e460-32001a298767"
      },
      "outputs": [
        {
          "name": "stdout",
          "output_type": "stream",
          "text": [
            "Validation predictions saved to content/drive/My Drive/validation_predictions_optimized_optuna_logitsloss_final.xlsx\n",
            "Trained model and tokenizer saved to /content/drive/My Drive/bert-base-german-cased_only_polarizing_optimized_optuna_logitloss_final\n",
            "Best hyperparameters saved to /content/drive/My Drive/bert-base-german-cased_only_polarizing_optimized_optuna_logitloss_final/best_params_logit_loss.json\n"
          ]
        }
      ],
      "source": [
        "# save best model\n",
        "\n",
        "# Combine predictions with the original validation data\n",
        "validation_labels['predicted_polarizing'] = all_preds_logits_loss # Append predictions as a new column\n",
        "\n",
        "# Save predictions to Excel\n",
        "validation_labels.to_excel(\"/content/drive/My Drive/validation_predictions_optimized_optuna_logitsloss_final.xlsx\", index=False)\n",
        "print(\"Validation predictions saved to content/drive/My Drive/validation_predictions_optimized_optuna_logitsloss_final.xlsx\")\n",
        "\n",
        "# Save the trained model and tokenizer under the specified name\n",
        "best_model_logits_loss = \"/content/drive/My Drive/bert-base-german-cased_only_polarizing_optimized_optuna_logitloss_final\"\n",
        "model_logit_loss.save_pretrained(best_model_logits_loss)\n",
        "tokenizer.save_pretrained(best_model_logits_loss)\n",
        "\n",
        "print(f\"Trained model and tokenizer saved to {best_model_logits_loss}\")\n",
        "\n",
        "# Save the parameters to a JSON file\n",
        "with open(f\"{best_model_logits_loss}/best_params_logit_loss.json\", 'w') as fp:\n",
        "    json.dump(best_params_logit_loss, fp)\n",
        "\n",
        "print(f\"Best hyperparameters saved to {best_model_logits_loss}/best_params_logit_loss.json\")\n"
      ]
    }
  ],
  "metadata": {
    "accelerator": "GPU",
    "colab": {
      "gpuType": "T4",
      "provenance": []
    },
    "kernelspec": {
      "display_name": "Python 3",
      "name": "python3"
    },
    "language_info": {
      "name": "python"
    },
    "widgets": {
      "application/vnd.jupyter.widget-state+json": {
        "14dcc93b18814fd38468ce5ac4356c42": {
          "model_module": "@jupyter-widgets/controls",
          "model_name": "HBoxModel",
          "model_module_version": "1.5.0",
          "state": {
            "_dom_classes": [],
            "_model_module": "@jupyter-widgets/controls",
            "_model_module_version": "1.5.0",
            "_model_name": "HBoxModel",
            "_view_count": null,
            "_view_module": "@jupyter-widgets/controls",
            "_view_module_version": "1.5.0",
            "_view_name": "HBoxView",
            "box_style": "",
            "children": [
              "IPY_MODEL_d96cb0e93fbf46b7b96e006d49ec0b44",
              "IPY_MODEL_54eb7b0b5e1447b0ad69c4666847b039",
              "IPY_MODEL_9aa3c5e97370429c9a43e08b1199065d"
            ],
            "layout": "IPY_MODEL_207893d4fdfb46e0ad1e8dbb2cd1212d"
          }
        },
        "d96cb0e93fbf46b7b96e006d49ec0b44": {
          "model_module": "@jupyter-widgets/controls",
          "model_name": "HTMLModel",
          "model_module_version": "1.5.0",
          "state": {
            "_dom_classes": [],
            "_model_module": "@jupyter-widgets/controls",
            "_model_module_version": "1.5.0",
            "_model_name": "HTMLModel",
            "_view_count": null,
            "_view_module": "@jupyter-widgets/controls",
            "_view_module_version": "1.5.0",
            "_view_name": "HTMLView",
            "description": "",
            "description_tooltip": null,
            "layout": "IPY_MODEL_0e7a2de9df2947af9a6a7bc785410306",
            "placeholder": "​",
            "style": "IPY_MODEL_cd2811bbd9de4681a0ae4fce426c6e18",
            "value": "tokenizer_config.json: 100%"
          }
        },
        "54eb7b0b5e1447b0ad69c4666847b039": {
          "model_module": "@jupyter-widgets/controls",
          "model_name": "FloatProgressModel",
          "model_module_version": "1.5.0",
          "state": {
            "_dom_classes": [],
            "_model_module": "@jupyter-widgets/controls",
            "_model_module_version": "1.5.0",
            "_model_name": "FloatProgressModel",
            "_view_count": null,
            "_view_module": "@jupyter-widgets/controls",
            "_view_module_version": "1.5.0",
            "_view_name": "ProgressView",
            "bar_style": "success",
            "description": "",
            "description_tooltip": null,
            "layout": "IPY_MODEL_eb7a716bf8314dae842d83aa3becd6f4",
            "max": 49,
            "min": 0,
            "orientation": "horizontal",
            "style": "IPY_MODEL_293759b0ba994852a64a0f719517ac87",
            "value": 49
          }
        },
        "9aa3c5e97370429c9a43e08b1199065d": {
          "model_module": "@jupyter-widgets/controls",
          "model_name": "HTMLModel",
          "model_module_version": "1.5.0",
          "state": {
            "_dom_classes": [],
            "_model_module": "@jupyter-widgets/controls",
            "_model_module_version": "1.5.0",
            "_model_name": "HTMLModel",
            "_view_count": null,
            "_view_module": "@jupyter-widgets/controls",
            "_view_module_version": "1.5.0",
            "_view_name": "HTMLView",
            "description": "",
            "description_tooltip": null,
            "layout": "IPY_MODEL_e92d21438fe84521b7777a67b736b57e",
            "placeholder": "​",
            "style": "IPY_MODEL_a90c4e1751df4ce6bdde58ee4b078588",
            "value": " 49.0/49.0 [00:00&lt;00:00, 3.24kB/s]"
          }
        },
        "207893d4fdfb46e0ad1e8dbb2cd1212d": {
          "model_module": "@jupyter-widgets/base",
          "model_name": "LayoutModel",
          "model_module_version": "1.2.0",
          "state": {
            "_model_module": "@jupyter-widgets/base",
            "_model_module_version": "1.2.0",
            "_model_name": "LayoutModel",
            "_view_count": null,
            "_view_module": "@jupyter-widgets/base",
            "_view_module_version": "1.2.0",
            "_view_name": "LayoutView",
            "align_content": null,
            "align_items": null,
            "align_self": null,
            "border": null,
            "bottom": null,
            "display": null,
            "flex": null,
            "flex_flow": null,
            "grid_area": null,
            "grid_auto_columns": null,
            "grid_auto_flow": null,
            "grid_auto_rows": null,
            "grid_column": null,
            "grid_gap": null,
            "grid_row": null,
            "grid_template_areas": null,
            "grid_template_columns": null,
            "grid_template_rows": null,
            "height": null,
            "justify_content": null,
            "justify_items": null,
            "left": null,
            "margin": null,
            "max_height": null,
            "max_width": null,
            "min_height": null,
            "min_width": null,
            "object_fit": null,
            "object_position": null,
            "order": null,
            "overflow": null,
            "overflow_x": null,
            "overflow_y": null,
            "padding": null,
            "right": null,
            "top": null,
            "visibility": null,
            "width": null
          }
        },
        "0e7a2de9df2947af9a6a7bc785410306": {
          "model_module": "@jupyter-widgets/base",
          "model_name": "LayoutModel",
          "model_module_version": "1.2.0",
          "state": {
            "_model_module": "@jupyter-widgets/base",
            "_model_module_version": "1.2.0",
            "_model_name": "LayoutModel",
            "_view_count": null,
            "_view_module": "@jupyter-widgets/base",
            "_view_module_version": "1.2.0",
            "_view_name": "LayoutView",
            "align_content": null,
            "align_items": null,
            "align_self": null,
            "border": null,
            "bottom": null,
            "display": null,
            "flex": null,
            "flex_flow": null,
            "grid_area": null,
            "grid_auto_columns": null,
            "grid_auto_flow": null,
            "grid_auto_rows": null,
            "grid_column": null,
            "grid_gap": null,
            "grid_row": null,
            "grid_template_areas": null,
            "grid_template_columns": null,
            "grid_template_rows": null,
            "height": null,
            "justify_content": null,
            "justify_items": null,
            "left": null,
            "margin": null,
            "max_height": null,
            "max_width": null,
            "min_height": null,
            "min_width": null,
            "object_fit": null,
            "object_position": null,
            "order": null,
            "overflow": null,
            "overflow_x": null,
            "overflow_y": null,
            "padding": null,
            "right": null,
            "top": null,
            "visibility": null,
            "width": null
          }
        },
        "cd2811bbd9de4681a0ae4fce426c6e18": {
          "model_module": "@jupyter-widgets/controls",
          "model_name": "DescriptionStyleModel",
          "model_module_version": "1.5.0",
          "state": {
            "_model_module": "@jupyter-widgets/controls",
            "_model_module_version": "1.5.0",
            "_model_name": "DescriptionStyleModel",
            "_view_count": null,
            "_view_module": "@jupyter-widgets/base",
            "_view_module_version": "1.2.0",
            "_view_name": "StyleView",
            "description_width": ""
          }
        },
        "eb7a716bf8314dae842d83aa3becd6f4": {
          "model_module": "@jupyter-widgets/base",
          "model_name": "LayoutModel",
          "model_module_version": "1.2.0",
          "state": {
            "_model_module": "@jupyter-widgets/base",
            "_model_module_version": "1.2.0",
            "_model_name": "LayoutModel",
            "_view_count": null,
            "_view_module": "@jupyter-widgets/base",
            "_view_module_version": "1.2.0",
            "_view_name": "LayoutView",
            "align_content": null,
            "align_items": null,
            "align_self": null,
            "border": null,
            "bottom": null,
            "display": null,
            "flex": null,
            "flex_flow": null,
            "grid_area": null,
            "grid_auto_columns": null,
            "grid_auto_flow": null,
            "grid_auto_rows": null,
            "grid_column": null,
            "grid_gap": null,
            "grid_row": null,
            "grid_template_areas": null,
            "grid_template_columns": null,
            "grid_template_rows": null,
            "height": null,
            "justify_content": null,
            "justify_items": null,
            "left": null,
            "margin": null,
            "max_height": null,
            "max_width": null,
            "min_height": null,
            "min_width": null,
            "object_fit": null,
            "object_position": null,
            "order": null,
            "overflow": null,
            "overflow_x": null,
            "overflow_y": null,
            "padding": null,
            "right": null,
            "top": null,
            "visibility": null,
            "width": null
          }
        },
        "293759b0ba994852a64a0f719517ac87": {
          "model_module": "@jupyter-widgets/controls",
          "model_name": "ProgressStyleModel",
          "model_module_version": "1.5.0",
          "state": {
            "_model_module": "@jupyter-widgets/controls",
            "_model_module_version": "1.5.0",
            "_model_name": "ProgressStyleModel",
            "_view_count": null,
            "_view_module": "@jupyter-widgets/base",
            "_view_module_version": "1.2.0",
            "_view_name": "StyleView",
            "bar_color": null,
            "description_width": ""
          }
        },
        "e92d21438fe84521b7777a67b736b57e": {
          "model_module": "@jupyter-widgets/base",
          "model_name": "LayoutModel",
          "model_module_version": "1.2.0",
          "state": {
            "_model_module": "@jupyter-widgets/base",
            "_model_module_version": "1.2.0",
            "_model_name": "LayoutModel",
            "_view_count": null,
            "_view_module": "@jupyter-widgets/base",
            "_view_module_version": "1.2.0",
            "_view_name": "LayoutView",
            "align_content": null,
            "align_items": null,
            "align_self": null,
            "border": null,
            "bottom": null,
            "display": null,
            "flex": null,
            "flex_flow": null,
            "grid_area": null,
            "grid_auto_columns": null,
            "grid_auto_flow": null,
            "grid_auto_rows": null,
            "grid_column": null,
            "grid_gap": null,
            "grid_row": null,
            "grid_template_areas": null,
            "grid_template_columns": null,
            "grid_template_rows": null,
            "height": null,
            "justify_content": null,
            "justify_items": null,
            "left": null,
            "margin": null,
            "max_height": null,
            "max_width": null,
            "min_height": null,
            "min_width": null,
            "object_fit": null,
            "object_position": null,
            "order": null,
            "overflow": null,
            "overflow_x": null,
            "overflow_y": null,
            "padding": null,
            "right": null,
            "top": null,
            "visibility": null,
            "width": null
          }
        },
        "a90c4e1751df4ce6bdde58ee4b078588": {
          "model_module": "@jupyter-widgets/controls",
          "model_name": "DescriptionStyleModel",
          "model_module_version": "1.5.0",
          "state": {
            "_model_module": "@jupyter-widgets/controls",
            "_model_module_version": "1.5.0",
            "_model_name": "DescriptionStyleModel",
            "_view_count": null,
            "_view_module": "@jupyter-widgets/base",
            "_view_module_version": "1.2.0",
            "_view_name": "StyleView",
            "description_width": ""
          }
        },
        "5d33ccb15cc8482ea84710657c03d8de": {
          "model_module": "@jupyter-widgets/controls",
          "model_name": "HBoxModel",
          "model_module_version": "1.5.0",
          "state": {
            "_dom_classes": [],
            "_model_module": "@jupyter-widgets/controls",
            "_model_module_version": "1.5.0",
            "_model_name": "HBoxModel",
            "_view_count": null,
            "_view_module": "@jupyter-widgets/controls",
            "_view_module_version": "1.5.0",
            "_view_name": "HBoxView",
            "box_style": "",
            "children": [
              "IPY_MODEL_f6c4ce5a9cc44c708cfd51f01d93fdd3",
              "IPY_MODEL_664fbfe82a1941b79104f6574f3bad6b",
              "IPY_MODEL_ce9bcd96278e4e16ba3034c08719bed5"
            ],
            "layout": "IPY_MODEL_6dafc236e23e42c88843d407df23a2c6"
          }
        },
        "f6c4ce5a9cc44c708cfd51f01d93fdd3": {
          "model_module": "@jupyter-widgets/controls",
          "model_name": "HTMLModel",
          "model_module_version": "1.5.0",
          "state": {
            "_dom_classes": [],
            "_model_module": "@jupyter-widgets/controls",
            "_model_module_version": "1.5.0",
            "_model_name": "HTMLModel",
            "_view_count": null,
            "_view_module": "@jupyter-widgets/controls",
            "_view_module_version": "1.5.0",
            "_view_name": "HTMLView",
            "description": "",
            "description_tooltip": null,
            "layout": "IPY_MODEL_93a8ee0c862141bd9afccce0e9898bc0",
            "placeholder": "​",
            "style": "IPY_MODEL_ff21daa475514719bc872df1fd51fd8a",
            "value": "vocab.txt: 100%"
          }
        },
        "664fbfe82a1941b79104f6574f3bad6b": {
          "model_module": "@jupyter-widgets/controls",
          "model_name": "FloatProgressModel",
          "model_module_version": "1.5.0",
          "state": {
            "_dom_classes": [],
            "_model_module": "@jupyter-widgets/controls",
            "_model_module_version": "1.5.0",
            "_model_name": "FloatProgressModel",
            "_view_count": null,
            "_view_module": "@jupyter-widgets/controls",
            "_view_module_version": "1.5.0",
            "_view_name": "ProgressView",
            "bar_style": "success",
            "description": "",
            "description_tooltip": null,
            "layout": "IPY_MODEL_1a0a689ecaf6494189f98ccb8cce1f27",
            "max": 254728,
            "min": 0,
            "orientation": "horizontal",
            "style": "IPY_MODEL_dbd591641e1e450499493a1ecff41e16",
            "value": 254728
          }
        },
        "ce9bcd96278e4e16ba3034c08719bed5": {
          "model_module": "@jupyter-widgets/controls",
          "model_name": "HTMLModel",
          "model_module_version": "1.5.0",
          "state": {
            "_dom_classes": [],
            "_model_module": "@jupyter-widgets/controls",
            "_model_module_version": "1.5.0",
            "_model_name": "HTMLModel",
            "_view_count": null,
            "_view_module": "@jupyter-widgets/controls",
            "_view_module_version": "1.5.0",
            "_view_name": "HTMLView",
            "description": "",
            "description_tooltip": null,
            "layout": "IPY_MODEL_396a1709d54d40e0a626e3f2829994f9",
            "placeholder": "​",
            "style": "IPY_MODEL_2177ad920f6f41d3b5d2506e17a0937f",
            "value": " 255k/255k [00:00&lt;00:00, 512kB/s]"
          }
        },
        "6dafc236e23e42c88843d407df23a2c6": {
          "model_module": "@jupyter-widgets/base",
          "model_name": "LayoutModel",
          "model_module_version": "1.2.0",
          "state": {
            "_model_module": "@jupyter-widgets/base",
            "_model_module_version": "1.2.0",
            "_model_name": "LayoutModel",
            "_view_count": null,
            "_view_module": "@jupyter-widgets/base",
            "_view_module_version": "1.2.0",
            "_view_name": "LayoutView",
            "align_content": null,
            "align_items": null,
            "align_self": null,
            "border": null,
            "bottom": null,
            "display": null,
            "flex": null,
            "flex_flow": null,
            "grid_area": null,
            "grid_auto_columns": null,
            "grid_auto_flow": null,
            "grid_auto_rows": null,
            "grid_column": null,
            "grid_gap": null,
            "grid_row": null,
            "grid_template_areas": null,
            "grid_template_columns": null,
            "grid_template_rows": null,
            "height": null,
            "justify_content": null,
            "justify_items": null,
            "left": null,
            "margin": null,
            "max_height": null,
            "max_width": null,
            "min_height": null,
            "min_width": null,
            "object_fit": null,
            "object_position": null,
            "order": null,
            "overflow": null,
            "overflow_x": null,
            "overflow_y": null,
            "padding": null,
            "right": null,
            "top": null,
            "visibility": null,
            "width": null
          }
        },
        "93a8ee0c862141bd9afccce0e9898bc0": {
          "model_module": "@jupyter-widgets/base",
          "model_name": "LayoutModel",
          "model_module_version": "1.2.0",
          "state": {
            "_model_module": "@jupyter-widgets/base",
            "_model_module_version": "1.2.0",
            "_model_name": "LayoutModel",
            "_view_count": null,
            "_view_module": "@jupyter-widgets/base",
            "_view_module_version": "1.2.0",
            "_view_name": "LayoutView",
            "align_content": null,
            "align_items": null,
            "align_self": null,
            "border": null,
            "bottom": null,
            "display": null,
            "flex": null,
            "flex_flow": null,
            "grid_area": null,
            "grid_auto_columns": null,
            "grid_auto_flow": null,
            "grid_auto_rows": null,
            "grid_column": null,
            "grid_gap": null,
            "grid_row": null,
            "grid_template_areas": null,
            "grid_template_columns": null,
            "grid_template_rows": null,
            "height": null,
            "justify_content": null,
            "justify_items": null,
            "left": null,
            "margin": null,
            "max_height": null,
            "max_width": null,
            "min_height": null,
            "min_width": null,
            "object_fit": null,
            "object_position": null,
            "order": null,
            "overflow": null,
            "overflow_x": null,
            "overflow_y": null,
            "padding": null,
            "right": null,
            "top": null,
            "visibility": null,
            "width": null
          }
        },
        "ff21daa475514719bc872df1fd51fd8a": {
          "model_module": "@jupyter-widgets/controls",
          "model_name": "DescriptionStyleModel",
          "model_module_version": "1.5.0",
          "state": {
            "_model_module": "@jupyter-widgets/controls",
            "_model_module_version": "1.5.0",
            "_model_name": "DescriptionStyleModel",
            "_view_count": null,
            "_view_module": "@jupyter-widgets/base",
            "_view_module_version": "1.2.0",
            "_view_name": "StyleView",
            "description_width": ""
          }
        },
        "1a0a689ecaf6494189f98ccb8cce1f27": {
          "model_module": "@jupyter-widgets/base",
          "model_name": "LayoutModel",
          "model_module_version": "1.2.0",
          "state": {
            "_model_module": "@jupyter-widgets/base",
            "_model_module_version": "1.2.0",
            "_model_name": "LayoutModel",
            "_view_count": null,
            "_view_module": "@jupyter-widgets/base",
            "_view_module_version": "1.2.0",
            "_view_name": "LayoutView",
            "align_content": null,
            "align_items": null,
            "align_self": null,
            "border": null,
            "bottom": null,
            "display": null,
            "flex": null,
            "flex_flow": null,
            "grid_area": null,
            "grid_auto_columns": null,
            "grid_auto_flow": null,
            "grid_auto_rows": null,
            "grid_column": null,
            "grid_gap": null,
            "grid_row": null,
            "grid_template_areas": null,
            "grid_template_columns": null,
            "grid_template_rows": null,
            "height": null,
            "justify_content": null,
            "justify_items": null,
            "left": null,
            "margin": null,
            "max_height": null,
            "max_width": null,
            "min_height": null,
            "min_width": null,
            "object_fit": null,
            "object_position": null,
            "order": null,
            "overflow": null,
            "overflow_x": null,
            "overflow_y": null,
            "padding": null,
            "right": null,
            "top": null,
            "visibility": null,
            "width": null
          }
        },
        "dbd591641e1e450499493a1ecff41e16": {
          "model_module": "@jupyter-widgets/controls",
          "model_name": "ProgressStyleModel",
          "model_module_version": "1.5.0",
          "state": {
            "_model_module": "@jupyter-widgets/controls",
            "_model_module_version": "1.5.0",
            "_model_name": "ProgressStyleModel",
            "_view_count": null,
            "_view_module": "@jupyter-widgets/base",
            "_view_module_version": "1.2.0",
            "_view_name": "StyleView",
            "bar_color": null,
            "description_width": ""
          }
        },
        "396a1709d54d40e0a626e3f2829994f9": {
          "model_module": "@jupyter-widgets/base",
          "model_name": "LayoutModel",
          "model_module_version": "1.2.0",
          "state": {
            "_model_module": "@jupyter-widgets/base",
            "_model_module_version": "1.2.0",
            "_model_name": "LayoutModel",
            "_view_count": null,
            "_view_module": "@jupyter-widgets/base",
            "_view_module_version": "1.2.0",
            "_view_name": "LayoutView",
            "align_content": null,
            "align_items": null,
            "align_self": null,
            "border": null,
            "bottom": null,
            "display": null,
            "flex": null,
            "flex_flow": null,
            "grid_area": null,
            "grid_auto_columns": null,
            "grid_auto_flow": null,
            "grid_auto_rows": null,
            "grid_column": null,
            "grid_gap": null,
            "grid_row": null,
            "grid_template_areas": null,
            "grid_template_columns": null,
            "grid_template_rows": null,
            "height": null,
            "justify_content": null,
            "justify_items": null,
            "left": null,
            "margin": null,
            "max_height": null,
            "max_width": null,
            "min_height": null,
            "min_width": null,
            "object_fit": null,
            "object_position": null,
            "order": null,
            "overflow": null,
            "overflow_x": null,
            "overflow_y": null,
            "padding": null,
            "right": null,
            "top": null,
            "visibility": null,
            "width": null
          }
        },
        "2177ad920f6f41d3b5d2506e17a0937f": {
          "model_module": "@jupyter-widgets/controls",
          "model_name": "DescriptionStyleModel",
          "model_module_version": "1.5.0",
          "state": {
            "_model_module": "@jupyter-widgets/controls",
            "_model_module_version": "1.5.0",
            "_model_name": "DescriptionStyleModel",
            "_view_count": null,
            "_view_module": "@jupyter-widgets/base",
            "_view_module_version": "1.2.0",
            "_view_name": "StyleView",
            "description_width": ""
          }
        },
        "67f50254f1a541fa90d841ec1312d55a": {
          "model_module": "@jupyter-widgets/controls",
          "model_name": "HBoxModel",
          "model_module_version": "1.5.0",
          "state": {
            "_dom_classes": [],
            "_model_module": "@jupyter-widgets/controls",
            "_model_module_version": "1.5.0",
            "_model_name": "HBoxModel",
            "_view_count": null,
            "_view_module": "@jupyter-widgets/controls",
            "_view_module_version": "1.5.0",
            "_view_name": "HBoxView",
            "box_style": "",
            "children": [
              "IPY_MODEL_0e93f905d4f7440ebc0a73b7bf19d539",
              "IPY_MODEL_0abd28b828374aa6be11aa18836e15ec",
              "IPY_MODEL_3fe9993d1ddf449194590da24b9ee048"
            ],
            "layout": "IPY_MODEL_78701e482c784646951f6929a9c9fadb"
          }
        },
        "0e93f905d4f7440ebc0a73b7bf19d539": {
          "model_module": "@jupyter-widgets/controls",
          "model_name": "HTMLModel",
          "model_module_version": "1.5.0",
          "state": {
            "_dom_classes": [],
            "_model_module": "@jupyter-widgets/controls",
            "_model_module_version": "1.5.0",
            "_model_name": "HTMLModel",
            "_view_count": null,
            "_view_module": "@jupyter-widgets/controls",
            "_view_module_version": "1.5.0",
            "_view_name": "HTMLView",
            "description": "",
            "description_tooltip": null,
            "layout": "IPY_MODEL_85c78219803b45788c2a80a407bf124b",
            "placeholder": "​",
            "style": "IPY_MODEL_3ad317c79f894e119c676c4320f1b13b",
            "value": "tokenizer.json: 100%"
          }
        },
        "0abd28b828374aa6be11aa18836e15ec": {
          "model_module": "@jupyter-widgets/controls",
          "model_name": "FloatProgressModel",
          "model_module_version": "1.5.0",
          "state": {
            "_dom_classes": [],
            "_model_module": "@jupyter-widgets/controls",
            "_model_module_version": "1.5.0",
            "_model_name": "FloatProgressModel",
            "_view_count": null,
            "_view_module": "@jupyter-widgets/controls",
            "_view_module_version": "1.5.0",
            "_view_name": "ProgressView",
            "bar_style": "success",
            "description": "",
            "description_tooltip": null,
            "layout": "IPY_MODEL_85cd76b62f03414b86ef11322ec8376d",
            "max": 485115,
            "min": 0,
            "orientation": "horizontal",
            "style": "IPY_MODEL_97a82509cd3043d9a5478fbf4150c285",
            "value": 485115
          }
        },
        "3fe9993d1ddf449194590da24b9ee048": {
          "model_module": "@jupyter-widgets/controls",
          "model_name": "HTMLModel",
          "model_module_version": "1.5.0",
          "state": {
            "_dom_classes": [],
            "_model_module": "@jupyter-widgets/controls",
            "_model_module_version": "1.5.0",
            "_model_name": "HTMLModel",
            "_view_count": null,
            "_view_module": "@jupyter-widgets/controls",
            "_view_module_version": "1.5.0",
            "_view_name": "HTMLView",
            "description": "",
            "description_tooltip": null,
            "layout": "IPY_MODEL_95a0e129446841aea29fad8f016943e3",
            "placeholder": "​",
            "style": "IPY_MODEL_d8f3a0d1e5a541b79cce4ee5806562e6",
            "value": " 485k/485k [00:00&lt;00:00, 709kB/s]"
          }
        },
        "78701e482c784646951f6929a9c9fadb": {
          "model_module": "@jupyter-widgets/base",
          "model_name": "LayoutModel",
          "model_module_version": "1.2.0",
          "state": {
            "_model_module": "@jupyter-widgets/base",
            "_model_module_version": "1.2.0",
            "_model_name": "LayoutModel",
            "_view_count": null,
            "_view_module": "@jupyter-widgets/base",
            "_view_module_version": "1.2.0",
            "_view_name": "LayoutView",
            "align_content": null,
            "align_items": null,
            "align_self": null,
            "border": null,
            "bottom": null,
            "display": null,
            "flex": null,
            "flex_flow": null,
            "grid_area": null,
            "grid_auto_columns": null,
            "grid_auto_flow": null,
            "grid_auto_rows": null,
            "grid_column": null,
            "grid_gap": null,
            "grid_row": null,
            "grid_template_areas": null,
            "grid_template_columns": null,
            "grid_template_rows": null,
            "height": null,
            "justify_content": null,
            "justify_items": null,
            "left": null,
            "margin": null,
            "max_height": null,
            "max_width": null,
            "min_height": null,
            "min_width": null,
            "object_fit": null,
            "object_position": null,
            "order": null,
            "overflow": null,
            "overflow_x": null,
            "overflow_y": null,
            "padding": null,
            "right": null,
            "top": null,
            "visibility": null,
            "width": null
          }
        },
        "85c78219803b45788c2a80a407bf124b": {
          "model_module": "@jupyter-widgets/base",
          "model_name": "LayoutModel",
          "model_module_version": "1.2.0",
          "state": {
            "_model_module": "@jupyter-widgets/base",
            "_model_module_version": "1.2.0",
            "_model_name": "LayoutModel",
            "_view_count": null,
            "_view_module": "@jupyter-widgets/base",
            "_view_module_version": "1.2.0",
            "_view_name": "LayoutView",
            "align_content": null,
            "align_items": null,
            "align_self": null,
            "border": null,
            "bottom": null,
            "display": null,
            "flex": null,
            "flex_flow": null,
            "grid_area": null,
            "grid_auto_columns": null,
            "grid_auto_flow": null,
            "grid_auto_rows": null,
            "grid_column": null,
            "grid_gap": null,
            "grid_row": null,
            "grid_template_areas": null,
            "grid_template_columns": null,
            "grid_template_rows": null,
            "height": null,
            "justify_content": null,
            "justify_items": null,
            "left": null,
            "margin": null,
            "max_height": null,
            "max_width": null,
            "min_height": null,
            "min_width": null,
            "object_fit": null,
            "object_position": null,
            "order": null,
            "overflow": null,
            "overflow_x": null,
            "overflow_y": null,
            "padding": null,
            "right": null,
            "top": null,
            "visibility": null,
            "width": null
          }
        },
        "3ad317c79f894e119c676c4320f1b13b": {
          "model_module": "@jupyter-widgets/controls",
          "model_name": "DescriptionStyleModel",
          "model_module_version": "1.5.0",
          "state": {
            "_model_module": "@jupyter-widgets/controls",
            "_model_module_version": "1.5.0",
            "_model_name": "DescriptionStyleModel",
            "_view_count": null,
            "_view_module": "@jupyter-widgets/base",
            "_view_module_version": "1.2.0",
            "_view_name": "StyleView",
            "description_width": ""
          }
        },
        "85cd76b62f03414b86ef11322ec8376d": {
          "model_module": "@jupyter-widgets/base",
          "model_name": "LayoutModel",
          "model_module_version": "1.2.0",
          "state": {
            "_model_module": "@jupyter-widgets/base",
            "_model_module_version": "1.2.0",
            "_model_name": "LayoutModel",
            "_view_count": null,
            "_view_module": "@jupyter-widgets/base",
            "_view_module_version": "1.2.0",
            "_view_name": "LayoutView",
            "align_content": null,
            "align_items": null,
            "align_self": null,
            "border": null,
            "bottom": null,
            "display": null,
            "flex": null,
            "flex_flow": null,
            "grid_area": null,
            "grid_auto_columns": null,
            "grid_auto_flow": null,
            "grid_auto_rows": null,
            "grid_column": null,
            "grid_gap": null,
            "grid_row": null,
            "grid_template_areas": null,
            "grid_template_columns": null,
            "grid_template_rows": null,
            "height": null,
            "justify_content": null,
            "justify_items": null,
            "left": null,
            "margin": null,
            "max_height": null,
            "max_width": null,
            "min_height": null,
            "min_width": null,
            "object_fit": null,
            "object_position": null,
            "order": null,
            "overflow": null,
            "overflow_x": null,
            "overflow_y": null,
            "padding": null,
            "right": null,
            "top": null,
            "visibility": null,
            "width": null
          }
        },
        "97a82509cd3043d9a5478fbf4150c285": {
          "model_module": "@jupyter-widgets/controls",
          "model_name": "ProgressStyleModel",
          "model_module_version": "1.5.0",
          "state": {
            "_model_module": "@jupyter-widgets/controls",
            "_model_module_version": "1.5.0",
            "_model_name": "ProgressStyleModel",
            "_view_count": null,
            "_view_module": "@jupyter-widgets/base",
            "_view_module_version": "1.2.0",
            "_view_name": "StyleView",
            "bar_color": null,
            "description_width": ""
          }
        },
        "95a0e129446841aea29fad8f016943e3": {
          "model_module": "@jupyter-widgets/base",
          "model_name": "LayoutModel",
          "model_module_version": "1.2.0",
          "state": {
            "_model_module": "@jupyter-widgets/base",
            "_model_module_version": "1.2.0",
            "_model_name": "LayoutModel",
            "_view_count": null,
            "_view_module": "@jupyter-widgets/base",
            "_view_module_version": "1.2.0",
            "_view_name": "LayoutView",
            "align_content": null,
            "align_items": null,
            "align_self": null,
            "border": null,
            "bottom": null,
            "display": null,
            "flex": null,
            "flex_flow": null,
            "grid_area": null,
            "grid_auto_columns": null,
            "grid_auto_flow": null,
            "grid_auto_rows": null,
            "grid_column": null,
            "grid_gap": null,
            "grid_row": null,
            "grid_template_areas": null,
            "grid_template_columns": null,
            "grid_template_rows": null,
            "height": null,
            "justify_content": null,
            "justify_items": null,
            "left": null,
            "margin": null,
            "max_height": null,
            "max_width": null,
            "min_height": null,
            "min_width": null,
            "object_fit": null,
            "object_position": null,
            "order": null,
            "overflow": null,
            "overflow_x": null,
            "overflow_y": null,
            "padding": null,
            "right": null,
            "top": null,
            "visibility": null,
            "width": null
          }
        },
        "d8f3a0d1e5a541b79cce4ee5806562e6": {
          "model_module": "@jupyter-widgets/controls",
          "model_name": "DescriptionStyleModel",
          "model_module_version": "1.5.0",
          "state": {
            "_model_module": "@jupyter-widgets/controls",
            "_model_module_version": "1.5.0",
            "_model_name": "DescriptionStyleModel",
            "_view_count": null,
            "_view_module": "@jupyter-widgets/base",
            "_view_module_version": "1.2.0",
            "_view_name": "StyleView",
            "description_width": ""
          }
        },
        "628cb99c7fb941f3b670332a0574f3bd": {
          "model_module": "@jupyter-widgets/controls",
          "model_name": "HBoxModel",
          "model_module_version": "1.5.0",
          "state": {
            "_dom_classes": [],
            "_model_module": "@jupyter-widgets/controls",
            "_model_module_version": "1.5.0",
            "_model_name": "HBoxModel",
            "_view_count": null,
            "_view_module": "@jupyter-widgets/controls",
            "_view_module_version": "1.5.0",
            "_view_name": "HBoxView",
            "box_style": "",
            "children": [
              "IPY_MODEL_ede4e11f0b2141518e89fdf46d4574f8",
              "IPY_MODEL_647e6e2121b44e66aa846a18da4122d9",
              "IPY_MODEL_144705e3c3494fb796cc320d18cad02a"
            ],
            "layout": "IPY_MODEL_fb90839be631478b8726d33f77c8f1b1"
          }
        },
        "ede4e11f0b2141518e89fdf46d4574f8": {
          "model_module": "@jupyter-widgets/controls",
          "model_name": "HTMLModel",
          "model_module_version": "1.5.0",
          "state": {
            "_dom_classes": [],
            "_model_module": "@jupyter-widgets/controls",
            "_model_module_version": "1.5.0",
            "_model_name": "HTMLModel",
            "_view_count": null,
            "_view_module": "@jupyter-widgets/controls",
            "_view_module_version": "1.5.0",
            "_view_name": "HTMLView",
            "description": "",
            "description_tooltip": null,
            "layout": "IPY_MODEL_876817020dcd44ab9e6c4f9e0fe9d7ed",
            "placeholder": "​",
            "style": "IPY_MODEL_755a614de89740169f1f0a4729655300",
            "value": "config.json: 100%"
          }
        },
        "647e6e2121b44e66aa846a18da4122d9": {
          "model_module": "@jupyter-widgets/controls",
          "model_name": "FloatProgressModel",
          "model_module_version": "1.5.0",
          "state": {
            "_dom_classes": [],
            "_model_module": "@jupyter-widgets/controls",
            "_model_module_version": "1.5.0",
            "_model_name": "FloatProgressModel",
            "_view_count": null,
            "_view_module": "@jupyter-widgets/controls",
            "_view_module_version": "1.5.0",
            "_view_name": "ProgressView",
            "bar_style": "success",
            "description": "",
            "description_tooltip": null,
            "layout": "IPY_MODEL_59f8206a4e5348b9b312c6bf03a88ee2",
            "max": 433,
            "min": 0,
            "orientation": "horizontal",
            "style": "IPY_MODEL_99f1c338a909451ba0dfe597e91f247c",
            "value": 433
          }
        },
        "144705e3c3494fb796cc320d18cad02a": {
          "model_module": "@jupyter-widgets/controls",
          "model_name": "HTMLModel",
          "model_module_version": "1.5.0",
          "state": {
            "_dom_classes": [],
            "_model_module": "@jupyter-widgets/controls",
            "_model_module_version": "1.5.0",
            "_model_name": "HTMLModel",
            "_view_count": null,
            "_view_module": "@jupyter-widgets/controls",
            "_view_module_version": "1.5.0",
            "_view_name": "HTMLView",
            "description": "",
            "description_tooltip": null,
            "layout": "IPY_MODEL_d2a45dbee5914a518fd34b426b3b3320",
            "placeholder": "​",
            "style": "IPY_MODEL_2e0aff80bb494e9687cf85000cc9ddfc",
            "value": " 433/433 [00:00&lt;00:00, 33.8kB/s]"
          }
        },
        "fb90839be631478b8726d33f77c8f1b1": {
          "model_module": "@jupyter-widgets/base",
          "model_name": "LayoutModel",
          "model_module_version": "1.2.0",
          "state": {
            "_model_module": "@jupyter-widgets/base",
            "_model_module_version": "1.2.0",
            "_model_name": "LayoutModel",
            "_view_count": null,
            "_view_module": "@jupyter-widgets/base",
            "_view_module_version": "1.2.0",
            "_view_name": "LayoutView",
            "align_content": null,
            "align_items": null,
            "align_self": null,
            "border": null,
            "bottom": null,
            "display": null,
            "flex": null,
            "flex_flow": null,
            "grid_area": null,
            "grid_auto_columns": null,
            "grid_auto_flow": null,
            "grid_auto_rows": null,
            "grid_column": null,
            "grid_gap": null,
            "grid_row": null,
            "grid_template_areas": null,
            "grid_template_columns": null,
            "grid_template_rows": null,
            "height": null,
            "justify_content": null,
            "justify_items": null,
            "left": null,
            "margin": null,
            "max_height": null,
            "max_width": null,
            "min_height": null,
            "min_width": null,
            "object_fit": null,
            "object_position": null,
            "order": null,
            "overflow": null,
            "overflow_x": null,
            "overflow_y": null,
            "padding": null,
            "right": null,
            "top": null,
            "visibility": null,
            "width": null
          }
        },
        "876817020dcd44ab9e6c4f9e0fe9d7ed": {
          "model_module": "@jupyter-widgets/base",
          "model_name": "LayoutModel",
          "model_module_version": "1.2.0",
          "state": {
            "_model_module": "@jupyter-widgets/base",
            "_model_module_version": "1.2.0",
            "_model_name": "LayoutModel",
            "_view_count": null,
            "_view_module": "@jupyter-widgets/base",
            "_view_module_version": "1.2.0",
            "_view_name": "LayoutView",
            "align_content": null,
            "align_items": null,
            "align_self": null,
            "border": null,
            "bottom": null,
            "display": null,
            "flex": null,
            "flex_flow": null,
            "grid_area": null,
            "grid_auto_columns": null,
            "grid_auto_flow": null,
            "grid_auto_rows": null,
            "grid_column": null,
            "grid_gap": null,
            "grid_row": null,
            "grid_template_areas": null,
            "grid_template_columns": null,
            "grid_template_rows": null,
            "height": null,
            "justify_content": null,
            "justify_items": null,
            "left": null,
            "margin": null,
            "max_height": null,
            "max_width": null,
            "min_height": null,
            "min_width": null,
            "object_fit": null,
            "object_position": null,
            "order": null,
            "overflow": null,
            "overflow_x": null,
            "overflow_y": null,
            "padding": null,
            "right": null,
            "top": null,
            "visibility": null,
            "width": null
          }
        },
        "755a614de89740169f1f0a4729655300": {
          "model_module": "@jupyter-widgets/controls",
          "model_name": "DescriptionStyleModel",
          "model_module_version": "1.5.0",
          "state": {
            "_model_module": "@jupyter-widgets/controls",
            "_model_module_version": "1.5.0",
            "_model_name": "DescriptionStyleModel",
            "_view_count": null,
            "_view_module": "@jupyter-widgets/base",
            "_view_module_version": "1.2.0",
            "_view_name": "StyleView",
            "description_width": ""
          }
        },
        "59f8206a4e5348b9b312c6bf03a88ee2": {
          "model_module": "@jupyter-widgets/base",
          "model_name": "LayoutModel",
          "model_module_version": "1.2.0",
          "state": {
            "_model_module": "@jupyter-widgets/base",
            "_model_module_version": "1.2.0",
            "_model_name": "LayoutModel",
            "_view_count": null,
            "_view_module": "@jupyter-widgets/base",
            "_view_module_version": "1.2.0",
            "_view_name": "LayoutView",
            "align_content": null,
            "align_items": null,
            "align_self": null,
            "border": null,
            "bottom": null,
            "display": null,
            "flex": null,
            "flex_flow": null,
            "grid_area": null,
            "grid_auto_columns": null,
            "grid_auto_flow": null,
            "grid_auto_rows": null,
            "grid_column": null,
            "grid_gap": null,
            "grid_row": null,
            "grid_template_areas": null,
            "grid_template_columns": null,
            "grid_template_rows": null,
            "height": null,
            "justify_content": null,
            "justify_items": null,
            "left": null,
            "margin": null,
            "max_height": null,
            "max_width": null,
            "min_height": null,
            "min_width": null,
            "object_fit": null,
            "object_position": null,
            "order": null,
            "overflow": null,
            "overflow_x": null,
            "overflow_y": null,
            "padding": null,
            "right": null,
            "top": null,
            "visibility": null,
            "width": null
          }
        },
        "99f1c338a909451ba0dfe597e91f247c": {
          "model_module": "@jupyter-widgets/controls",
          "model_name": "ProgressStyleModel",
          "model_module_version": "1.5.0",
          "state": {
            "_model_module": "@jupyter-widgets/controls",
            "_model_module_version": "1.5.0",
            "_model_name": "ProgressStyleModel",
            "_view_count": null,
            "_view_module": "@jupyter-widgets/base",
            "_view_module_version": "1.2.0",
            "_view_name": "StyleView",
            "bar_color": null,
            "description_width": ""
          }
        },
        "d2a45dbee5914a518fd34b426b3b3320": {
          "model_module": "@jupyter-widgets/base",
          "model_name": "LayoutModel",
          "model_module_version": "1.2.0",
          "state": {
            "_model_module": "@jupyter-widgets/base",
            "_model_module_version": "1.2.0",
            "_model_name": "LayoutModel",
            "_view_count": null,
            "_view_module": "@jupyter-widgets/base",
            "_view_module_version": "1.2.0",
            "_view_name": "LayoutView",
            "align_content": null,
            "align_items": null,
            "align_self": null,
            "border": null,
            "bottom": null,
            "display": null,
            "flex": null,
            "flex_flow": null,
            "grid_area": null,
            "grid_auto_columns": null,
            "grid_auto_flow": null,
            "grid_auto_rows": null,
            "grid_column": null,
            "grid_gap": null,
            "grid_row": null,
            "grid_template_areas": null,
            "grid_template_columns": null,
            "grid_template_rows": null,
            "height": null,
            "justify_content": null,
            "justify_items": null,
            "left": null,
            "margin": null,
            "max_height": null,
            "max_width": null,
            "min_height": null,
            "min_width": null,
            "object_fit": null,
            "object_position": null,
            "order": null,
            "overflow": null,
            "overflow_x": null,
            "overflow_y": null,
            "padding": null,
            "right": null,
            "top": null,
            "visibility": null,
            "width": null
          }
        },
        "2e0aff80bb494e9687cf85000cc9ddfc": {
          "model_module": "@jupyter-widgets/controls",
          "model_name": "DescriptionStyleModel",
          "model_module_version": "1.5.0",
          "state": {
            "_model_module": "@jupyter-widgets/controls",
            "_model_module_version": "1.5.0",
            "_model_name": "DescriptionStyleModel",
            "_view_count": null,
            "_view_module": "@jupyter-widgets/base",
            "_view_module_version": "1.2.0",
            "_view_name": "StyleView",
            "description_width": ""
          }
        }
      }
    }
  },
  "nbformat": 4,
  "nbformat_minor": 0
}