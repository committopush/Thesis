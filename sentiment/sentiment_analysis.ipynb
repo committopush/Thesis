{
 "cells": [
  {
   "cell_type": "code",
   "id": "initial_id",
   "metadata": {
    "collapsed": true,
    "ExecuteTime": {
     "end_time": "2024-11-11T18:43:38.844686Z",
     "start_time": "2024-11-11T18:43:38.841631Z"
    }
   },
   "source": [
    "from tqdm import tqdm\n",
    "import pandas as pd\n",
    "import string\n",
    "from nltk.corpus import stopwords\n",
    "import nltk"
   ],
   "outputs": [],
   "execution_count": 37
  },
  {
   "metadata": {
    "ExecuteTime": {
     "end_time": "2024-11-11T18:43:38.863576Z",
     "start_time": "2024-11-11T18:43:38.860763Z"
    }
   },
   "cell_type": "code",
   "source": [
    "# Download stopwords if necessary\n",
    "nltk.download('stopwords')"
   ],
   "id": "d1a58fe9b18a13c9",
   "outputs": [
    {
     "name": "stderr",
     "output_type": "stream",
     "text": [
      "[nltk_data] Downloading package stopwords to /Users/toni/nltk_data...\n",
      "[nltk_data]   Package stopwords is already up-to-date!\n"
     ]
    },
    {
     "data": {
      "text/plain": [
       "True"
      ]
     },
     "execution_count": 38,
     "metadata": {},
     "output_type": "execute_result"
    }
   ],
   "execution_count": 38
  },
  {
   "metadata": {
    "ExecuteTime": {
     "end_time": "2024-11-11T18:43:42.819246Z",
     "start_time": "2024-11-11T18:43:39.587788Z"
    }
   },
   "cell_type": "code",
   "source": [
    "# Load sentiment dictionaries and speech dataframe\n",
    "sentiment_df_1 = pd.read_csv('sent_dictionary_1.csv')\n",
    "sentiment_df_2 = pd.read_csv('sent_dictionary_2.csv')\n",
    "speeches_df = pd.read_pickle('content_df_features.pkl')"
   ],
   "id": "6e920ca73b675ff5",
   "outputs": [],
   "execution_count": 39
  },
  {
   "metadata": {
    "ExecuteTime": {
     "end_time": "2024-11-11T18:43:42.839612Z",
     "start_time": "2024-11-11T18:43:42.825439Z"
    }
   },
   "cell_type": "code",
   "source": [
    "# Prepare German stopwords and process speech content\n",
    "stop_words = set(stopwords.words('german'))\n",
    "sentiment_scores_1 = dict(zip(sentiment_df_1['v2'], sentiment_df_1['v3']))\n",
    "sentiment_scores_2 = dict(zip(sentiment_df_2['feature'].str.strip(), sentiment_df_2['sentiment']))"
   ],
   "id": "b2cdda452c2d572f",
   "outputs": [],
   "execution_count": 40
  },
  {
   "metadata": {
    "ExecuteTime": {
     "end_time": "2024-11-11T18:43:42.853930Z",
     "start_time": "2024-11-11T18:43:42.851756Z"
    }
   },
   "cell_type": "code",
   "source": [
    "def preprocess_text(text):\n",
    "    # Lowercase, remove punctuation, and filter out stopwords\n",
    "    return [word for word in text.lower().translate(str.maketrans('', '', string.punctuation)).split()\n",
    "            if word not in stop_words]"
   ],
   "id": "c3d058e2aa62b66b",
   "outputs": [],
   "execution_count": 41
  },
  {
   "metadata": {
    "ExecuteTime": {
     "end_time": "2024-11-11T18:45:35.925903Z",
     "start_time": "2024-11-11T18:43:42.865721Z"
    }
   },
   "cell_type": "code",
   "source": [
    "# Apply preprocessing with tqdm\n",
    "tqdm.pandas(desc=\"Preprocessing speeches\")\n",
    "speeches_df['processed_content'] = speeches_df['speech_content'].progress_apply(preprocess_text)"
   ],
   "id": "50b5bf72ec5f7966",
   "outputs": [
    {
     "name": "stderr",
     "output_type": "stream",
     "text": [
      "Preprocessing speeches: 100%|██████████| 966046/966046 [01:52<00:00, 8559.03it/s] \n"
     ]
    }
   ],
   "execution_count": 42
  },
  {
   "metadata": {
    "ExecuteTime": {
     "end_time": "2024-11-11T18:45:37.016181Z",
     "start_time": "2024-11-11T18:45:37.013877Z"
    }
   },
   "cell_type": "code",
   "source": [
    "# Calculate sentiment score with sentiment dictionary\n",
    "def calculate_sentiment_score(words, sentiment_scores):\n",
    "    total_score = sum(sentiment_scores.get(word, 0) for word in words if word in sentiment_scores)\n",
    "    return total_score / len(words) if len(words) > 0 else 0"
   ],
   "id": "42c289a6f249bfc8",
   "outputs": [],
   "execution_count": 43
  },
  {
   "metadata": {
    "ExecuteTime": {
     "end_time": "2024-11-11T18:45:42.737506Z",
     "start_time": "2024-11-11T18:45:37.366794Z"
    }
   },
   "cell_type": "code",
   "source": [
    "tqdm.pandas(desc=\"Computing sentiment score with dictionary 1\")\n",
    "speeches_df['sentiment_score_1'] = speeches_df['processed_content'].progress_apply(\n",
    "    lambda words: calculate_sentiment_score(words, sentiment_scores_1)\n",
    ")"
   ],
   "id": "5142d3027c6e30e6",
   "outputs": [
    {
     "name": "stderr",
     "output_type": "stream",
     "text": [
      "Computing sentiment score with dictionary 1: 100%|██████████| 966046/966046 [00:05<00:00, 180020.68it/s]\n"
     ]
    }
   ],
   "execution_count": 44
  },
  {
   "metadata": {
    "ExecuteTime": {
     "end_time": "2024-11-11T18:45:49.263870Z",
     "start_time": "2024-11-11T18:45:43.058252Z"
    }
   },
   "cell_type": "code",
   "source": [
    "tqdm.pandas(desc=\"Computing sentiment score with dictionary 2\")\n",
    "speeches_df['sentiment_score_2'] = speeches_df['processed_content'].progress_apply(\n",
    "    lambda words: calculate_sentiment_score(words, sentiment_scores_2)\n",
    ")"
   ],
   "id": "31bb7ca1488b2cec",
   "outputs": [
    {
     "name": "stderr",
     "output_type": "stream",
     "text": [
      "Computing sentiment score with dictionary 2: 100%|██████████| 966046/966046 [00:06<00:00, 155779.13it/s]\n"
     ]
    }
   ],
   "execution_count": 45
  },
  {
   "metadata": {
    "ExecuteTime": {
     "end_time": "2024-11-11T18:45:50.842858Z",
     "start_time": "2024-11-11T18:45:49.494095Z"
    }
   },
   "cell_type": "code",
   "source": "speeches_df.drop(columns=['processed_content'], inplace=True)",
   "id": "b16646baa561e625",
   "outputs": [],
   "execution_count": 46
  },
  {
   "metadata": {
    "ExecuteTime": {
     "end_time": "2024-11-11T18:45:51.463306Z",
     "start_time": "2024-11-11T18:45:51.060645Z"
    }
   },
   "cell_type": "code",
   "source": "speeches_df",
   "id": "7492d813a5753fdf",
   "outputs": [
    {
     "data": {
      "text/plain": [
       "             id  electoral_term  session first_name  \\\n",
       "0             0               1        2              \n",
       "1             1               1        2              \n",
       "2             2               1        2              \n",
       "3             3               1        2              \n",
       "4             4               1        2              \n",
       "...         ...             ...      ...        ...   \n",
       "966041  1075922              20      187     thomas   \n",
       "966042  1075923              20      187      petra   \n",
       "966043  1075924              20      187     thomas   \n",
       "966044  1075925              20      187      petra   \n",
       "966045  1075926              20      187   angelika   \n",
       "\n",
       "                                             document_url last_name  \\\n",
       "0       https://dip21.bundestag.de/dip21/btp/01/01002.pdf    köhler   \n",
       "1       https://dip21.bundestag.de/dip21/btp/01/01002.pdf    arnold   \n",
       "2       https://dip21.bundestag.de/dip21/btp/01/01002.pdf    köhler   \n",
       "3       https://dip21.bundestag.de/dip21/btp/01/01002.pdf     heuss   \n",
       "4       https://dip21.bundestag.de/dip21/btp/01/01002.pdf    köhler   \n",
       "...                                                   ...       ...   \n",
       "966041  https://dip21.bundestag.de/dip21/btp/20/20187.pdf     seitz   \n",
       "966042  https://dip21.bundestag.de/dip21/btp/20/20187.pdf       pau   \n",
       "966043  https://dip21.bundestag.de/dip21/btp/20/20187.pdf     seitz   \n",
       "966044  https://dip21.bundestag.de/dip21/btp/20/20187.pdf       pau   \n",
       "966045  https://dip21.bundestag.de/dip21/btp/20/20187.pdf  glöckner   \n",
       "\n",
       "        faction_id           position_short             position_long  \\\n",
       "0                5  Presidium of Parliament                 präsident   \n",
       "1               -1                    Guest  präsident des bundesrats   \n",
       "2                5  Presidium of Parliament                 präsident   \n",
       "3               -1                    Guest           bundespräsident   \n",
       "4                5  Presidium of Parliament                 präsident   \n",
       "...            ...                      ...                       ...   \n",
       "966041           0     Member of Parliament                      None   \n",
       "966042           7  Presidium of Parliament           Vizepräsidentin   \n",
       "966043          18     Member of Parliament                      None   \n",
       "966044           7  Presidium of Parliament           Vizepräsidentin   \n",
       "966045          25     Member of Parliament                      None   \n",
       "\n",
       "        politician_id  ...                                     speech_content  \\\n",
       "0            11001150  ...  Meine Damen und Herren! Ich eröffne die 2. Sit...   \n",
       "1                  -1  ...      Der Bundesrat ist versammelt, Herr Präsident.   \n",
       "2            11001150  ...  Ich danke für diese Erklärung. Ich stelle dami...   \n",
       "3                  -1  ...                           Ja, ich habe den Wunsch.   \n",
       "4            11001150  ...  Ich erteile dem Herrn Bundespräsidenten das Wort.   \n",
       "...               ...  ...                                                ...   \n",
       "966041       11004891  ...  Sehr geehrte Frau Präsidentin! Meine Damen und...   \n",
       "966042       11003206  ...                                 Herr Abgeordneter.   \n",
       "966043       11004891  ...                                       Vielen Dank.   \n",
       "966044       11003206  ...  Für die SPD-Fraktion hat die Kollegin Angelika...   \n",
       "966045       11004614  ...  Sehr geehrte Frau Präsidentin! Kolleginnen und...   \n",
       "\n",
       "             date       faction  year speech_length   age    gender  \\\n",
       "0      1949-09-11       CDU/CSU  1949           546  57.0  männlich   \n",
       "1      1949-09-11           NaN  1949            45   NaN       NaN   \n",
       "2      1949-09-11       CDU/CSU  1949           895  57.0  männlich   \n",
       "3      1949-09-11           NaN  1949            24   NaN       NaN   \n",
       "4      1949-09-11       CDU/CSU  1949            49  57.0  männlich   \n",
       "...           ...           ...   ...           ...   ...       ...   \n",
       "966041 2024-09-25           AfD  2024          1799  57.0  männlich   \n",
       "966042 2024-09-25    DIE LINKE.  2024            18  61.0  weiblich   \n",
       "966043 2024-09-25  Fraktionslos  2024            12  57.0  männlich   \n",
       "966044 2024-09-25    DIE LINKE.  2024            65  61.0  weiblich   \n",
       "966045 2024-09-25           SPD  2024          2561  62.0  weiblich   \n",
       "\n",
       "           tenure sentiment_score_1  sentiment_score_2  \n",
       "0        0.000000          0.000000           0.047619  \n",
       "1        0.000000          0.000000           0.000000  \n",
       "2        0.000000          0.133946           0.181818  \n",
       "3        0.000000          0.000000           1.000000  \n",
       "4        0.000000          0.000000           0.000000  \n",
       "...           ...               ...                ...  \n",
       "966041   6.594521          0.112649           0.030534  \n",
       "966042  25.887671          0.000000           0.000000  \n",
       "966043   6.594521          0.000000           0.500000  \n",
       "966044  25.887671          0.000000           0.000000  \n",
       "966045   9.780822          0.196735           0.016216  \n",
       "\n",
       "[966046 rows x 22 columns]"
      ],
      "text/html": [
       "<div>\n",
       "<style scoped>\n",
       "    .dataframe tbody tr th:only-of-type {\n",
       "        vertical-align: middle;\n",
       "    }\n",
       "\n",
       "    .dataframe tbody tr th {\n",
       "        vertical-align: top;\n",
       "    }\n",
       "\n",
       "    .dataframe thead th {\n",
       "        text-align: right;\n",
       "    }\n",
       "</style>\n",
       "<table border=\"1\" class=\"dataframe\">\n",
       "  <thead>\n",
       "    <tr style=\"text-align: right;\">\n",
       "      <th></th>\n",
       "      <th>id</th>\n",
       "      <th>electoral_term</th>\n",
       "      <th>session</th>\n",
       "      <th>first_name</th>\n",
       "      <th>document_url</th>\n",
       "      <th>last_name</th>\n",
       "      <th>faction_id</th>\n",
       "      <th>position_short</th>\n",
       "      <th>position_long</th>\n",
       "      <th>politician_id</th>\n",
       "      <th>...</th>\n",
       "      <th>speech_content</th>\n",
       "      <th>date</th>\n",
       "      <th>faction</th>\n",
       "      <th>year</th>\n",
       "      <th>speech_length</th>\n",
       "      <th>age</th>\n",
       "      <th>gender</th>\n",
       "      <th>tenure</th>\n",
       "      <th>sentiment_score_1</th>\n",
       "      <th>sentiment_score_2</th>\n",
       "    </tr>\n",
       "  </thead>\n",
       "  <tbody>\n",
       "    <tr>\n",
       "      <th>0</th>\n",
       "      <td>0</td>\n",
       "      <td>1</td>\n",
       "      <td>2</td>\n",
       "      <td></td>\n",
       "      <td>https://dip21.bundestag.de/dip21/btp/01/01002.pdf</td>\n",
       "      <td>köhler</td>\n",
       "      <td>5</td>\n",
       "      <td>Presidium of Parliament</td>\n",
       "      <td>präsident</td>\n",
       "      <td>11001150</td>\n",
       "      <td>...</td>\n",
       "      <td>Meine Damen und Herren! Ich eröffne die 2. Sit...</td>\n",
       "      <td>1949-09-11</td>\n",
       "      <td>CDU/CSU</td>\n",
       "      <td>1949</td>\n",
       "      <td>546</td>\n",
       "      <td>57.0</td>\n",
       "      <td>männlich</td>\n",
       "      <td>0.000000</td>\n",
       "      <td>0.000000</td>\n",
       "      <td>0.047619</td>\n",
       "    </tr>\n",
       "    <tr>\n",
       "      <th>1</th>\n",
       "      <td>1</td>\n",
       "      <td>1</td>\n",
       "      <td>2</td>\n",
       "      <td></td>\n",
       "      <td>https://dip21.bundestag.de/dip21/btp/01/01002.pdf</td>\n",
       "      <td>arnold</td>\n",
       "      <td>-1</td>\n",
       "      <td>Guest</td>\n",
       "      <td>präsident des bundesrats</td>\n",
       "      <td>-1</td>\n",
       "      <td>...</td>\n",
       "      <td>Der Bundesrat ist versammelt, Herr Präsident.</td>\n",
       "      <td>1949-09-11</td>\n",
       "      <td>NaN</td>\n",
       "      <td>1949</td>\n",
       "      <td>45</td>\n",
       "      <td>NaN</td>\n",
       "      <td>NaN</td>\n",
       "      <td>0.000000</td>\n",
       "      <td>0.000000</td>\n",
       "      <td>0.000000</td>\n",
       "    </tr>\n",
       "    <tr>\n",
       "      <th>2</th>\n",
       "      <td>2</td>\n",
       "      <td>1</td>\n",
       "      <td>2</td>\n",
       "      <td></td>\n",
       "      <td>https://dip21.bundestag.de/dip21/btp/01/01002.pdf</td>\n",
       "      <td>köhler</td>\n",
       "      <td>5</td>\n",
       "      <td>Presidium of Parliament</td>\n",
       "      <td>präsident</td>\n",
       "      <td>11001150</td>\n",
       "      <td>...</td>\n",
       "      <td>Ich danke für diese Erklärung. Ich stelle dami...</td>\n",
       "      <td>1949-09-11</td>\n",
       "      <td>CDU/CSU</td>\n",
       "      <td>1949</td>\n",
       "      <td>895</td>\n",
       "      <td>57.0</td>\n",
       "      <td>männlich</td>\n",
       "      <td>0.000000</td>\n",
       "      <td>0.133946</td>\n",
       "      <td>0.181818</td>\n",
       "    </tr>\n",
       "    <tr>\n",
       "      <th>3</th>\n",
       "      <td>3</td>\n",
       "      <td>1</td>\n",
       "      <td>2</td>\n",
       "      <td></td>\n",
       "      <td>https://dip21.bundestag.de/dip21/btp/01/01002.pdf</td>\n",
       "      <td>heuss</td>\n",
       "      <td>-1</td>\n",
       "      <td>Guest</td>\n",
       "      <td>bundespräsident</td>\n",
       "      <td>-1</td>\n",
       "      <td>...</td>\n",
       "      <td>Ja, ich habe den Wunsch.</td>\n",
       "      <td>1949-09-11</td>\n",
       "      <td>NaN</td>\n",
       "      <td>1949</td>\n",
       "      <td>24</td>\n",
       "      <td>NaN</td>\n",
       "      <td>NaN</td>\n",
       "      <td>0.000000</td>\n",
       "      <td>0.000000</td>\n",
       "      <td>1.000000</td>\n",
       "    </tr>\n",
       "    <tr>\n",
       "      <th>4</th>\n",
       "      <td>4</td>\n",
       "      <td>1</td>\n",
       "      <td>2</td>\n",
       "      <td></td>\n",
       "      <td>https://dip21.bundestag.de/dip21/btp/01/01002.pdf</td>\n",
       "      <td>köhler</td>\n",
       "      <td>5</td>\n",
       "      <td>Presidium of Parliament</td>\n",
       "      <td>präsident</td>\n",
       "      <td>11001150</td>\n",
       "      <td>...</td>\n",
       "      <td>Ich erteile dem Herrn Bundespräsidenten das Wort.</td>\n",
       "      <td>1949-09-11</td>\n",
       "      <td>CDU/CSU</td>\n",
       "      <td>1949</td>\n",
       "      <td>49</td>\n",
       "      <td>57.0</td>\n",
       "      <td>männlich</td>\n",
       "      <td>0.000000</td>\n",
       "      <td>0.000000</td>\n",
       "      <td>0.000000</td>\n",
       "    </tr>\n",
       "    <tr>\n",
       "      <th>...</th>\n",
       "      <td>...</td>\n",
       "      <td>...</td>\n",
       "      <td>...</td>\n",
       "      <td>...</td>\n",
       "      <td>...</td>\n",
       "      <td>...</td>\n",
       "      <td>...</td>\n",
       "      <td>...</td>\n",
       "      <td>...</td>\n",
       "      <td>...</td>\n",
       "      <td>...</td>\n",
       "      <td>...</td>\n",
       "      <td>...</td>\n",
       "      <td>...</td>\n",
       "      <td>...</td>\n",
       "      <td>...</td>\n",
       "      <td>...</td>\n",
       "      <td>...</td>\n",
       "      <td>...</td>\n",
       "      <td>...</td>\n",
       "      <td>...</td>\n",
       "    </tr>\n",
       "    <tr>\n",
       "      <th>966041</th>\n",
       "      <td>1075922</td>\n",
       "      <td>20</td>\n",
       "      <td>187</td>\n",
       "      <td>thomas</td>\n",
       "      <td>https://dip21.bundestag.de/dip21/btp/20/20187.pdf</td>\n",
       "      <td>seitz</td>\n",
       "      <td>0</td>\n",
       "      <td>Member of Parliament</td>\n",
       "      <td>None</td>\n",
       "      <td>11004891</td>\n",
       "      <td>...</td>\n",
       "      <td>Sehr geehrte Frau Präsidentin! Meine Damen und...</td>\n",
       "      <td>2024-09-25</td>\n",
       "      <td>AfD</td>\n",
       "      <td>2024</td>\n",
       "      <td>1799</td>\n",
       "      <td>57.0</td>\n",
       "      <td>männlich</td>\n",
       "      <td>6.594521</td>\n",
       "      <td>0.112649</td>\n",
       "      <td>0.030534</td>\n",
       "    </tr>\n",
       "    <tr>\n",
       "      <th>966042</th>\n",
       "      <td>1075923</td>\n",
       "      <td>20</td>\n",
       "      <td>187</td>\n",
       "      <td>petra</td>\n",
       "      <td>https://dip21.bundestag.de/dip21/btp/20/20187.pdf</td>\n",
       "      <td>pau</td>\n",
       "      <td>7</td>\n",
       "      <td>Presidium of Parliament</td>\n",
       "      <td>Vizepräsidentin</td>\n",
       "      <td>11003206</td>\n",
       "      <td>...</td>\n",
       "      <td>Herr Abgeordneter.</td>\n",
       "      <td>2024-09-25</td>\n",
       "      <td>DIE LINKE.</td>\n",
       "      <td>2024</td>\n",
       "      <td>18</td>\n",
       "      <td>61.0</td>\n",
       "      <td>weiblich</td>\n",
       "      <td>25.887671</td>\n",
       "      <td>0.000000</td>\n",
       "      <td>0.000000</td>\n",
       "    </tr>\n",
       "    <tr>\n",
       "      <th>966043</th>\n",
       "      <td>1075924</td>\n",
       "      <td>20</td>\n",
       "      <td>187</td>\n",
       "      <td>thomas</td>\n",
       "      <td>https://dip21.bundestag.de/dip21/btp/20/20187.pdf</td>\n",
       "      <td>seitz</td>\n",
       "      <td>18</td>\n",
       "      <td>Member of Parliament</td>\n",
       "      <td>None</td>\n",
       "      <td>11004891</td>\n",
       "      <td>...</td>\n",
       "      <td>Vielen Dank.</td>\n",
       "      <td>2024-09-25</td>\n",
       "      <td>Fraktionslos</td>\n",
       "      <td>2024</td>\n",
       "      <td>12</td>\n",
       "      <td>57.0</td>\n",
       "      <td>männlich</td>\n",
       "      <td>6.594521</td>\n",
       "      <td>0.000000</td>\n",
       "      <td>0.500000</td>\n",
       "    </tr>\n",
       "    <tr>\n",
       "      <th>966044</th>\n",
       "      <td>1075925</td>\n",
       "      <td>20</td>\n",
       "      <td>187</td>\n",
       "      <td>petra</td>\n",
       "      <td>https://dip21.bundestag.de/dip21/btp/20/20187.pdf</td>\n",
       "      <td>pau</td>\n",
       "      <td>7</td>\n",
       "      <td>Presidium of Parliament</td>\n",
       "      <td>Vizepräsidentin</td>\n",
       "      <td>11003206</td>\n",
       "      <td>...</td>\n",
       "      <td>Für die SPD-Fraktion hat die Kollegin Angelika...</td>\n",
       "      <td>2024-09-25</td>\n",
       "      <td>DIE LINKE.</td>\n",
       "      <td>2024</td>\n",
       "      <td>65</td>\n",
       "      <td>61.0</td>\n",
       "      <td>weiblich</td>\n",
       "      <td>25.887671</td>\n",
       "      <td>0.000000</td>\n",
       "      <td>0.000000</td>\n",
       "    </tr>\n",
       "    <tr>\n",
       "      <th>966045</th>\n",
       "      <td>1075926</td>\n",
       "      <td>20</td>\n",
       "      <td>187</td>\n",
       "      <td>angelika</td>\n",
       "      <td>https://dip21.bundestag.de/dip21/btp/20/20187.pdf</td>\n",
       "      <td>glöckner</td>\n",
       "      <td>25</td>\n",
       "      <td>Member of Parliament</td>\n",
       "      <td>None</td>\n",
       "      <td>11004614</td>\n",
       "      <td>...</td>\n",
       "      <td>Sehr geehrte Frau Präsidentin! Kolleginnen und...</td>\n",
       "      <td>2024-09-25</td>\n",
       "      <td>SPD</td>\n",
       "      <td>2024</td>\n",
       "      <td>2561</td>\n",
       "      <td>62.0</td>\n",
       "      <td>weiblich</td>\n",
       "      <td>9.780822</td>\n",
       "      <td>0.196735</td>\n",
       "      <td>0.016216</td>\n",
       "    </tr>\n",
       "  </tbody>\n",
       "</table>\n",
       "<p>966046 rows × 22 columns</p>\n",
       "</div>"
      ]
     },
     "execution_count": 47,
     "metadata": {},
     "output_type": "execute_result"
    }
   ],
   "execution_count": 47
  },
  {
   "metadata": {
    "ExecuteTime": {
     "end_time": "2024-11-11T18:45:55.394062Z",
     "start_time": "2024-11-11T18:45:51.690448Z"
    }
   },
   "cell_type": "code",
   "source": [
    "# Save results\n",
    "speeches_df.to_pickle('content_df_features_sentiment.pkl')"
   ],
   "id": "88adaa5ea2965087",
   "outputs": [],
   "execution_count": 48
  },
  {
   "metadata": {
    "ExecuteTime": {
     "end_time": "2024-11-11T18:46:27.955113Z",
     "start_time": "2024-11-11T18:45:55.420997Z"
    }
   },
   "cell_type": "code",
   "source": "speeches_df.to_csv('content_df_features_sentiment.csv')",
   "id": "81a136511327646f",
   "outputs": [],
   "execution_count": 49
  }
 ],
 "metadata": {
  "kernelspec": {
   "display_name": "Python 3",
   "language": "python",
   "name": "python3"
  },
  "language_info": {
   "codemirror_mode": {
    "name": "ipython",
    "version": 2
   },
   "file_extension": ".py",
   "mimetype": "text/x-python",
   "name": "python",
   "nbconvert_exporter": "python",
   "pygments_lexer": "ipython2",
   "version": "2.7.6"
  }
 },
 "nbformat": 4,
 "nbformat_minor": 5
}
