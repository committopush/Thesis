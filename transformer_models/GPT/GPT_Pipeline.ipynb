{
 "cells": [
  {
   "cell_type": "code",
   "execution_count": null,
   "id": "initial_id",
   "metadata": {
    "collapsed": true
   },
   "outputs": [],
   "source": [
    "import json\n",
    "import pickle\n",
    "import pandas as pd\n",
    "from tqdm import tqdm\n",
    "from openai import OpenAI\n",
    "from concurrent.futures import ThreadPoolExecutor, as_completed"
   ]
  },
  {
   "metadata": {},
   "cell_type": "code",
   "outputs": [],
   "execution_count": null,
   "source": "client = OpenAI(api_key='###')",
   "id": "78396ec24e255c89"
  },
  {
   "metadata": {},
   "cell_type": "code",
   "outputs": [],
   "execution_count": null,
   "source": [
    "# Load and preprocess the DataFrame\n",
    "df = pd.read_pickle('subset_tokenized_exploded.pkl')\n",
    "electoral_term = 17\n",
    "df = df[df['electoral_term'] == electoral_term]"
   ],
   "id": "8b04052c522328b4"
  },
  {
   "metadata": {},
   "cell_type": "code",
   "outputs": [],
   "execution_count": null,
   "source": [
    "# Add unique ID for each speech\n",
    "df['split_id'] = df.groupby('id').cumcount() + 1\n",
    "df['id'] = (df[\"electoral_term\"].astype(str) + \"_\" + df[\"session\"].astype(str) + \"_\" + df[\"id\"].astype(str) + \"_\" +df[\"split_id\"].astype(str))\n",
    "df = df[['id', 'split_speeches']]\n",
    "speech_list = df.to_dict(orient='records')"
   ],
   "id": "404f9fe964652bd5"
  },
  {
   "metadata": {},
   "cell_type": "code",
   "outputs": [],
   "execution_count": null,
   "source": [
    "# Read System Prompt from .txt file\n",
    "with open('prompt.txt', 'r') as file:\n",
    "    system_prompt = file.read()"
   ],
   "id": "a4514cde24eebf54"
  },
  {
   "metadata": {},
   "cell_type": "code",
   "outputs": [],
   "execution_count": null,
   "source": [
    "# List to store the response values\n",
    "response_values = []\n",
    "\n",
    "# Function to process a single speech\n",
    "def process_speech(speech):\n",
    "    act_speech = speech['split_speeches']\n",
    "    act_id = speech['id']\n",
    "    prompt = f\"ID: {act_id}\\nSpeech: \\\"{act_speech}\\\"\"\n",
    "    error_count = 0\n",
    "    while error_count <= 1:\n",
    "        try:\n",
    "            response = client.chat.completions.create(\n",
    "                model=\"ft:gpt-4o-mini-2024-07-18:political-polarization-thesis:4o-mini-finetune-test-1:ARKbzyeS\",\n",
    "                messages=[\n",
    "                    {\n",
    "                        \"role\": \"system\",\n",
    "                        \"content\": system_prompt\n",
    "                    },\n",
    "                    {\"role\": \"user\", \"content\": prompt}\n",
    "                ],\n",
    "                temperature=1,\n",
    "                max_tokens=2048,\n",
    "                response_format={\n",
    "                    \"type\": \"json_schema\",\n",
    "                    \"json_schema\": {\n",
    "                        \"name\": \"speech_data\",\n",
    "                        \"schema\": {\n",
    "                            \"type\": \"object\",\n",
    "                            \"required\": [\n",
    "                                \"speech_id\",\n",
    "                                \"polarizing\"\n",
    "                            ],\n",
    "                            \"properties\": {\n",
    "                                \"speech_id\": {\n",
    "                                    \"type\": \"string\",\n",
    "                                    \"description\": \"Unique identifier for the speech.\"\n",
    "                                },\n",
    "                                \"polarizing\": {\n",
    "                                    \"type\": \"string\",\n",
    "                                    \"description\": \"Indicates if the speech is polarizing, represented as '0' or '1'.\"\n",
    "                                }\n",
    "                            },\n",
    "                            \"additionalProperties\": False\n",
    "                        },\n",
    "                        \"strict\": True\n",
    "                    }\n",
    "                }\n",
    "            )\n",
    "            response_text = response.choices[0].message.content\n",
    "            response_json = json.loads(response_text)\n",
    "\n",
    "            # Convert keys to lowercase and remove leading/trailing whitespaces\n",
    "            response_json = {k.lower().strip(): v for k, v in response_json.items()}\n",
    "            if 'speech_id' in response_json.keys() and 'polarizing' in response_json.keys():\n",
    "                return response_json\n",
    "            else:\n",
    "                raise Exception(\"Invalid response format.\")\n",
    "        except Exception as e:\n",
    "            print(f\"Error for speech {act_id}: {e}\")\n",
    "            if error_count == 1:\n",
    "                print(f\"Skipping speech {act_id}...\")\n",
    "                return {\"speech_id\": act_id, \"polarizing\": \"2\"}\n",
    "            else:\n",
    "                print(f\"Retrying for speech {act_id}...\")\n",
    "            error_count += 1"
   ],
   "id": "698493997cd93eee"
  },
  {
   "metadata": {},
   "cell_type": "code",
   "outputs": [],
   "execution_count": null,
   "source": [
    "# Process in parallel\n",
    "with ThreadPoolExecutor(max_workers=6) as executor:\n",
    "    futures = [executor.submit(process_speech, speech) for speech in speech_list]\n",
    "    for future in tqdm(as_completed(futures), total=len(futures)):\n",
    "        try:\n",
    "            response_values.append(future.result())\n",
    "        except Exception as e:\n",
    "            print(f\"Error: {e}\")"
   ],
   "id": "add0a02a8d9e633b"
  },
  {
   "metadata": {},
   "cell_type": "code",
   "outputs": [],
   "execution_count": null,
   "source": [
    "with open('response_values.pkl', 'wb') as f:\n",
    "    pickle.dump(response_values, f)\n"
   ],
   "id": "1afecd0ea336d085"
  },
  {
   "metadata": {},
   "cell_type": "code",
   "outputs": [],
   "execution_count": null,
   "source": [
    "# Convert results to DataFrame\n",
    "response_df = pd.DataFrame(response_values)\n",
    "response_df.rename(columns={'speech_id': 'id', 'polarizing': 'polarizing_4o_mini'}, inplace=True)\n"
   ],
   "id": "3d91b7cee508b025"
  },
  {
   "metadata": {},
   "cell_type": "code",
   "outputs": [],
   "execution_count": null,
   "source": [
    "# Merge the original DataFrame with the response DataFrame\n",
    "df = df.merge(response_df, on='id', how='left')"
   ],
   "id": "bd92373e5f6fbc47"
  },
  {
   "metadata": {},
   "cell_type": "code",
   "outputs": [],
   "execution_count": null,
   "source": [
    "# fill nan and convert to int\n",
    "df['polarizing_4o_mini'] = df['polarizing_4o_mini'].fillna(2).astype(int)"
   ],
   "id": "8e38047a81c3937d"
  },
  {
   "metadata": {},
   "cell_type": "code",
   "outputs": [],
   "execution_count": null,
   "source": [
    "# show amount of errors\n",
    "print(\"Amount of Errors: \" + str(df[df['polarizing_4o_mini'] == 2].shape[0]))"
   ],
   "id": "64078b53bbc21af7"
  },
  {
   "metadata": {},
   "cell_type": "code",
   "outputs": [],
   "execution_count": null,
   "source": [
    "# show amount of non-polarizing speeches\n",
    "print(\"Amount of Non-Polarizing Speeches: \" + str(df[df['polarizing_4o_mini'] == 0].shape[0]))\n",
    "# show amount of polarizing speeches\n",
    "print(\"Amount of Polarizing Speeches: \" + str(df[df['polarizing_4o_mini'] == 1].shape[0]))"
   ],
   "id": "d615d62b505282fd"
  },
  {
   "metadata": {},
   "cell_type": "code",
   "outputs": [],
   "execution_count": null,
   "source": [
    "# Save the results\n",
    "suffix = 'final'\n",
    "df.to_pickle('response_4o_mini_'+suffix+'_'+str(electoral_term)+'.pkl')\n",
    "df.to_excel('response_4o_mini_'+suffix+'_'+str(electoral_term)+'.xlsx', index=False)"
   ],
   "id": "d995db573010308e"
  }
 ],
 "metadata": {
  "kernelspec": {
   "display_name": "Python 3",
   "language": "python",
   "name": "python3"
  },
  "language_info": {
   "codemirror_mode": {
    "name": "ipython",
    "version": 2
   },
   "file_extension": ".py",
   "mimetype": "text/x-python",
   "name": "python",
   "nbconvert_exporter": "python",
   "pygments_lexer": "ipython2",
   "version": "2.7.6"
  }
 },
 "nbformat": 4,
 "nbformat_minor": 5
}
