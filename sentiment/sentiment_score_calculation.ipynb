{
 "cells": [
  {
   "cell_type": "code",
   "execution_count": 1,
   "id": "initial_id",
   "metadata": {
    "ExecuteTime": {
     "end_time": "2024-11-11T18:43:38.844686Z",
     "start_time": "2024-11-11T18:43:38.841631Z"
    },
    "collapsed": true
   },
   "outputs": [],
   "source": [
    "from tqdm import tqdm\n",
    "import pandas as pd\n",
    "import string\n",
    "from nltk.corpus import stopwords\n",
    "import nltk"
   ]
  },
  {
   "cell_type": "code",
   "execution_count": 2,
   "id": "d1a58fe9b18a13c9",
   "metadata": {
    "ExecuteTime": {
     "end_time": "2024-11-11T18:43:38.863576Z",
     "start_time": "2024-11-11T18:43:38.860763Z"
    }
   },
   "outputs": [
    {
     "name": "stderr",
     "output_type": "stream",
     "text": [
      "[nltk_data] Downloading package stopwords to /Users/Silja/nltk_data...\n",
      "[nltk_data]   Package stopwords is already up-to-date!\n"
     ]
    },
    {
     "data": {
      "text/plain": [
       "True"
      ]
     },
     "execution_count": 2,
     "metadata": {},
     "output_type": "execute_result"
    }
   ],
   "source": [
    "# Download stopwords if necessary\n",
    "nltk.download('stopwords')"
   ]
  },
  {
   "cell_type": "code",
   "execution_count": 2,
   "id": "6e920ca73b675ff5",
   "metadata": {
    "ExecuteTime": {
     "end_time": "2024-11-11T18:43:42.819246Z",
     "start_time": "2024-11-11T18:43:39.587788Z"
    }
   },
   "outputs": [],
   "source": [
    "# Load sentiment dictionaries and speech dataframe\n",
    "sentiment_df_1 = pd.read_csv('sent_dictionary_1.csv')\n",
    "sentiment_df_2 = pd.read_csv('sent_dictionary_2.csv')\n",
    "speeches_df = pd.read_pickle('../data/content_df_features_topic.pkl')"
   ]
  },
  {
   "cell_type": "code",
   "execution_count": 5,
   "id": "b2cdda452c2d572f",
   "metadata": {
    "ExecuteTime": {
     "end_time": "2024-11-11T18:43:42.839612Z",
     "start_time": "2024-11-11T18:43:42.825439Z"
    }
   },
   "outputs": [],
   "source": [
    "# Prepare German stopwords and process speech content\n",
    "stop_words = set(stopwords.words('german'))\n",
    "sentiment_scores_1 = dict(zip(sentiment_df_1['v2'], sentiment_df_1['v3']))\n",
    "sentiment_scores_2 = dict(zip(sentiment_df_2['feature'].str.strip(), sentiment_df_2['sentiment']))"
   ]
  },
  {
   "cell_type": "code",
   "execution_count": 6,
   "id": "c3d058e2aa62b66b",
   "metadata": {
    "ExecuteTime": {
     "end_time": "2024-11-11T18:43:42.853930Z",
     "start_time": "2024-11-11T18:43:42.851756Z"
    }
   },
   "outputs": [],
   "source": [
    "def preprocess_text(text):\n",
    "    # Lowercase, remove punctuation, and filter out stopwords\n",
    "    return [word for word in text.lower().translate(str.maketrans('', '', string.punctuation)).split()\n",
    "            if word not in stop_words]"
   ]
  },
  {
   "cell_type": "code",
   "execution_count": 7,
   "id": "50b5bf72ec5f7966",
   "metadata": {
    "ExecuteTime": {
     "end_time": "2024-11-11T18:45:35.925903Z",
     "start_time": "2024-11-11T18:43:42.865721Z"
    }
   },
   "outputs": [
    {
     "name": "stderr",
     "output_type": "stream",
     "text": [
      "Preprocessing speeches:   9%|▉         | 89585/969857 [01:55<07:46, 1885.36it/s]IOStream.flush timed out\n",
      "Preprocessing speeches: 100%|██████████| 969857/969857 [15:35<00:00, 1037.05it/s] \n"
     ]
    }
   ],
   "source": [
    "# Apply preprocessing with tqdm\n",
    "tqdm.pandas(desc=\"Preprocessing speeches\")\n",
    "speeches_df['processed_content'] = speeches_df['speech_content'].progress_apply(preprocess_text)"
   ]
  },
  {
   "cell_type": "code",
   "execution_count": 8,
   "id": "42c289a6f249bfc8",
   "metadata": {
    "ExecuteTime": {
     "end_time": "2024-11-11T18:45:37.016181Z",
     "start_time": "2024-11-11T18:45:37.013877Z"
    }
   },
   "outputs": [],
   "source": [
    "# Calculate sentiment score with sentiment dictionary\n",
    "def calculate_sentiment_score(words, sentiment_scores):\n",
    "    total_score = sum(sentiment_scores.get(word, 0) for word in words if word in sentiment_scores)\n",
    "    return total_score / len(words) if len(words) > 0 else 0"
   ]
  },
  {
   "cell_type": "code",
   "execution_count": 9,
   "id": "756eec3e",
   "metadata": {},
   "outputs": [],
   "source": [
    "def calculate_two_sentiment_scores(words, sentiment_scores):\n",
    "    positive_score = sum(sentiment_scores.get(word, 0) for word in words if word in sentiment_scores and sentiment_scores[word] > 0)\n",
    "    negative_score = sum(abs(sentiment_scores.get(word, 0)) for word in words if word in sentiment_scores and sentiment_scores[word] < 0)\n",
    "    \n",
    "    total_words = len(words)\n",
    "    positivity_score = positive_score / total_words if total_words > 0 else 0\n",
    "    negativity_score = negative_score / total_words if total_words > 0 else 0\n",
    "    \n",
    "    return positivity_score, negativity_score"
   ]
  },
  {
   "cell_type": "code",
   "execution_count": 10,
   "id": "5142d3027c6e30e6",
   "metadata": {
    "ExecuteTime": {
     "end_time": "2024-11-11T18:45:42.737506Z",
     "start_time": "2024-11-11T18:45:37.366794Z"
    }
   },
   "outputs": [
    {
     "name": "stderr",
     "output_type": "stream",
     "text": [
      "Computing sentiment score with dictionary 1:   0%|          | 0/969857 [00:00<?, ?it/s]"
     ]
    },
    {
     "name": "stderr",
     "output_type": "stream",
     "text": [
      "Computing sentiment score with dictionary 1: 100%|██████████| 969857/969857 [02:04<00:00, 7793.10it/s] \n"
     ]
    }
   ],
   "source": [
    "tqdm.pandas(desc=\"Computing sentiment score with dictionary 1\")\n",
    "speeches_df['sentiment_score_1'] = speeches_df['processed_content'].progress_apply(\n",
    "    lambda words: calculate_sentiment_score(words, sentiment_scores_1)\n",
    ")"
   ]
  },
  {
   "cell_type": "code",
   "execution_count": 11,
   "id": "31bb7ca1488b2cec",
   "metadata": {
    "ExecuteTime": {
     "end_time": "2024-11-11T18:45:49.263870Z",
     "start_time": "2024-11-11T18:45:43.058252Z"
    }
   },
   "outputs": [
    {
     "name": "stderr",
     "output_type": "stream",
     "text": [
      "Computing sentiment score with dictionary 2:   0%|          | 0/969857 [00:00<?, ?it/s]"
     ]
    },
    {
     "name": "stderr",
     "output_type": "stream",
     "text": [
      "Computing sentiment score with dictionary 2: 100%|██████████| 969857/969857 [02:24<00:00, 6690.15it/s] \n"
     ]
    }
   ],
   "source": [
    "tqdm.pandas(desc=\"Computing sentiment score with dictionary 2\")\n",
    "speeches_df['sentiment_score_2'] = speeches_df['processed_content'].progress_apply(\n",
    "    lambda words: calculate_sentiment_score(words, sentiment_scores_2)\n",
    ")"
   ]
  },
  {
   "cell_type": "code",
   "execution_count": 12,
   "id": "a29f2450",
   "metadata": {},
   "outputs": [
    {
     "name": "stderr",
     "output_type": "stream",
     "text": [
      "Computing positivity and negativity scores with dictionary 2.1:   0%|          | 0/969857 [00:00<?, ?it/s]"
     ]
    },
    {
     "name": "stderr",
     "output_type": "stream",
     "text": [
      "Computing positivity and negativity scores with dictionary 2.1: 100%|██████████| 969857/969857 [22:44<00:00, 710.83it/s]  \n"
     ]
    }
   ],
   "source": [
    "tqdm.pandas(desc=\"Computing positivity and negativity scores with dictionary 2.1\")\n",
    "\n",
    "speeches_df[['sentiment_score_2_positivity', 'sentiment_score_2_negativity']] = speeches_df['processed_content'].progress_apply(\n",
    "    lambda words: pd.Series(calculate_two_sentiment_scores(words, sentiment_scores_2))\n",
    ")"
   ]
  },
  {
   "cell_type": "code",
   "execution_count": 13,
   "id": "b16646baa561e625",
   "metadata": {
    "ExecuteTime": {
     "end_time": "2024-11-11T18:45:50.842858Z",
     "start_time": "2024-11-11T18:45:49.494095Z"
    }
   },
   "outputs": [],
   "source": [
    "speeches_df.drop(columns=['processed_content'], inplace=True)"
   ]
  },
  {
   "cell_type": "code",
   "execution_count": 14,
   "id": "7492d813a5753fdf",
   "metadata": {
    "ExecuteTime": {
     "end_time": "2024-11-11T18:45:51.463306Z",
     "start_time": "2024-11-11T18:45:51.060645Z"
    }
   },
   "outputs": [
    {
     "data": {
      "text/html": [
       "<div>\n",
       "<style scoped>\n",
       "    .dataframe tbody tr th:only-of-type {\n",
       "        vertical-align: middle;\n",
       "    }\n",
       "\n",
       "    .dataframe tbody tr th {\n",
       "        vertical-align: top;\n",
       "    }\n",
       "\n",
       "    .dataframe thead th {\n",
       "        text-align: right;\n",
       "    }\n",
       "</style>\n",
       "<table border=\"1\" class=\"dataframe\">\n",
       "  <thead>\n",
       "    <tr style=\"text-align: right;\">\n",
       "      <th></th>\n",
       "      <th>id</th>\n",
       "      <th>electoral_term</th>\n",
       "      <th>session</th>\n",
       "      <th>first_name</th>\n",
       "      <th>document_url</th>\n",
       "      <th>last_name</th>\n",
       "      <th>faction_id</th>\n",
       "      <th>position_short</th>\n",
       "      <th>position_long</th>\n",
       "      <th>politician_id</th>\n",
       "      <th>...</th>\n",
       "      <th>age</th>\n",
       "      <th>gender</th>\n",
       "      <th>tenure</th>\n",
       "      <th>topic</th>\n",
       "      <th>main_category</th>\n",
       "      <th>sub_category</th>\n",
       "      <th>sentiment_score_1</th>\n",
       "      <th>sentiment_score_2</th>\n",
       "      <th>sentiment_score_2_positivity</th>\n",
       "      <th>sentiment_score_2_negativity</th>\n",
       "    </tr>\n",
       "  </thead>\n",
       "  <tbody>\n",
       "    <tr>\n",
       "      <th>0</th>\n",
       "      <td>0</td>\n",
       "      <td>1</td>\n",
       "      <td>2</td>\n",
       "      <td></td>\n",
       "      <td>https://dip21.bundestag.de/dip21/btp/01/01002.pdf</td>\n",
       "      <td>köhler</td>\n",
       "      <td>5</td>\n",
       "      <td>Presidium of Parliament</td>\n",
       "      <td>präsident</td>\n",
       "      <td>11001150</td>\n",
       "      <td>...</td>\n",
       "      <td>57.0</td>\n",
       "      <td>männlich</td>\n",
       "      <td>0.000000</td>\n",
       "      <td>NaN</td>\n",
       "      <td>NaN</td>\n",
       "      <td>NaN</td>\n",
       "      <td>0.000000</td>\n",
       "      <td>0.047619</td>\n",
       "      <td>0.047619</td>\n",
       "      <td>0.000000</td>\n",
       "    </tr>\n",
       "    <tr>\n",
       "      <th>1</th>\n",
       "      <td>1</td>\n",
       "      <td>1</td>\n",
       "      <td>2</td>\n",
       "      <td></td>\n",
       "      <td>https://dip21.bundestag.de/dip21/btp/01/01002.pdf</td>\n",
       "      <td>arnold</td>\n",
       "      <td>-1</td>\n",
       "      <td>Guest</td>\n",
       "      <td>präsident des bundesrats</td>\n",
       "      <td>-1</td>\n",
       "      <td>...</td>\n",
       "      <td>NaN</td>\n",
       "      <td>NaN</td>\n",
       "      <td>0.000000</td>\n",
       "      <td>NaN</td>\n",
       "      <td>NaN</td>\n",
       "      <td>NaN</td>\n",
       "      <td>0.000000</td>\n",
       "      <td>0.000000</td>\n",
       "      <td>0.000000</td>\n",
       "      <td>0.000000</td>\n",
       "    </tr>\n",
       "    <tr>\n",
       "      <th>2</th>\n",
       "      <td>2</td>\n",
       "      <td>1</td>\n",
       "      <td>2</td>\n",
       "      <td></td>\n",
       "      <td>https://dip21.bundestag.de/dip21/btp/01/01002.pdf</td>\n",
       "      <td>köhler</td>\n",
       "      <td>5</td>\n",
       "      <td>Presidium of Parliament</td>\n",
       "      <td>präsident</td>\n",
       "      <td>11001150</td>\n",
       "      <td>...</td>\n",
       "      <td>57.0</td>\n",
       "      <td>männlich</td>\n",
       "      <td>0.000000</td>\n",
       "      <td>NaN</td>\n",
       "      <td>NaN</td>\n",
       "      <td>NaN</td>\n",
       "      <td>0.133946</td>\n",
       "      <td>0.181818</td>\n",
       "      <td>0.212121</td>\n",
       "      <td>0.030303</td>\n",
       "    </tr>\n",
       "    <tr>\n",
       "      <th>3</th>\n",
       "      <td>3</td>\n",
       "      <td>1</td>\n",
       "      <td>2</td>\n",
       "      <td></td>\n",
       "      <td>https://dip21.bundestag.de/dip21/btp/01/01002.pdf</td>\n",
       "      <td>heuss</td>\n",
       "      <td>-1</td>\n",
       "      <td>Guest</td>\n",
       "      <td>bundespräsident</td>\n",
       "      <td>-1</td>\n",
       "      <td>...</td>\n",
       "      <td>NaN</td>\n",
       "      <td>NaN</td>\n",
       "      <td>0.000000</td>\n",
       "      <td>NaN</td>\n",
       "      <td>NaN</td>\n",
       "      <td>NaN</td>\n",
       "      <td>0.000000</td>\n",
       "      <td>1.000000</td>\n",
       "      <td>1.000000</td>\n",
       "      <td>0.000000</td>\n",
       "    </tr>\n",
       "    <tr>\n",
       "      <th>4</th>\n",
       "      <td>4</td>\n",
       "      <td>1</td>\n",
       "      <td>2</td>\n",
       "      <td></td>\n",
       "      <td>https://dip21.bundestag.de/dip21/btp/01/01002.pdf</td>\n",
       "      <td>köhler</td>\n",
       "      <td>5</td>\n",
       "      <td>Presidium of Parliament</td>\n",
       "      <td>präsident</td>\n",
       "      <td>11001150</td>\n",
       "      <td>...</td>\n",
       "      <td>57.0</td>\n",
       "      <td>männlich</td>\n",
       "      <td>0.000000</td>\n",
       "      <td>NaN</td>\n",
       "      <td>NaN</td>\n",
       "      <td>NaN</td>\n",
       "      <td>0.000000</td>\n",
       "      <td>0.000000</td>\n",
       "      <td>0.000000</td>\n",
       "      <td>0.000000</td>\n",
       "    </tr>\n",
       "    <tr>\n",
       "      <th>...</th>\n",
       "      <td>...</td>\n",
       "      <td>...</td>\n",
       "      <td>...</td>\n",
       "      <td>...</td>\n",
       "      <td>...</td>\n",
       "      <td>...</td>\n",
       "      <td>...</td>\n",
       "      <td>...</td>\n",
       "      <td>...</td>\n",
       "      <td>...</td>\n",
       "      <td>...</td>\n",
       "      <td>...</td>\n",
       "      <td>...</td>\n",
       "      <td>...</td>\n",
       "      <td>...</td>\n",
       "      <td>...</td>\n",
       "      <td>...</td>\n",
       "      <td>...</td>\n",
       "      <td>...</td>\n",
       "      <td>...</td>\n",
       "      <td>...</td>\n",
       "    </tr>\n",
       "    <tr>\n",
       "      <th>969852</th>\n",
       "      <td>1094071</td>\n",
       "      <td>20</td>\n",
       "      <td>201</td>\n",
       "      <td>thomas</td>\n",
       "      <td>https://dip21.bundestag.de/dip21/btp/20/20201.pdf</td>\n",
       "      <td>lutze</td>\n",
       "      <td>7</td>\n",
       "      <td>Member of Parliament</td>\n",
       "      <td>None</td>\n",
       "      <td>11004103</td>\n",
       "      <td>...</td>\n",
       "      <td>55.0</td>\n",
       "      <td>männlich</td>\n",
       "      <td>14.734247</td>\n",
       "      <td>Arbeit: Mindestlohn</td>\n",
       "      <td>Work</td>\n",
       "      <td>Mindestlohn</td>\n",
       "      <td>0.132517</td>\n",
       "      <td>0.063492</td>\n",
       "      <td>0.154762</td>\n",
       "      <td>0.091270</td>\n",
       "    </tr>\n",
       "    <tr>\n",
       "      <th>969853</th>\n",
       "      <td>1094072</td>\n",
       "      <td>20</td>\n",
       "      <td>201</td>\n",
       "      <td>bärbel</td>\n",
       "      <td>https://dip21.bundestag.de/dip21/btp/20/20201.pdf</td>\n",
       "      <td>bas</td>\n",
       "      <td>-1</td>\n",
       "      <td>Presidium of Parliament</td>\n",
       "      <td>Präsidentin</td>\n",
       "      <td>11004006</td>\n",
       "      <td>...</td>\n",
       "      <td>56.0</td>\n",
       "      <td>weiblich</td>\n",
       "      <td>14.830137</td>\n",
       "      <td>No Topic</td>\n",
       "      <td>no topic</td>\n",
       "      <td>None</td>\n",
       "      <td>0.000000</td>\n",
       "      <td>0.307692</td>\n",
       "      <td>0.307692</td>\n",
       "      <td>0.000000</td>\n",
       "    </tr>\n",
       "    <tr>\n",
       "      <th>969854</th>\n",
       "      <td>1094073</td>\n",
       "      <td>20</td>\n",
       "      <td>201</td>\n",
       "      <td>wilfried</td>\n",
       "      <td>https://dip21.bundestag.de/dip21/btp/20/20201.pdf</td>\n",
       "      <td>oellers</td>\n",
       "      <td>5</td>\n",
       "      <td>Member of Parliament</td>\n",
       "      <td>None</td>\n",
       "      <td>11004365</td>\n",
       "      <td>...</td>\n",
       "      <td>49.0</td>\n",
       "      <td>männlich</td>\n",
       "      <td>10.690411</td>\n",
       "      <td>Sozialpolitik</td>\n",
       "      <td>Social Policy</td>\n",
       "      <td>None</td>\n",
       "      <td>0.135320</td>\n",
       "      <td>0.055385</td>\n",
       "      <td>0.132308</td>\n",
       "      <td>0.076923</td>\n",
       "    </tr>\n",
       "    <tr>\n",
       "      <th>969855</th>\n",
       "      <td>1094074</td>\n",
       "      <td>20</td>\n",
       "      <td>201</td>\n",
       "      <td>bärbel</td>\n",
       "      <td>https://dip21.bundestag.de/dip21/btp/20/20201.pdf</td>\n",
       "      <td>bas</td>\n",
       "      <td>-1</td>\n",
       "      <td>Presidium of Parliament</td>\n",
       "      <td>Präsidentin</td>\n",
       "      <td>11004006</td>\n",
       "      <td>...</td>\n",
       "      <td>56.0</td>\n",
       "      <td>weiblich</td>\n",
       "      <td>14.830137</td>\n",
       "      <td>No Topic</td>\n",
       "      <td>no topic</td>\n",
       "      <td>None</td>\n",
       "      <td>0.000000</td>\n",
       "      <td>0.000000</td>\n",
       "      <td>0.142857</td>\n",
       "      <td>0.142857</td>\n",
       "    </tr>\n",
       "    <tr>\n",
       "      <th>969856</th>\n",
       "      <td>1094075</td>\n",
       "      <td>20</td>\n",
       "      <td>201</td>\n",
       "      <td>dirk</td>\n",
       "      <td>https://dip21.bundestag.de/dip21/btp/20/20201.pdf</td>\n",
       "      <td>heidenblut</td>\n",
       "      <td>25</td>\n",
       "      <td>Member of Parliament</td>\n",
       "      <td>None</td>\n",
       "      <td>11004295</td>\n",
       "      <td>...</td>\n",
       "      <td>63.0</td>\n",
       "      <td>männlich</td>\n",
       "      <td>10.742466</td>\n",
       "      <td>Arbeit: Mindestlohn</td>\n",
       "      <td>Work</td>\n",
       "      <td>Mindestlohn</td>\n",
       "      <td>0.204193</td>\n",
       "      <td>0.044568</td>\n",
       "      <td>0.139276</td>\n",
       "      <td>0.094708</td>\n",
       "    </tr>\n",
       "  </tbody>\n",
       "</table>\n",
       "<p>969857 rows × 27 columns</p>\n",
       "</div>"
      ],
      "text/plain": [
       "             id  electoral_term  session first_name  \\\n",
       "0             0               1        2              \n",
       "1             1               1        2              \n",
       "2             2               1        2              \n",
       "3             3               1        2              \n",
       "4             4               1        2              \n",
       "...         ...             ...      ...        ...   \n",
       "969852  1094071              20      201     thomas   \n",
       "969853  1094072              20      201     bärbel   \n",
       "969854  1094073              20      201   wilfried   \n",
       "969855  1094074              20      201     bärbel   \n",
       "969856  1094075              20      201       dirk   \n",
       "\n",
       "                                             document_url   last_name  \\\n",
       "0       https://dip21.bundestag.de/dip21/btp/01/01002.pdf      köhler   \n",
       "1       https://dip21.bundestag.de/dip21/btp/01/01002.pdf      arnold   \n",
       "2       https://dip21.bundestag.de/dip21/btp/01/01002.pdf      köhler   \n",
       "3       https://dip21.bundestag.de/dip21/btp/01/01002.pdf       heuss   \n",
       "4       https://dip21.bundestag.de/dip21/btp/01/01002.pdf      köhler   \n",
       "...                                                   ...         ...   \n",
       "969852  https://dip21.bundestag.de/dip21/btp/20/20201.pdf       lutze   \n",
       "969853  https://dip21.bundestag.de/dip21/btp/20/20201.pdf         bas   \n",
       "969854  https://dip21.bundestag.de/dip21/btp/20/20201.pdf     oellers   \n",
       "969855  https://dip21.bundestag.de/dip21/btp/20/20201.pdf         bas   \n",
       "969856  https://dip21.bundestag.de/dip21/btp/20/20201.pdf  heidenblut   \n",
       "\n",
       "        faction_id           position_short             position_long  \\\n",
       "0                5  Presidium of Parliament                 präsident   \n",
       "1               -1                    Guest  präsident des bundesrats   \n",
       "2                5  Presidium of Parliament                 präsident   \n",
       "3               -1                    Guest           bundespräsident   \n",
       "4                5  Presidium of Parliament                 präsident   \n",
       "...            ...                      ...                       ...   \n",
       "969852           7     Member of Parliament                      None   \n",
       "969853          -1  Presidium of Parliament               Präsidentin   \n",
       "969854           5     Member of Parliament                      None   \n",
       "969855          -1  Presidium of Parliament               Präsidentin   \n",
       "969856          25     Member of Parliament                      None   \n",
       "\n",
       "        politician_id  ...   age    gender     tenure                topic  \\\n",
       "0            11001150  ...  57.0  männlich   0.000000                  NaN   \n",
       "1                  -1  ...   NaN       NaN   0.000000                  NaN   \n",
       "2            11001150  ...  57.0  männlich   0.000000                  NaN   \n",
       "3                  -1  ...   NaN       NaN   0.000000                  NaN   \n",
       "4            11001150  ...  57.0  männlich   0.000000                  NaN   \n",
       "...               ...  ...   ...       ...        ...                  ...   \n",
       "969852       11004103  ...  55.0  männlich  14.734247  Arbeit: Mindestlohn   \n",
       "969853       11004006  ...  56.0  weiblich  14.830137             No Topic   \n",
       "969854       11004365  ...  49.0  männlich  10.690411        Sozialpolitik   \n",
       "969855       11004006  ...  56.0  weiblich  14.830137             No Topic   \n",
       "969856       11004295  ...  63.0  männlich  10.742466  Arbeit: Mindestlohn   \n",
       "\n",
       "        main_category  sub_category  sentiment_score_1  sentiment_score_2  \\\n",
       "0                 NaN           NaN           0.000000           0.047619   \n",
       "1                 NaN           NaN           0.000000           0.000000   \n",
       "2                 NaN           NaN           0.133946           0.181818   \n",
       "3                 NaN           NaN           0.000000           1.000000   \n",
       "4                 NaN           NaN           0.000000           0.000000   \n",
       "...               ...           ...                ...                ...   \n",
       "969852           Work   Mindestlohn           0.132517           0.063492   \n",
       "969853       no topic          None           0.000000           0.307692   \n",
       "969854  Social Policy          None           0.135320           0.055385   \n",
       "969855       no topic          None           0.000000           0.000000   \n",
       "969856           Work   Mindestlohn           0.204193           0.044568   \n",
       "\n",
       "       sentiment_score_2_positivity  sentiment_score_2_negativity  \n",
       "0                          0.047619                      0.000000  \n",
       "1                          0.000000                      0.000000  \n",
       "2                          0.212121                      0.030303  \n",
       "3                          1.000000                      0.000000  \n",
       "4                          0.000000                      0.000000  \n",
       "...                             ...                           ...  \n",
       "969852                     0.154762                      0.091270  \n",
       "969853                     0.307692                      0.000000  \n",
       "969854                     0.132308                      0.076923  \n",
       "969855                     0.142857                      0.142857  \n",
       "969856                     0.139276                      0.094708  \n",
       "\n",
       "[969857 rows x 27 columns]"
      ]
     },
     "execution_count": 14,
     "metadata": {},
     "output_type": "execute_result"
    }
   ],
   "source": [
    "speeches_df"
   ]
  },
  {
   "cell_type": "code",
   "execution_count": 15,
   "id": "88adaa5ea2965087",
   "metadata": {
    "ExecuteTime": {
     "end_time": "2024-11-11T18:45:55.394062Z",
     "start_time": "2024-11-11T18:45:51.690448Z"
    }
   },
   "outputs": [],
   "source": [
    "# Save results\n",
    "speeches_df.to_pickle('content_df_features_sentiment.pkl')"
   ]
  },
  {
   "cell_type": "code",
   "execution_count": 16,
   "id": "81a136511327646f",
   "metadata": {
    "ExecuteTime": {
     "end_time": "2024-11-11T18:46:27.955113Z",
     "start_time": "2024-11-11T18:45:55.420997Z"
    }
   },
   "outputs": [],
   "source": [
    "speeches_df.to_csv('content_df_features_sentiment.csv')"
   ]
  }
 ],
 "metadata": {
  "kernelspec": {
   "display_name": "base",
   "language": "python",
   "name": "python3"
  },
  "language_info": {
   "codemirror_mode": {
    "name": "ipython",
    "version": 3
   },
   "file_extension": ".py",
   "mimetype": "text/x-python",
   "name": "python",
   "nbconvert_exporter": "python",
   "pygments_lexer": "ipython3",
   "version": "3.11.4"
  }
 },
 "nbformat": 4,
 "nbformat_minor": 5
}
