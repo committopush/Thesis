{
 "cells": [
  {
   "cell_type": "code",
   "execution_count": null,
   "id": "initial_id",
   "metadata": {
    "collapsed": true
   },
   "outputs": [],
   "source": [
    "import pandas as pd\n",
    "import stanza\n",
    "from nltk.stem import SnowballStemmer\n",
    "from tqdm import tqdm"
   ]
  },
  {
   "metadata": {},
   "cell_type": "code",
   "outputs": [],
   "execution_count": null,
   "source": [
    "# Initialize German stemmer\n",
    "stemmer = SnowballStemmer(\"german\")"
   ],
   "id": "95ee487ed344b015"
  },
  {
   "metadata": {},
   "cell_type": "code",
   "outputs": [],
   "execution_count": null,
   "source": [
    "# Initialize Stanza pipeline\n",
    "nlp = stanza.Pipeline('de', processors='tokenize,pos', use_gpu=True)"
   ],
   "id": "d7871fa92955ac"
  },
  {
   "metadata": {},
   "cell_type": "code",
   "outputs": [],
   "execution_count": null,
   "source": [
    "# Load data\n",
    "topic_list = pd.read_csv('topic_list.csv', sep=';')\n",
    "topic_list['Score'] = topic_list['Score'].str.replace('.', '')\n",
    "topic_list['Score'] = topic_list['Score'].astype(float)"
   ],
   "id": "6f529182dd60117c"
  },
  {
   "metadata": {},
   "cell_type": "code",
   "outputs": [],
   "execution_count": null,
   "source": [
    "# Read pickle file with contributions, consider only after 2018\n",
    "contributions = pd.read_pickle('speech_content.pkl')\n",
    "contributions['date'] = pd.to_datetime(contributions['date'], unit='s')\n",
    "contributions = contributions[contributions['date'] > '2010-01-01']"
   ],
   "id": "54f37326e690e814"
  },
  {
   "metadata": {},
   "cell_type": "code",
   "outputs": [],
   "execution_count": null,
   "source": [
    "# Convert speeches to lowercase and remove punctuation\n",
    "contributions['speech_content'] = contributions['speech_content'].str.lower().str.replace('[^\\w\\s]', '', regex=True)"
   ],
   "id": "47ffa5f6ebe4bff2"
  },
  {
   "metadata": {},
   "cell_type": "code",
   "outputs": [],
   "execution_count": null,
   "source": [
    "# define processing function\n",
    "def process_speech(row):\n",
    "    speech = []\n",
    "    # Analyze the text (using Stanza for POS tagging and lemmatization)\n",
    "    doc = nlp(row)\n",
    "\n",
    "    # Extract only the nouns, stem them, and add them to the list\n",
    "    for sentence in doc.sentences:\n",
    "        for word in sentence.words:\n",
    "            if word.upos == 'NOUN':\n",
    "                stem = stemmer.stem(word.text)\n",
    "                speech.append(stem)\n",
    "\n",
    "    # Calculate the number of occurrences of each word from the topic_list in the speech\n",
    "    occurences = [sum(1 for act_word in speech if act_word == word) for word in topic_list['Word']]\n",
    "\n",
    "    # Update the topic list with occurrences and calculate the score\n",
    "    topic_list['Occurences'] = occurences\n",
    "    topic_list['Eval'] = topic_list['Score'] * topic_list['Occurences']\n",
    "\n",
    "    # Group and sort the topics by their score\n",
    "    ranked_topics = topic_list.groupby('Topic')['Eval'].sum().sort_values(ascending=False)\n",
    "\n",
    "    # Select the highest-ranked topic or \"No Topic\"\n",
    "    return 'No Topic' if len(speech) < 10 else ranked_topics.index[0]"
   ],
   "id": "e9e4aa959a31cf1b"
  },
  {
   "metadata": {},
   "cell_type": "code",
   "outputs": [],
   "execution_count": null,
   "source": [
    "# Run topic modelling\n",
    "topics = [process_speech(row) for row in tqdm(contributions['speech_content'])]"
   ],
   "id": "96948d43631cd3b9"
  },
  {
   "metadata": {},
   "cell_type": "code",
   "outputs": [],
   "execution_count": null,
   "source": [
    "# Add the topics to the DataFrame\n",
    "contributions['topic'] = topics"
   ],
   "id": "90d6fb033680cbb3"
  },
  {
   "metadata": {},
   "cell_type": "code",
   "outputs": [],
   "execution_count": null,
   "source": [
    "# Save dataframe to pickle\n",
    "contributions.to_pickle('speech_content_topics.pkl')"
   ],
   "id": "244014b404251ded"
  }
 ],
 "metadata": {
  "kernelspec": {
   "display_name": "Python 3",
   "language": "python",
   "name": "python3"
  },
  "language_info": {
   "codemirror_mode": {
    "name": "ipython",
    "version": 2
   },
   "file_extension": ".py",
   "mimetype": "text/x-python",
   "name": "python",
   "nbconvert_exporter": "python",
   "pygments_lexer": "ipython2",
   "version": "2.7.6"
  }
 },
 "nbformat": 4,
 "nbformat_minor": 5
}
