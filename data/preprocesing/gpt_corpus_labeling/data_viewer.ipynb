{
 "cells": [
  {
   "cell_type": "code",
   "execution_count": 1,
   "metadata": {},
   "outputs": [
    {
     "name": "stdout",
     "output_type": "stream",
     "text": [
      "494498\n"
     ]
    }
   ],
   "source": [
    "import pandas as pd \n",
    "import numpy as np \n",
    "\n",
    "\n",
    "pd.set_option('display.max_colwidth', None)\n",
    "\n",
    "data = pd.read_pickle(\"final_df_for_labels_v2.pkl\")\n",
    "print(len(data))"
   ]
  },
  {
   "cell_type": "code",
   "execution_count": 2,
   "metadata": {},
   "outputs": [
    {
     "name": "stdout",
     "output_type": "stream",
     "text": [
      "193948\n"
     ]
    }
   ],
   "source": [
    "# Define your thresholds\n",
    "max_characters = 500  \n",
    "max_sentences = 4     \n",
    "\n",
    "# Function to count the number of sentences\n",
    "def count_sentences(text):\n",
    "    return text.count('.') + text.count('!') + text.count('?')\n",
    "\n",
    "# Function to clean text by removing leading/trailing whitespaces and line breaks\n",
    "def clean_text(text):\n",
    "    return text.strip().replace('\\n', ' ')\n",
    "\n",
    "# Filter the DataFrame\n",
    "data = data[data['speech_content'].str.len() <= max_characters]  # Filter by character length\n",
    "data = data[data['speech_content'].apply(count_sentences) <= max_sentences]  # Filter by sentence count\n",
    "\n",
    "# Apply text cleaning\n",
    "data['speech_content'] = data['speech_content'].apply(clean_text)\n",
    "\n",
    "print(len(data))\n"
   ]
  },
  {
   "cell_type": "code",
   "execution_count": 6,
   "metadata": {},
   "outputs": [],
   "source": [
    "base_sample_df = data.sample(2000, random_state=42)  # Use random_state for reproducibility\n",
    "\n",
    "v1_500_sample = base_sample_df.head(500)  # First 500 samples\n",
    "v2_500_sample = base_sample_df.iloc[500:1000]  # Next 500 samples\n",
    "\n",
    "v1_500_sample.to_excel('v1_500_sample.xlsx', index=False)\n",
    "v2_500_sample.to_excel('v2_500_sample.xlsx', index=False)\n",
    "\n",
    "v1_remaining_1000 = base_sample_df.tail(1000)\n",
    "v1_remaining_1000.to_excel('v1_remaining_1000.xlsx', index=False)\n",
    "\n",
    "base_sample_df.to_excel('v1_2k_base_sample.xlsx', index=False)\n"
   ]
  },
  {
   "cell_type": "code",
   "execution_count": 12,
   "metadata": {},
   "outputs": [],
   "source": [
    "data.to_pickle(\"final_df_for_labels_v2_FILTERED.pkl\")"
   ]
  },
  {
   "cell_type": "code",
   "execution_count": null,
   "metadata": {},
   "outputs": [],
   "source": []
  }
 ],
 "metadata": {
  "kernelspec": {
   "display_name": "Python 3",
   "language": "python",
   "name": "python3"
  },
  "language_info": {
   "codemirror_mode": {
    "name": "ipython",
    "version": 3
   },
   "file_extension": ".py",
   "mimetype": "text/x-python",
   "name": "python",
   "nbconvert_exporter": "python",
   "pygments_lexer": "ipython3",
   "version": "3.10.0"
  }
 },
 "nbformat": 4,
 "nbformat_minor": 2
}
