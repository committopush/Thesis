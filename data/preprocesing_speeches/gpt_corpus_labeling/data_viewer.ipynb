{
 "cells": [
  {
   "cell_type": "code",
   "execution_count": 2,
   "metadata": {},
   "outputs": [
    {
     "name": "stdout",
     "output_type": "stream",
     "text": [
      "494498\n"
     ]
    }
   ],
   "source": [
    "import pandas as pd \n",
    "import numpy as np \n",
    "\n",
    "\n",
    "pd.set_option('display.max_colwidth', None)\n",
    "\n",
    "data = pd.read_pickle(\"final_df_for_labels_v2.pkl\")\n",
    "print(len(data))"
   ]
  },
  {
   "cell_type": "code",
   "execution_count": 3,
   "metadata": {},
   "outputs": [
    {
     "name": "stdout",
     "output_type": "stream",
     "text": [
      "193948\n"
     ]
    }
   ],
   "source": [
    "# Define your thresholds\n",
    "max_characters = 500  \n",
    "max_sentences = 4     \n",
    "\n",
    "# Function to count the number of sentences\n",
    "def count_sentences(text):\n",
    "    return text.count('.') + text.count('!') + text.count('?')\n",
    "\n",
    "# Function to clean text by removing leading/trailing whitespaces and line breaks\n",
    "def clean_text(text):\n",
    "    return text.strip().replace('\\n', ' ')\n",
    "\n",
    "# Filter the DataFrame\n",
    "data = data[data['speech_content'].str.len() <= max_characters]  # Filter by character length\n",
    "data = data[data['speech_content'].apply(count_sentences) <= max_sentences]  # Filter by sentence count\n",
    "\n",
    "# Apply text cleaning\n",
    "data['speech_content'] = data['speech_content'].apply(clean_text)\n",
    "\n",
    "print(len(data))\n"
   ]
  },
  {
   "cell_type": "code",
   "execution_count": 6,
   "metadata": {},
   "outputs": [],
   "source": [
    "# retrieve 2000 random samples\n",
    "base_sample_df = data.sample(2000, random_state=42)  \n",
    "\n",
    "# split samples into groups for batch processing (group 1+2)\n",
    "v1_500_sample = base_sample_df.head(500) \n",
    "v2_500_sample = base_sample_df.iloc[500:1000] \n",
    "\n",
    "v1_500_sample.to_excel('v1_500_sample.xlsx', index=False)\n",
    "v2_500_sample.to_excel('v2_500_sample.xlsx', index=False)\n",
    "\n",
    "# group 3\n",
    "v1_remaining_1000 = base_sample_df.tail(1000)\n",
    "v1_remaining_1000.to_excel('v1_remaining_1000.xlsx', index=False)\n",
    "\n",
    "base_sample_df.to_excel('v1_2k_base_sample.xlsx', index=False)\n"
   ]
  },
  {
   "cell_type": "code",
   "execution_count": 3,
   "metadata": {},
   "outputs": [],
   "source": [
    "\n",
    "# retrieve a 500 row sample from the latest electoral period for labeling. Will be used as validation set for ML models later\n",
    "# ensure that non of the 2000 samples retrieved in the previous step are included in this sample\n",
    "base_sample_df = pd.read_excel('v1_2k_base_sample.xlsx')\n",
    "\n",
    "data['election_period'] = data['speech_id_long'].str.split('_').str[0].astype(int)\n",
    "sample_20 = data[data['election_period'] == 20]\n",
    "\n",
    "filtered_sample_20 = sample_20[~sample_20['speech_id_long'].isin(base_sample_df['speech_id_long'])]\n",
    "final_sample_20 = filtered_sample_20.sample(500)\n",
    "\n",
    "# drop helper column again \n",
    "final_sample_20 = final_sample_20.drop(columns=['election_period'])\n",
    "\n",
    "final_sample_20.to_excel('validation_sample500_ep20.xlsx', index=False)"
   ]
  },
  {
   "cell_type": "code",
   "execution_count": 12,
   "metadata": {},
   "outputs": [],
   "source": [
    "data.to_pickle(\"final_df_for_labels_v2_FILTERED.pkl\")"
   ]
  },
  {
   "cell_type": "code",
   "execution_count": 4,
   "metadata": {},
   "outputs": [
    {
     "data": {
      "text/html": [
       "<div>\n",
       "<style scoped>\n",
       "    .dataframe tbody tr th:only-of-type {\n",
       "        vertical-align: middle;\n",
       "    }\n",
       "\n",
       "    .dataframe tbody tr th {\n",
       "        vertical-align: top;\n",
       "    }\n",
       "\n",
       "    .dataframe thead th {\n",
       "        text-align: right;\n",
       "    }\n",
       "</style>\n",
       "<table border=\"1\" class=\"dataframe\">\n",
       "  <thead>\n",
       "    <tr style=\"text-align: right;\">\n",
       "      <th></th>\n",
       "      <th>speech_content</th>\n",
       "      <th>speech_id_long</th>\n",
       "    </tr>\n",
       "  </thead>\n",
       "  <tbody>\n",
       "    <tr>\n",
       "      <th>32733</th>\n",
       "      <td>Sehr geehrter Herr Präsident! Meine sehr verehrten Damen und Herren! Als neuer Bundesminister des Innern sage ich Ihnen allen meine Bereitschaft zu sehr guter, offener Zusammenarbeit zu, zuvörderst in und mit meiner Fraktion, aber genauso mit unserem verehrten Koalitionspartner,</td>\n",
       "      <td>17_4_11000130_0</td>\n",
       "    </tr>\n",
       "    <tr>\n",
       "      <th>32733</th>\n",
       "      <td>Ich kann und will nun nicht den ganzen Zuständigkeitsbereich meines schönen großen und - ich sage mit Stolz - klassischen Ministeriums durchgehen, sondern ich will mich auf vier Punkte beschränken:  Erstens. Ein gutes Miteinander, der Zusammenhalt der Gesellschaft funktionieren nicht ohne Sicherheit. Wer sich nicht sicher fühlt, baut Mauern um sich herum und schottet sich ab. Sicherheit ist ein öffentliches Gut und keine Privatsache.</td>\n",
       "      <td>17_4_11000130_2</td>\n",
       "    </tr>\n",
       "    <tr>\n",
       "      <th>32733</th>\n",
       "      <td>Gefahrenabwehr ist zuallererst die Abwehr von Gefahren, und Strafverfolgung ist zuallererst die Verfolgung von Straftaten und Straftätern, nicht zuallererst der Erlass von Gesetzen.  Meine Damen und Herren, Deutschland ist eines der sichersten Länder der Welt: Die Aufklärungszahlen sind hoch; die Kriminalitätsentwicklung ist seit Jahren leicht rückläufig.</td>\n",
       "      <td>17_4_11000130_5</td>\n",
       "    </tr>\n",
       "    <tr>\n",
       "      <th>32733</th>\n",
       "      <td>sondern eher von anderen Privaten, auch wegen manchmal eigener Leichtfertigkeit und auch wegen der Unauslöschlichkeit der Spuren der Internetnutzung. Da brauchen wir neue Antworten und nicht alte Frontstellungen.</td>\n",
       "      <td>17_4_11000130_8</td>\n",
       "    </tr>\n",
       "    <tr>\n",
       "      <th>32733</th>\n",
       "      <td>Mit der Deutschen Islam-Konferenz ist ein maßgebliches Forum entstanden, das eine Annäherung zwischen Muslimen und dem deutschen Staat befördert. Wir werden den Dialog in den nächsten Jahren weiter vertiefen und die Islam-Konferenz fortsetzen. Meine Damen und Herren, der Islam als Religion ist in Deutschland herzlich willkommen, Islamismus als Extremismus nicht.</td>\n",
       "      <td>17_4_11000130_10</td>\n",
       "    </tr>\n",
       "  </tbody>\n",
       "</table>\n",
       "</div>"
      ],
      "text/plain": [
       "                                                                                                                                                                                                                                                                                                                                                                                                                                              speech_content  \\\n",
       "32733                                                                                                                                                                Sehr geehrter Herr Präsident! Meine sehr verehrten Damen und Herren! Als neuer Bundesminister des Innern sage ich Ihnen allen meine Bereitschaft zu sehr guter, offener Zusammenarbeit zu, zuvörderst in und mit meiner Fraktion, aber genauso mit unserem verehrten Koalitionspartner,   \n",
       "32733  Ich kann und will nun nicht den ganzen Zuständigkeitsbereich meines schönen großen und - ich sage mit Stolz - klassischen Ministeriums durchgehen, sondern ich will mich auf vier Punkte beschränken:  Erstens. Ein gutes Miteinander, der Zusammenhalt der Gesellschaft funktionieren nicht ohne Sicherheit. Wer sich nicht sicher fühlt, baut Mauern um sich herum und schottet sich ab. Sicherheit ist ein öffentliches Gut und keine Privatsache.   \n",
       "32733                                                                                  Gefahrenabwehr ist zuallererst die Abwehr von Gefahren, und Strafverfolgung ist zuallererst die Verfolgung von Straftaten und Straftätern, nicht zuallererst der Erlass von Gesetzen.  Meine Damen und Herren, Deutschland ist eines der sichersten Länder der Welt: Die Aufklärungszahlen sind hoch; die Kriminalitätsentwicklung ist seit Jahren leicht rückläufig.   \n",
       "32733                                                                                                                                                                                                                                   sondern eher von anderen Privaten, auch wegen manchmal eigener Leichtfertigkeit und auch wegen der Unauslöschlichkeit der Spuren der Internetnutzung. Da brauchen wir neue Antworten und nicht alte Frontstellungen.   \n",
       "32733                                                                           Mit der Deutschen Islam-Konferenz ist ein maßgebliches Forum entstanden, das eine Annäherung zwischen Muslimen und dem deutschen Staat befördert. Wir werden den Dialog in den nächsten Jahren weiter vertiefen und die Islam-Konferenz fortsetzen. Meine Damen und Herren, der Islam als Religion ist in Deutschland herzlich willkommen, Islamismus als Extremismus nicht.   \n",
       "\n",
       "         speech_id_long  \n",
       "32733   17_4_11000130_0  \n",
       "32733   17_4_11000130_2  \n",
       "32733   17_4_11000130_5  \n",
       "32733   17_4_11000130_8  \n",
       "32733  17_4_11000130_10  "
      ]
     },
     "execution_count": 4,
     "metadata": {},
     "output_type": "execute_result"
    }
   ],
   "source": [
    "data.head()"
   ]
  },
  {
   "cell_type": "code",
   "execution_count": null,
   "metadata": {},
   "outputs": [],
   "source": []
  }
 ],
 "metadata": {
  "kernelspec": {
   "display_name": "Python 3",
   "language": "python",
   "name": "python3"
  },
  "language_info": {
   "codemirror_mode": {
    "name": "ipython",
    "version": 3
   },
   "file_extension": ".py",
   "mimetype": "text/x-python",
   "name": "python",
   "nbconvert_exporter": "python",
   "pygments_lexer": "ipython3",
   "version": "3.10.0"
  }
 },
 "nbformat": 4,
 "nbformat_minor": 2
}
