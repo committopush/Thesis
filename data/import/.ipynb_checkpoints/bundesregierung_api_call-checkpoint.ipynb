{
 "cells": [
  {
   "cell_type": "code",
   "execution_count": null,
   "metadata": {
    "collapsed": true
   },
   "outputs": [],
   "source": [
    "import requests\n"
   ]
  },
  {
   "cell_type": "code",
   "execution_count": null,
   "outputs": [],
   "source": [
    "\n",
    "# API-Key for authentication\n",
    "API_KEY = \"I9FKdCn.hbfefNWCY336dL6x62vfwNKpoN2RZ1gp21\"\n",
    "\n",
    "# Base URL for fetching plenary protocols\n",
    "base_url = 'https://search.dip.bundestag.de/api/v1/plenarprotokoll'\n",
    "\n",
    "# Parameters for querying plenary protocols from the year 2024\n",
    "params = {\n",
    "    'f.datum.start': '2024-01-01',  # Start date\n",
    "    'f.datum.end': '2024-12-31',    # End date\n",
    "    'apikey': API_KEY,               # API key for authentication\n",
    "    'maxAnzahl': 5                   # Limit the number of results\n",
    "}\n",
    "\n",
    "# Make the request to the API\n",
    "response = requests.get(base_url, params=params)\n",
    "\n",
    "# Check if the response is successful\n",
    "if response.status_code == 200:\n",
    "    # Parse the response JSON\n",
    "    data = response.json()\n",
    "\n",
    "    # Loop through the documents and print out the protocol titles and dates\n",
    "    for protokoll in data.get('documents', []):\n",
    "        print(f\"Protokoll: {protokoll['titel']}, Datum: {protokoll['datum']}\")\n",
    "else:\n",
    "    # Print an error message if the request fails\n",
    "    print(f\"Fehler: {response.status_code}\")"
   ],
   "metadata": {
    "collapsed": false,
    "pycharm": {
     "name": "#%%\n"
    }
   }
  },
  {
   "cell_type": "code",
   "execution_count": null,
   "outputs": [],
   "source": [],
   "metadata": {
    "collapsed": false,
    "pycharm": {
     "name": "#%%\n"
    }
   }
  }
 ],
 "metadata": {
  "kernelspec": {
   "display_name": "Python 3",
   "language": "python",
   "name": "python3"
  },
  "language_info": {
   "codemirror_mode": {
    "name": "ipython",
    "version": 2
   },
   "file_extension": ".py",
   "mimetype": "text/x-python",
   "name": "python",
   "nbconvert_exporter": "python",
   "pygments_lexer": "ipython2",
   "version": "2.7.6"
  }
 },
 "nbformat": 4,
 "nbformat_minor": 0
}