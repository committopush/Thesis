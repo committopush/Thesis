{
 "cells": [
  {
   "metadata": {},
   "cell_type": "code",
   "source": [
    "import pandas as pd\n",
    "import os\n",
    "import jsonlines\n",
    "import re\n",
    "os.getcwd()"
   ],
   "id": "4b6eafb269c6161f",
   "outputs": [],
   "execution_count": null
  },
  {
   "metadata": {},
   "cell_type": "code",
   "source": [
    "training_df = pd.read_excel('training_labels_final_comments.xlsx')\n",
    "validation_df = pd.read_excel('validation_labels_final_comments.xlsx')"
   ],
   "id": "c7cf215fa66678b6",
   "outputs": [],
   "execution_count": null
  },
  {
   "metadata": {},
   "cell_type": "code",
   "source": [
    "# Sample 800 instances for each class (polarizing, neutral)\n",
    "polarizing_1 = training_df[training_df['polarizing'] == 1].sample(n=824, replace=False)\n",
    "neutral_1 = training_df[training_df['neutral'] == 1].sample(n=824, replace=False)\n",
    "\n",
    "# Combine sampled data\n",
    "sampled_df = pd.concat([polarizing_1, neutral_1])\n",
    "\n",
    "# Shuffle the final sampled dataframe to randomize the order\n",
    "sampled_df = sampled_df.sample(frac=1, random_state=8).reset_index(drop=True)"
   ],
   "id": "7e557f38e71b4b87",
   "outputs": [],
   "execution_count": null
  },
  {
   "metadata": {},
   "cell_type": "code",
   "source": [
    "def adjust_speech_properties(speech_id, speech_content, polarizing):\n",
    "    # Create a dictionary with the dynamic values\n",
    "    data = {\"messages\": [{\"role\": \"system\",\"content\": \"Label the provided parliamentary speeches of the German Bundestag as polarizing or neutral.\\n\\nIdentify if a given speech is politically polarizing or neutral. Take into account tone, subject, language used, as well as direct and indirect indications of polarization. Make a decision based on these factors and provide the appropriate label.\\n\\n# Steps\\n\\n1. Analyze the content of the provided speech, taking into account:\\n    - The language and tone: Is it divisive or confrontational?\\n    - Content that explicitly criticizes or alienates opposing parties.\\n    - The promotion of an \\\"us vs. them\\\" narrative.\\n\\n2. Compare linguistic markers and content with patterns of polarising speech to assess if there is alignment with polarizing content, or if it resembles neutral and objective content.\\n3. Provide a label:\\n    - \\\"0\\\" or \\\"1\\\" whether the speech is polarizing\\n4. Always base your conclusion only after critically considering each relevant element of the speech.\\n\\n# Output Format\\n\\nProvide your output in the following Json format:\\n```json\\n{\\n  \\\"speech_id\\\": \\\"ID_placeholder\\\",\\n  \\\"polarizing\\\": \\\"0 or 1\\\"\\n}\\n```\\n\\nEnsure your response includes appropriate format based on the requested format structure.\\n\\n# Notes\\n\\n- Be mindful of implicit division or subtle language elements that could indicate polarization.\\n- Always justify the given labels, explicitly linking elements from speech to your decision-making criteria.\"},{\"role\": \"user\",\"content\": f\"ID: {speech_id}\\nSpeech: \\\"{speech_content}\\\"\"},{\"role\": \"assistant\",\"content\": f'{{\"speech_id\":\"{speech_id}\",\"polarizing\":\"{polarizing}\"}}'}]}\n",
    "\n",
    "\n",
    "    # Convert the dictionary to a JSON string\n",
    "    return data"
   ],
   "id": "36d747364e6b9d3f",
   "outputs": [],
   "execution_count": null
  },
  {
   "metadata": {},
   "cell_type": "code",
   "source": [
    "jsons_training = []\n",
    "for _, row in sampled_df.iterrows():\n",
    "        json_data = adjust_speech_properties(\n",
    "            row['speech_id_long'],\n",
    "            re.sub(r'^[„“\"]|[„“\"]$', '', row['speech_content']),\n",
    "            row['polarizing']\n",
    "        )\n",
    "        jsons_training.append(json_data)"
   ],
   "id": "7f2b0a1dfa546435",
   "outputs": [],
   "execution_count": null
  },
  {
   "metadata": {},
   "cell_type": "code",
   "source": [
    "with jsonlines.open('training.jsonl', mode='w') as writer:\n",
    "    for item in jsons_training:\n",
    "        writer.write(item)"
   ],
   "id": "588a093a54c2cec3",
   "outputs": [],
   "execution_count": null
  },
  {
   "metadata": {},
   "cell_type": "code",
   "source": [
    "jsons_validation = []\n",
    "for _, row in validation_df.iterrows():\n",
    "    json_data = adjust_speech_properties(\n",
    "        row['speech_id_long'],\n",
    "        re.sub(r'^[„“\"]|[„“\"]$', '', row['speech_content']),\n",
    "        row['polarizing']\n",
    "    )\n",
    "    jsons_validation.append(json_data)"
   ],
   "id": "621d0f0fb0124324",
   "outputs": [],
   "execution_count": null
  },
  {
   "metadata": {},
   "cell_type": "code",
   "source": [
    "with jsonlines.open('validation.jsonl', mode='w') as writer:\n",
    "    for item in jsons_training:\n",
    "        writer.write(item)"
   ],
   "id": "1820c7b3ccb64486",
   "outputs": [],
   "execution_count": null
  },
  {
   "metadata": {},
   "cell_type": "code",
   "source": "",
   "id": "b0d17cf68e6fbbd4",
   "outputs": [],
   "execution_count": null
  }
 ],
 "metadata": {
  "kernelspec": {
   "display_name": "Python 3",
   "language": "python",
   "name": "python3"
  },
  "language_info": {
   "codemirror_mode": {
    "name": "ipython",
    "version": 2
   },
   "file_extension": ".py",
   "mimetype": "text/x-python",
   "name": "python",
   "nbconvert_exporter": "python",
   "pygments_lexer": "ipython2",
   "version": "2.7.6"
  }
 },
 "nbformat": 4,
 "nbformat_minor": 5
}
